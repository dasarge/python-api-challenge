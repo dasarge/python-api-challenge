{
 "cells": [
  {
   "cell_type": "markdown",
   "metadata": {},
   "source": [
    "# WeatherPy\n",
    "----\n",
    "\n",
    "#### Note\n",
    "* Instructions have been included for each segment. You do not have to follow them exactly, but they are included to help you think through the steps."
   ]
  },
  {
   "cell_type": "code",
   "execution_count": 5,
   "metadata": {
    "scrolled": true
   },
   "outputs": [],
   "source": [
    "# Dependencies and Setup\n",
    "import matplotlib.pyplot as plt\n",
    "import pandas as pd\n",
    "import numpy as np\n",
    "import requests\n",
    "import time\n",
    "import scipy.stats as st\n",
    "from scipy.stats import linregress\n",
    "#from sklearn import datasets\n",
    "\n",
    "\n",
    "\n",
    "# Import API key\n",
    "from api_keys import weather_api_key\n",
    "\n",
    "# Incorporated citipy to determine city based on latitude and longitude\n",
    "from citipy import citipy\n",
    "\n",
    "# Output File (CSV)\n",
    "output_data_file = (\"../3_output_data/output_data/cities.csv\")\n",
    "\n",
    "# Range of latitudes and longitudes\n",
    "lat_range = (-90, 90)\n",
    "lng_range = (-180, 180)"
   ]
  },
  {
   "cell_type": "markdown",
   "metadata": {},
   "source": [
    "## Generate Cities List"
   ]
  },
  {
   "cell_type": "code",
   "execution_count": 6,
   "metadata": {},
   "outputs": [
    {
     "data": {
      "text/plain": [
       "607"
      ]
     },
     "execution_count": 6,
     "metadata": {},
     "output_type": "execute_result"
    }
   ],
   "source": [
    "# List for holding lat_lngs and cities\n",
    "lat_lngs = []\n",
    "cities = []\n",
    "\n",
    "# Create a set of random lat and lng combinations\n",
    "lats = np.random.uniform(lat_range[0], lat_range[1], size=1500)\n",
    "lngs = np.random.uniform(lng_range[0], lng_range[1], size=1500)\n",
    "lat_lngs = zip(lats, lngs)\n",
    "\n",
    "# Identify nearest city for each lat, lng combination\n",
    "for lat_lng in lat_lngs:\n",
    "    city = citipy.nearest_city(lat_lng[0], lat_lng[1]).city_name\n",
    "   \n",
    "    # If the city is unique, then add it to a our cities list\n",
    "    if city not in cities:\n",
    "        cities.append(city)\n",
    "\n",
    "# Print the city count to confirm sufficient count\n",
    "len(cities)"
   ]
  },
  {
   "cell_type": "markdown",
   "metadata": {},
   "source": [
    "### Perform API Calls\n",
    "* Perform a weather check on each city using a series of successive API calls.\n",
    "* Include a print log of each city as it'sbeing processed (with the city number and city name).\n"
   ]
  },
  {
   "cell_type": "code",
   "execution_count": 7,
   "metadata": {
    "scrolled": true
   },
   "outputs": [
    {
     "name": "stdout",
     "output_type": "stream",
     "text": [
      "http://api.openweathermap.org/data/2.5/weather?appid=03807ab851ea52cddd7b52d74fcab014&units=imperial&q=\n"
     ]
    }
   ],
   "source": [
    "url = \"http://api.openweathermap.org/data/2.5/weather?\"\n",
    "\n",
    "unit = \"imperial\"\n",
    "\n",
    "query_url = url + \"appid=\" + weather_api_key + \"&units=\" + unit + \"&q=\"\n",
    "\n",
    "print(query_url)\n",
    "\n"
   ]
  },
  {
   "cell_type": "code",
   "execution_count": 8,
   "metadata": {
    "scrolled": true
   },
   "outputs": [
    {
     "name": "stdout",
     "output_type": "stream",
     "text": [
      "\n",
      "-----------------------------\n",
      "Data Retrieval Begin\n",
      "-----------------------------\n",
      "\n",
      "Processing record 1 of set 1 | ribeira grande.\n",
      "Processing record 2 of set 1 | albany.\n",
      "Processing record 3 of set 1 | luleburgaz.\n",
      "not found\n",
      "Processing record 4 of set 1 | gat.\n",
      "Processing record 5 of set 1 | pevek.\n",
      "Processing record 6 of set 1 | cabo san lucas.\n",
      "Processing record 7 of set 1 | mataura.\n",
      "Processing record 8 of set 1 | pisco.\n",
      "Processing record 9 of set 1 | bredasdorp.\n",
      "not found\n",
      "Processing record 10 of set 1 | dabakala.\n",
      "not found\n",
      "Processing record 11 of set 1 | tarko-sale.\n",
      "not found\n",
      "Processing record 12 of set 1 | jibuti.\n",
      "Processing record 13 of set 1 | tevaitoa.\n",
      "Processing record 14 of set 1 | chokurdakh.\n",
      "Processing record 15 of set 1 | sesheke.\n",
      "Processing record 16 of set 1 | harper.\n",
      "Processing record 17 of set 1 | almeria.\n",
      "Processing record 18 of set 1 | oksfjord.\n",
      "Processing record 19 of set 1 | iskateley.\n",
      "Processing record 20 of set 1 | rikitea.\n",
      "Processing record 21 of set 1 | geraldton.\n",
      "Processing record 22 of set 1 | alofi.\n",
      "Processing record 23 of set 1 | nikolskoye.\n",
      "Processing record 24 of set 1 | leningradskiy.\n",
      "Processing record 25 of set 1 | ambunti.\n",
      "Processing record 26 of set 1 | tandil.\n",
      "Processing record 27 of set 1 | new norfolk.\n",
      "Processing record 28 of set 1 | komatipoort.\n",
      "Processing record 29 of set 1 | thompson.\n",
      "Processing record 30 of set 1 | ushuaia.\n",
      "not found\n",
      "Processing record 31 of set 1 | bollnas.\n",
      "Processing record 32 of set 1 | san patricio.\n",
      "Processing record 33 of set 1 | atar.\n",
      "Processing record 34 of set 1 | kudahuvadhoo.\n",
      "Processing record 35 of set 1 | sechura.\n",
      "Processing record 36 of set 1 | esperance.\n",
      "Processing record 37 of set 1 | klaksvik.\n",
      "Processing record 38 of set 1 | butaritari.\n",
      "Processing record 39 of set 1 | pochutla.\n",
      "Processing record 40 of set 1 | saint-philippe.\n",
      "Processing record 41 of set 1 | bengkulu.\n",
      "Processing record 42 of set 1 | nargana.\n",
      "Processing record 43 of set 1 | ilulissat.\n",
      "Processing record 44 of set 1 | padang.\n",
      "Processing record 45 of set 1 | bluff.\n",
      "Processing record 46 of set 1 | kapaa.\n",
      "Processing record 47 of set 1 | orichi.\n",
      "Processing record 48 of set 1 | saldanha.\n",
      "Processing record 49 of set 1 | arraial do cabo.\n",
      "Processing record 50 of set 1 | ust-maya.\n",
      "Processing record 1 of set 2 | villa carlos paz.\n",
      "Processing record 2 of set 2 | vaini.\n",
      "Processing record 3 of set 2 | atuona.\n",
      "Processing record 4 of set 2 | hilo.\n",
      "Processing record 5 of set 2 | dikson.\n",
      "not found\n",
      "Processing record 6 of set 2 | amapa.\n",
      "Processing record 7 of set 2 | tuatapere.\n",
      "Processing record 8 of set 2 | puerto ayora.\n",
      "Processing record 9 of set 2 | tasiilaq.\n",
      "Processing record 10 of set 2 | kaitangata.\n",
      "Processing record 11 of set 2 | victor harbor.\n",
      "Processing record 12 of set 2 | mahebourg.\n",
      "Processing record 13 of set 2 | nouadhibou.\n",
      "Processing record 14 of set 2 | lebu.\n",
      "Processing record 15 of set 2 | kodiak.\n",
      "Processing record 16 of set 2 | cape town.\n",
      "not found\n",
      "Processing record 17 of set 2 | zyryanovsk.\n",
      "Processing record 18 of set 2 | ancud.\n",
      "Processing record 19 of set 2 | punta arenas.\n",
      "Processing record 20 of set 2 | madimba.\n",
      "Processing record 21 of set 2 | alamos.\n",
      "Processing record 22 of set 2 | maitum.\n",
      "Processing record 23 of set 2 | avarua.\n",
      "Processing record 24 of set 2 | hobart.\n",
      "Processing record 25 of set 2 | bafq.\n",
      "Processing record 26 of set 2 | rabat.\n",
      "Processing record 27 of set 2 | sola.\n",
      "Processing record 28 of set 2 | fortuna.\n",
      "Processing record 29 of set 2 | abha.\n",
      "Processing record 30 of set 2 | busselton.\n",
      "Processing record 31 of set 2 | torbay.\n",
      "Processing record 32 of set 2 | port elizabeth.\n",
      "Processing record 33 of set 2 | santa rosa.\n",
      "Processing record 34 of set 2 | upernavik.\n",
      "Processing record 35 of set 2 | norman wells.\n",
      "Processing record 36 of set 2 | hamilton.\n",
      "Processing record 37 of set 2 | canhandugan.\n",
      "Processing record 38 of set 2 | roald.\n",
      "Processing record 39 of set 2 | castro.\n",
      "Processing record 40 of set 2 | troitsko-pechorsk.\n",
      "not found\n",
      "not found\n",
      "Processing record 41 of set 2 | sri aman.\n",
      "Processing record 42 of set 2 | hithadhoo.\n",
      "Processing record 43 of set 2 | karratha.\n",
      "Processing record 44 of set 2 | grand gaube.\n",
      "Processing record 45 of set 2 | vung tau.\n",
      "Processing record 46 of set 2 | rafraf.\n",
      "Processing record 47 of set 2 | qaanaaq.\n",
      "Processing record 48 of set 2 | husavik.\n",
      "Processing record 49 of set 2 | port alfred.\n",
      "not found\n",
      "Processing record 50 of set 2 | namibe.\n",
      "Processing record 1 of set 3 | jamestown.\n",
      "Processing record 2 of set 3 | brae.\n",
      "Processing record 3 of set 3 | victoria.\n",
      "Processing record 4 of set 3 | pyinmana.\n",
      "Processing record 5 of set 3 | gillette.\n",
      "Processing record 6 of set 3 | hermanus.\n",
      "Processing record 7 of set 3 | lorengau.\n",
      "Processing record 8 of set 3 | ende.\n",
      "Processing record 9 of set 3 | den helder.\n",
      "Processing record 10 of set 3 | yellowknife.\n",
      "Processing record 11 of set 3 | richards bay.\n",
      "Processing record 12 of set 3 | mar del plata.\n",
      "Processing record 13 of set 3 | rawson.\n",
      "Processing record 14 of set 3 | bambous virieux.\n",
      "Processing record 15 of set 3 | shizunai.\n",
      "Processing record 16 of set 3 | lagunas.\n",
      "Processing record 17 of set 3 | cidreira.\n",
      "Processing record 18 of set 3 | urucui.\n",
      "Processing record 19 of set 3 | rena.\n",
      "Processing record 20 of set 3 | kupang.\n",
      "Processing record 21 of set 3 | shahi.\n",
      "Processing record 22 of set 3 | orje.\n",
      "not found\n",
      "Processing record 23 of set 3 | tiksi.\n",
      "Processing record 24 of set 3 | ulaangom.\n",
      "Processing record 25 of set 3 | clyde river.\n",
      "Processing record 26 of set 3 | atasu.\n",
      "not found\n",
      "Processing record 27 of set 3 | berzunti.\n",
      "Processing record 28 of set 3 | parrita.\n",
      "Processing record 29 of set 3 | tuktoyaktuk.\n",
      "Processing record 30 of set 3 | fort nelson.\n",
      "Processing record 31 of set 3 | hoyerswerda.\n",
      "Processing record 32 of set 3 | klyuchi.\n",
      "Processing record 33 of set 3 | adrar.\n",
      "Processing record 34 of set 3 | malakal.\n",
      "Processing record 35 of set 3 | riyadh.\n",
      "Processing record 36 of set 3 | vestmannaeyjar.\n",
      "Processing record 37 of set 3 | constitucion.\n",
      "Processing record 38 of set 3 | georgetown.\n",
      "Processing record 39 of set 3 | mount gambier.\n",
      "Processing record 40 of set 3 | namatanai.\n",
      "Processing record 41 of set 3 | iqaluit.\n",
      "Processing record 42 of set 3 | amga.\n",
      "not found\n",
      "Processing record 43 of set 3 | tapah.\n",
      "Processing record 44 of set 3 | margate.\n",
      "Processing record 45 of set 3 | flin flon.\n",
      "Processing record 46 of set 3 | ulety.\n",
      "Processing record 47 of set 3 | bang sai.\n",
      "Processing record 48 of set 3 | east london.\n",
      "Processing record 49 of set 3 | narsaq.\n",
      "Processing record 50 of set 3 | talaya.\n",
      "Processing record 1 of set 4 | egvekinot.\n",
      "not found\n",
      "Processing record 2 of set 4 | portland.\n",
      "Processing record 3 of set 4 | keetmanshoop.\n",
      "Processing record 4 of set 4 | cuamba.\n",
      "not found\n",
      "Processing record 5 of set 4 | hazebrouck.\n",
      "Processing record 6 of set 4 | touros.\n",
      "Processing record 7 of set 4 | trabzon.\n",
      "Processing record 8 of set 4 | grindavik.\n",
      "Processing record 9 of set 4 | bud.\n",
      "Processing record 10 of set 4 | at-bashi.\n",
      "Processing record 11 of set 4 | tabuk.\n",
      "Processing record 12 of set 4 | matara.\n",
      "Processing record 13 of set 4 | tiarei.\n",
      "Processing record 14 of set 4 | severo-kurilsk.\n",
      "Processing record 15 of set 4 | palmer.\n",
      "Processing record 16 of set 4 | ahipara.\n",
      "Processing record 17 of set 4 | tortoli.\n",
      "Processing record 18 of set 4 | kavieng.\n",
      "Processing record 19 of set 4 | fairmont.\n",
      "Processing record 20 of set 4 | mecca.\n",
      "Processing record 21 of set 4 | chapais.\n",
      "Processing record 22 of set 4 | gryazovets.\n",
      "Processing record 23 of set 4 | souillac.\n",
      "Processing record 24 of set 4 | pacific grove.\n",
      "Processing record 25 of set 4 | lesnoy.\n",
      "Processing record 26 of set 4 | poum.\n",
      "Processing record 27 of set 4 | opuwo.\n",
      "Processing record 28 of set 4 | kurchum.\n",
      "Processing record 29 of set 4 | progreso.\n",
      "Processing record 30 of set 4 | cherskiy.\n",
      "Processing record 31 of set 4 | waipawa.\n",
      "Processing record 32 of set 4 | faya.\n",
      "Processing record 33 of set 4 | carnarvon.\n",
      "Processing record 34 of set 4 | chibombo.\n",
      "Processing record 35 of set 4 | aquiraz.\n",
      "Processing record 36 of set 4 | lugovoy.\n",
      "not found\n",
      "Processing record 37 of set 4 | portoferraio.\n",
      "Processing record 38 of set 4 | mabaruma.\n",
      "Processing record 39 of set 4 | gold coast.\n",
      "Processing record 40 of set 4 | te anau.\n",
      "Processing record 41 of set 4 | atambua.\n",
      "not found\n"
     ]
    },
    {
     "name": "stdout",
     "output_type": "stream",
     "text": [
      "Processing record 42 of set 4 | chuy.\n",
      "Processing record 43 of set 4 | dumraon.\n",
      "Processing record 44 of set 4 | berbera.\n",
      "Processing record 45 of set 4 | pontes e lacerda.\n",
      "Processing record 46 of set 4 | umm kaddadah.\n",
      "Processing record 47 of set 4 | linhares.\n",
      "Processing record 48 of set 4 | barrow.\n",
      "Processing record 49 of set 4 | raga.\n",
      "Processing record 50 of set 4 | kutum.\n",
      "Processing record 1 of set 5 | inirida.\n",
      "not found\n",
      "not found\n",
      "Processing record 2 of set 5 | nanortalik.\n",
      "Processing record 3 of set 5 | suntar.\n",
      "not found\n",
      "Processing record 4 of set 5 | airai.\n",
      "Processing record 5 of set 5 | junagadh.\n",
      "Processing record 6 of set 5 | sao gabriel da cachoeira.\n",
      "Processing record 7 of set 5 | los reyes.\n",
      "Processing record 8 of set 5 | hackettstown.\n",
      "Processing record 9 of set 5 | keti bandar.\n",
      "Processing record 10 of set 5 | puerto ayacucho.\n",
      "not found\n",
      "Processing record 11 of set 5 | inongo.\n",
      "Processing record 12 of set 5 | emerald.\n",
      "Processing record 13 of set 5 | antofagasta.\n",
      "Processing record 14 of set 5 | poso.\n",
      "Processing record 15 of set 5 | mancio lima.\n",
      "Processing record 16 of set 5 | pajapita.\n",
      "Processing record 17 of set 5 | atikokan.\n",
      "Processing record 18 of set 5 | iquique.\n",
      "Processing record 19 of set 5 | sakakah.\n",
      "Processing record 20 of set 5 | bethel.\n",
      "Processing record 21 of set 5 | bandarbeyla.\n",
      "Processing record 22 of set 5 | dingle.\n",
      "Processing record 23 of set 5 | la asuncion.\n",
      "Processing record 24 of set 5 | pangnirtung.\n",
      "Processing record 25 of set 5 | coari.\n",
      "Processing record 26 of set 5 | coruripe.\n",
      "Processing record 27 of set 5 | sangar.\n",
      "Processing record 28 of set 5 | batsfjord.\n",
      "Processing record 29 of set 5 | vila velha.\n",
      "Processing record 30 of set 5 | eureka.\n",
      "Processing record 31 of set 5 | luderitz.\n",
      "Processing record 32 of set 5 | fukue.\n",
      "Processing record 33 of set 5 | tual.\n",
      "Processing record 34 of set 5 | ucluelet.\n",
      "Processing record 35 of set 5 | henties bay.\n",
      "Processing record 36 of set 5 | tabou.\n",
      "Processing record 37 of set 5 | santo tomas.\n",
      "Processing record 38 of set 5 | longyearbyen.\n",
      "Processing record 39 of set 5 | rio cuarto.\n",
      "Processing record 40 of set 5 | iberia.\n",
      "Processing record 41 of set 5 | shingu.\n",
      "Processing record 42 of set 5 | sur.\n",
      "Processing record 43 of set 5 | kenai.\n",
      "not found\n",
      "Processing record 44 of set 5 | senneterre.\n",
      "Processing record 45 of set 5 | mazabuka.\n",
      "Processing record 46 of set 5 | coro.\n",
      "Processing record 47 of set 5 | sydney.\n",
      "Processing record 48 of set 5 | sistranda.\n",
      "Processing record 49 of set 5 | marawi.\n",
      "Processing record 50 of set 5 | qena.\n",
      "Processing record 1 of set 6 | coihaique.\n",
      "Processing record 2 of set 6 | hajdudorog.\n",
      "Processing record 3 of set 6 | tiznit.\n",
      "Processing record 4 of set 6 | cockburn town.\n",
      "Processing record 5 of set 6 | sumter.\n",
      "Processing record 6 of set 6 | lompoc.\n",
      "Processing record 7 of set 6 | havoysund.\n",
      "Processing record 8 of set 6 | ponta do sol.\n",
      "Processing record 9 of set 6 | son la.\n",
      "Processing record 10 of set 6 | ixtapa.\n",
      "Processing record 11 of set 6 | kalmunai.\n",
      "Processing record 12 of set 6 | catuday.\n",
      "Processing record 13 of set 6 | sao joao da barra.\n",
      "Processing record 14 of set 6 | rundu.\n",
      "Processing record 15 of set 6 | tonneins.\n",
      "Processing record 16 of set 6 | hinche.\n",
      "Processing record 17 of set 6 | broken hill.\n",
      "Processing record 18 of set 6 | codrington.\n",
      "Processing record 19 of set 6 | lixourion.\n",
      "Processing record 20 of set 6 | opunake.\n",
      "not found\n",
      "Processing record 21 of set 6 | arkhangelsk.\n",
      "Processing record 22 of set 6 | amberley.\n",
      "Processing record 23 of set 6 | lahij.\n",
      "Processing record 24 of set 6 | yerbogachen.\n",
      "Processing record 25 of set 6 | liaozhong.\n",
      "Processing record 26 of set 6 | havelock.\n",
      "Processing record 27 of set 6 | cascavel.\n",
      "Processing record 28 of set 6 | coquimbo.\n",
      "Processing record 29 of set 6 | sinnamary.\n",
      "Processing record 30 of set 6 | chitipa.\n",
      "Processing record 31 of set 6 | khatanga.\n",
      "Processing record 32 of set 6 | peterhead.\n",
      "not found\n",
      "Processing record 33 of set 6 | ostrovnoy.\n",
      "Processing record 34 of set 6 | seoul.\n",
      "Processing record 35 of set 6 | faanui.\n",
      "Processing record 36 of set 6 | yulara.\n",
      "Processing record 37 of set 6 | andenes.\n",
      "Processing record 38 of set 6 | islamkot.\n",
      "Processing record 39 of set 6 | port-gentil.\n",
      "Processing record 40 of set 6 | bisira.\n",
      "Processing record 41 of set 6 | wynyard.\n",
      "Processing record 42 of set 6 | porto novo.\n",
      "Processing record 43 of set 6 | vao.\n",
      "Processing record 44 of set 6 | krutikha.\n",
      "Processing record 45 of set 6 | goderich.\n",
      "Processing record 46 of set 6 | zhezkazgan.\n",
      "Processing record 47 of set 6 | isangel.\n",
      "Processing record 48 of set 6 | sorland.\n",
      "Processing record 49 of set 6 | saint george.\n",
      "Processing record 50 of set 6 | hasaki.\n",
      "Processing record 1 of set 7 | belaya gora.\n",
      "Processing record 2 of set 7 | novovasylivka.\n",
      "Processing record 3 of set 7 | la ronge.\n",
      "Processing record 4 of set 7 | falam.\n",
      "not found\n",
      "Processing record 5 of set 7 | mundo nuevo.\n",
      "Processing record 6 of set 7 | puerto leguizamo.\n",
      "Processing record 7 of set 7 | kieta.\n",
      "Processing record 8 of set 7 | mahanoro.\n",
      "Processing record 9 of set 7 | sitka.\n",
      "Processing record 10 of set 7 | oranjemund.\n",
      "Processing record 11 of set 7 | bonfim.\n",
      "Processing record 12 of set 7 | kadaura.\n",
      "Processing record 13 of set 7 | haines junction.\n",
      "Processing record 14 of set 7 | alindao.\n",
      "Processing record 15 of set 7 | gizo.\n",
      "Processing record 16 of set 7 | aksaray.\n",
      "Processing record 17 of set 7 | kruisfontein.\n",
      "Processing record 18 of set 7 | aksu.\n",
      "Processing record 19 of set 7 | morogoro.\n",
      "Processing record 20 of set 7 | shakiso.\n",
      "Processing record 21 of set 7 | takoradi.\n",
      "Processing record 22 of set 7 | chakia.\n",
      "Processing record 23 of set 7 | provideniya.\n",
      "Processing record 24 of set 7 | barranca.\n",
      "Processing record 25 of set 7 | abnub.\n",
      "Processing record 26 of set 7 | vyazemskiy.\n",
      "Processing record 27 of set 7 | stornoway.\n",
      "Processing record 28 of set 7 | hovd.\n",
      "Processing record 29 of set 7 | dharchula.\n",
      "Processing record 30 of set 7 | ngawi.\n",
      "Processing record 31 of set 7 | iwanai.\n",
      "Processing record 32 of set 7 | moindou.\n",
      "Processing record 33 of set 7 | altamira.\n",
      "not found\n",
      "not found\n",
      "Processing record 34 of set 7 | shakawe.\n",
      "Processing record 35 of set 7 | swan hill.\n",
      "Processing record 36 of set 7 | okhotsk.\n",
      "Processing record 37 of set 7 | quatre cocos.\n",
      "not found\n",
      "Processing record 38 of set 7 | deputatskiy.\n",
      "Processing record 39 of set 7 | les cayes.\n",
      "not found\n",
      "Processing record 40 of set 7 | kemijarvi.\n",
      "not found\n",
      "Processing record 41 of set 7 | sioux lookout.\n",
      "Processing record 42 of set 7 | olbia.\n",
      "Processing record 43 of set 7 | olafsvik.\n",
      "Processing record 44 of set 7 | asau.\n",
      "Processing record 45 of set 7 | beyneu.\n",
      "Processing record 46 of set 7 | lagoa.\n",
      "Processing record 47 of set 7 | verkhozim.\n",
      "Processing record 48 of set 7 | bilibino.\n",
      "Processing record 49 of set 7 | maniitsoq.\n",
      "not found\n",
      "Processing record 50 of set 7 | la primavera.\n",
      "Processing record 1 of set 8 | whitianga.\n",
      "Processing record 2 of set 8 | suluq.\n",
      "Processing record 3 of set 8 | estevan.\n",
      "Processing record 4 of set 8 | gushikawa.\n",
      "Processing record 5 of set 8 | tungor.\n",
      "not found\n",
      "Processing record 6 of set 8 | kem.\n",
      "Processing record 7 of set 8 | winneba.\n",
      "not found\n",
      "Processing record 8 of set 8 | bereda.\n",
      "Processing record 9 of set 8 | kloulklubed.\n",
      "Processing record 10 of set 8 | karakol.\n",
      "Processing record 11 of set 8 | el alto.\n",
      "Processing record 12 of set 8 | evensk.\n",
      "Processing record 13 of set 8 | dhemaji.\n",
      "Processing record 14 of set 8 | lalibela.\n",
      "Processing record 15 of set 8 | hammerfest.\n",
      "not found\n",
      "Processing record 16 of set 8 | graham.\n",
      "Processing record 17 of set 8 | skoghall.\n",
      "Processing record 18 of set 8 | canelli.\n",
      "Processing record 19 of set 8 | bor.\n",
      "Processing record 20 of set 8 | lakes entrance.\n",
      "Processing record 21 of set 8 | kavaratti.\n",
      "Processing record 22 of set 8 | bereznik.\n",
      "Processing record 23 of set 8 | orbetello.\n",
      "Processing record 24 of set 8 | nieuwpoort.\n",
      "Processing record 25 of set 8 | bambanglipuro.\n",
      "Processing record 26 of set 8 | srednekolymsk.\n",
      "Processing record 27 of set 8 | concordia.\n",
      "not found\n",
      "not found\n",
      "Processing record 28 of set 8 | solnechnyy.\n",
      "Processing record 29 of set 8 | walvis bay.\n",
      "Processing record 30 of set 8 | charters towers.\n",
      "Processing record 31 of set 8 | vagur.\n",
      "Processing record 32 of set 8 | acapulco.\n",
      "Processing record 33 of set 8 | hirara.\n"
     ]
    },
    {
     "name": "stdout",
     "output_type": "stream",
     "text": [
      "Processing record 34 of set 8 | fernie.\n",
      "Processing record 35 of set 8 | prado.\n",
      "Processing record 36 of set 8 | hobyo.\n",
      "Processing record 37 of set 8 | littleton.\n",
      "Processing record 38 of set 8 | kuito.\n",
      "Processing record 39 of set 8 | bilma.\n",
      "Processing record 40 of set 8 | bron.\n",
      "Processing record 41 of set 8 | baruun-urt.\n",
      "Processing record 42 of set 8 | itupiranga.\n",
      "Processing record 43 of set 8 | angoche.\n",
      "Processing record 44 of set 8 | prince rupert.\n",
      "Processing record 45 of set 8 | ulladulla.\n",
      "Processing record 46 of set 8 | villacarrillo.\n",
      "Processing record 47 of set 8 | qaqortoq.\n",
      "Processing record 48 of set 8 | dunedin.\n",
      "Processing record 49 of set 8 | santiago del estero.\n",
      "Processing record 50 of set 8 | zarate.\n",
      "Processing record 1 of set 9 | aykhal.\n",
      "Processing record 2 of set 9 | lakhdenpokhya.\n",
      "Processing record 3 of set 9 | vila.\n",
      "not found\n",
      "Processing record 4 of set 9 | petauke.\n",
      "Processing record 5 of set 9 | waitara.\n",
      "Processing record 6 of set 9 | belogorsk.\n",
      "Processing record 7 of set 9 | itaituba.\n",
      "Processing record 8 of set 9 | salalah.\n",
      "Processing record 9 of set 9 | najran.\n",
      "Processing record 10 of set 9 | varkaus.\n",
      "Processing record 11 of set 9 | key west.\n",
      "Processing record 12 of set 9 | qasigiannguit.\n",
      "Processing record 13 of set 9 | kaifeng.\n",
      "Processing record 14 of set 9 | cam ranh.\n",
      "Processing record 15 of set 9 | ruwi.\n",
      "Processing record 16 of set 9 | ambulu.\n",
      "Processing record 17 of set 9 | plettenberg bay.\n",
      "Processing record 18 of set 9 | usinsk.\n",
      "Processing record 19 of set 9 | rocha.\n",
      "Processing record 20 of set 9 | dubbo.\n",
      "Processing record 21 of set 9 | mweka.\n",
      "Processing record 22 of set 9 | san cristobal.\n",
      "Processing record 23 of set 9 | hadejia.\n",
      "Processing record 24 of set 9 | patiya.\n",
      "Processing record 25 of set 9 | comodoro rivadavia.\n",
      "Processing record 26 of set 9 | cabra.\n",
      "Processing record 27 of set 9 | dagda.\n",
      "Processing record 28 of set 9 | marion.\n",
      "Processing record 29 of set 9 | mina.\n",
      "not found\n",
      "Processing record 30 of set 9 | bulgan.\n",
      "Processing record 31 of set 9 | acarau.\n",
      "Processing record 32 of set 9 | moranbah.\n",
      "Processing record 33 of set 9 | sao filipe.\n",
      "Processing record 34 of set 9 | bardiyah.\n",
      "Processing record 35 of set 9 | talnakh.\n",
      "Processing record 36 of set 9 | terra nova.\n",
      "Processing record 37 of set 9 | placido de castro.\n",
      "Processing record 38 of set 9 | soverato.\n",
      "Processing record 39 of set 9 | juegang.\n",
      "Processing record 40 of set 9 | golynki.\n",
      "Processing record 41 of set 9 | bull savanna.\n",
      "Processing record 42 of set 9 | flinders.\n",
      "Processing record 43 of set 9 | watsa.\n",
      "Processing record 44 of set 9 | brive-la-gaillarde.\n",
      "Processing record 45 of set 9 | salinopolis.\n",
      "Processing record 46 of set 9 | gopalpur.\n",
      "not found\n",
      "Processing record 47 of set 9 | celestun.\n",
      "not found\n",
      "not found\n",
      "Processing record 48 of set 9 | litovko.\n",
      "Processing record 49 of set 9 | camana.\n",
      "not found\n",
      "Processing record 50 of set 9 | turukhansk.\n",
      "Processing record 1 of set 10 | basco.\n",
      "Processing record 2 of set 10 | xingcheng.\n",
      "Processing record 3 of set 10 | alta floresta.\n",
      "Processing record 4 of set 10 | koslan.\n",
      "Processing record 5 of set 10 | san quintin.\n",
      "Processing record 6 of set 10 | varanasi.\n",
      "Processing record 7 of set 10 | camacha.\n",
      "Processing record 8 of set 10 | hay river.\n",
      "Processing record 9 of set 10 | yumen.\n",
      "Processing record 10 of set 10 | dixon.\n",
      "Processing record 11 of set 10 | kashi.\n",
      "Processing record 12 of set 10 | sobolevo.\n",
      "Processing record 13 of set 10 | tacoronte.\n",
      "not found\n",
      "Processing record 14 of set 10 | tura.\n",
      "Processing record 15 of set 10 | hambantota.\n",
      "Processing record 16 of set 10 | amazar.\n",
      "Processing record 17 of set 10 | nuuk.\n",
      "Processing record 18 of set 10 | zhanaozen.\n",
      "not found\n",
      "Processing record 19 of set 10 | los llanos de aridane.\n",
      "Processing record 20 of set 10 | kamenka.\n",
      "Processing record 21 of set 10 | sambava.\n",
      "not found\n",
      "not found\n",
      "Processing record 22 of set 10 | la fria.\n",
      "Processing record 23 of set 10 | warmbad.\n",
      "Processing record 24 of set 10 | saint-francois.\n",
      "Processing record 25 of set 10 | nizhniy odes.\n",
      "Processing record 26 of set 10 | port lincoln.\n",
      "Processing record 27 of set 10 | kaspiysk.\n",
      "Processing record 28 of set 10 | kjollefjord.\n",
      "Processing record 29 of set 10 | beloha.\n",
      "not found\n",
      "Processing record 30 of set 10 | samarai.\n",
      "Processing record 31 of set 10 | mackay.\n",
      "Processing record 32 of set 10 | nizhniy kuranakh.\n",
      "Processing record 33 of set 10 | lavrentiya.\n",
      "Processing record 34 of set 10 | iskilip.\n",
      "Processing record 35 of set 10 | zelenyy bor.\n",
      "Processing record 36 of set 10 | mpanda.\n",
      "Processing record 37 of set 10 | zvishavane.\n",
      "Processing record 38 of set 10 | jalu.\n",
      "Processing record 39 of set 10 | tchibanga.\n",
      "Processing record 40 of set 10 | luanda.\n",
      "Processing record 41 of set 10 | sakhon nakhon.\n",
      "Processing record 42 of set 10 | hualmay.\n",
      "Processing record 43 of set 10 | pangai.\n",
      "Processing record 44 of set 10 | uglegorsk.\n",
      "Processing record 45 of set 10 | tanda.\n",
      "Processing record 46 of set 10 | rassvet.\n",
      "Processing record 47 of set 10 | black river.\n",
      "Processing record 48 of set 10 | praya.\n",
      "Processing record 49 of set 10 | nushki.\n",
      "Processing record 50 of set 10 | martapura.\n",
      "Processing record 1 of set 11 | christchurch.\n",
      "Processing record 2 of set 11 | kaeo.\n",
      "Processing record 3 of set 11 | chubbuck.\n",
      "Processing record 4 of set 11 | boden.\n",
      "Processing record 5 of set 11 | karasburg.\n",
      "Processing record 6 of set 11 | lagos.\n",
      "Processing record 7 of set 11 | beringovskiy.\n",
      "Processing record 8 of set 11 | komsomolskiy.\n",
      "Processing record 9 of set 11 | linxi.\n",
      "Processing record 10 of set 11 | howard springs.\n",
      "not found\n",
      "Processing record 11 of set 11 | hofn.\n",
      "Processing record 12 of set 11 | panguna.\n",
      "Processing record 13 of set 11 | vostok.\n",
      "Processing record 14 of set 11 | saint-pierre.\n",
      "Processing record 15 of set 11 | bathsheba.\n",
      "Processing record 16 of set 11 | altoona.\n",
      "Processing record 17 of set 11 | san policarpo.\n",
      "Processing record 18 of set 11 | okha.\n",
      "Processing record 19 of set 11 | nome.\n",
      "not found\n",
      "Processing record 20 of set 11 | kushmurun.\n",
      "Processing record 21 of set 11 | dalvik.\n",
      "Processing record 22 of set 11 | calvinia.\n",
      "Processing record 23 of set 11 | praia da vitoria.\n",
      "Processing record 24 of set 11 | port hardy.\n",
      "Processing record 25 of set 11 | santa isabel do rio negro.\n",
      "Processing record 26 of set 11 | bubaque.\n",
      "Processing record 27 of set 11 | gizeh.\n",
      "Processing record 28 of set 11 | maraba.\n",
      "Processing record 29 of set 11 | xai-xai.\n",
      "not found\n",
      "Processing record 30 of set 11 | arlit.\n",
      "Processing record 31 of set 11 | amapala.\n",
      "Processing record 32 of set 11 | saskylakh.\n",
      "not found\n",
      "Processing record 33 of set 11 | khandyga.\n",
      "Processing record 34 of set 11 | maiduguri.\n",
      "not found\n",
      "Processing record 35 of set 11 | quang ngai.\n",
      "Processing record 36 of set 11 | northam.\n",
      "Processing record 37 of set 11 | kodinar.\n",
      "Processing record 38 of set 11 | saint anthony.\n",
      "Processing record 39 of set 11 | merrill.\n",
      "not found\n",
      "Processing record 40 of set 11 | sabang.\n",
      "Processing record 41 of set 11 | sekoma.\n",
      "Processing record 42 of set 11 | manuk mangkaw.\n",
      "Processing record 43 of set 11 | arona.\n",
      "Processing record 44 of set 11 | melville.\n",
      "Processing record 45 of set 11 | ponazyrevo.\n",
      "Processing record 46 of set 11 | hami.\n",
      "Processing record 47 of set 11 | benghazi.\n",
      "Processing record 48 of set 11 | abu samrah.\n",
      "Processing record 49 of set 11 | puerto rondon.\n",
      "Processing record 50 of set 11 | chas.\n",
      "Processing record 1 of set 12 | aranos.\n",
      "Processing record 2 of set 12 | tsumeb.\n",
      "Processing record 3 of set 12 | santa cruz de la palma.\n",
      "Processing record 4 of set 12 | shellbrook.\n",
      "\n",
      "-----------------------------\n",
      "     Data Retrieval End\n",
      "-----------------------------\n"
     ]
    }
   ],
   "source": [
    "#number of Cities\n",
    "x = 0\n",
    "set = 1\n",
    "\n",
    "#Variables\n",
    "temp = []\n",
    "humd = []\n",
    "cloud = []\n",
    "wind_spd = []\n",
    "lat = []\n",
    "lon = []\n",
    "city_ = []\n",
    "city_no = []\n",
    "country = []\n",
    "max_t = []\n",
    "date = []\n",
    "\n",
    "\n",
    "print('''\n",
    "-----------------------------\n",
    "Data Retrieval Begin\n",
    "-----------------------------\n",
    "''')\n",
    "\n",
    "\n",
    "for city in cities:\n",
    "    try:\n",
    "        \n",
    "        city_data = (requests.get(query_url + city)).json()\n",
    "        city_.append(city_data[\"name\"])\n",
    "        country.append(city_data[\"sys\"][\"country\"])\n",
    "        date.append(city_data[\"dt\"])        \n",
    "        lat.append(city_data[\"coord\"][\"lat\"])\n",
    "        lon.append(city_data[\"coord\"][\"lon\"])        \n",
    "        temp.append(city_data[\"main\"][\"temp\"])\n",
    "        max_t.append(city_data[\"main\"][\"temp_max\"])\n",
    "        humd.append(city_data[\"main\"][\"humidity\"])\n",
    "        cloud.append(city_data[\"clouds\"][\"all\"])\n",
    "        wind_spd.append(city_data[\"wind\"][\"speed\"])\n",
    "\n",
    "        \n",
    "        if x == 50:\n",
    "            x = 1\n",
    "            set += 1\n",
    "            time.sleep(30)\n",
    "            \n",
    "        else:\n",
    "            x += 1\n",
    "        \n",
    "        print(f\"Processing record {x} of set {set} | {city}.\")\n",
    " \n",
    "    except KeyError:\n",
    "        print(\"not found\")\n",
    "        \n",
    "print('''\n",
    "-----------------------------\n",
    "     Data Retrieval End\n",
    "-----------------------------''')\n"
   ]
  },
  {
   "cell_type": "code",
   "execution_count": 26,
   "metadata": {},
   "outputs": [
    {
     "data": {
      "text/plain": [
       "554"
      ]
     },
     "execution_count": 26,
     "metadata": {},
     "output_type": "execute_result"
    }
   ],
   "source": [
    "len(city_)"
   ]
  },
  {
   "cell_type": "markdown",
   "metadata": {},
   "source": [
    "### Convert Raw Data to DataFrame\n",
    "* Export the city data into a .csv.\n",
    "* Display the DataFrame"
   ]
  },
  {
   "cell_type": "code",
   "execution_count": 28,
   "metadata": {
    "scrolled": false
   },
   "outputs": [
    {
     "data": {
      "text/plain": [
       "city_name     554\n",
       "country       554\n",
       "date          554\n",
       "latitude      554\n",
       "longitude     554\n",
       "temp          554\n",
       "humidity      554\n",
       "cloudiness    554\n",
       "wind_speed    554\n",
       "dtype: int64"
      ]
     },
     "execution_count": 28,
     "metadata": {},
     "output_type": "execute_result"
    }
   ],
   "source": [
    "# summary_grouped_df = pd.DataFrame({'Mean Tumor Volume (mm3)': tumor_mean, 'Median Tumor Volume (mm3)': tumor_median, 'Variance Tumor Volume (mm3)': tumor_var,\n",
    "#                                    'Standard Deviation Tumor Volume (mm3)': tumor_std, 'SEM Tumor Volume (mm3)': tumor_sem})\n",
    "\n",
    "\n",
    "# summary_grouped_df = pd.DataFrame({\"City\": city_, \"Lat\": lat, \"Lng\": lon, \"Max Temp\": max_t, \"Humidity\": humd, \"Cloudiness\": cloud, \"Wind Speed\": wind_spd, \"date\": date})\n",
    "\n",
    "city_dict = {\n",
    "    \"city_name\": city_, \n",
    "    \"country\": country, \n",
    "    \"date\": date,\n",
    "    \"latitude\": lat, \n",
    "    \"longitude\": lon, \n",
    "    \"temp\": max_t, \n",
    "    \"humidity\": humd, \n",
    "    \"cloudiness\": cloud, \n",
    "    \"wind_speed\": wind_spd  \n",
    "}\n",
    "\n",
    "city_data_df = pd.DataFrame(city_dict)\n",
    "\n",
    "city_data_df.count()"
   ]
  },
  {
   "cell_type": "code",
   "execution_count": 29,
   "metadata": {},
   "outputs": [],
   "source": [
    "#date"
   ]
  },
  {
   "cell_type": "code",
   "execution_count": 30,
   "metadata": {},
   "outputs": [
    {
     "data": {
      "text/html": [
       "<div>\n",
       "<style scoped>\n",
       "    .dataframe tbody tr th:only-of-type {\n",
       "        vertical-align: middle;\n",
       "    }\n",
       "\n",
       "    .dataframe tbody tr th {\n",
       "        vertical-align: top;\n",
       "    }\n",
       "\n",
       "    .dataframe thead th {\n",
       "        text-align: right;\n",
       "    }\n",
       "</style>\n",
       "<table border=\"1\" class=\"dataframe\">\n",
       "  <thead>\n",
       "    <tr style=\"text-align: right;\">\n",
       "      <th></th>\n",
       "      <th>city_name</th>\n",
       "      <th>country</th>\n",
       "      <th>date</th>\n",
       "      <th>latitude</th>\n",
       "      <th>longitude</th>\n",
       "      <th>temp</th>\n",
       "      <th>humidity</th>\n",
       "      <th>cloudiness</th>\n",
       "      <th>wind_speed</th>\n",
       "    </tr>\n",
       "  </thead>\n",
       "  <tbody>\n",
       "    <tr>\n",
       "      <th>0</th>\n",
       "      <td>Ribeira Grande</td>\n",
       "      <td>PT</td>\n",
       "      <td>1612267405</td>\n",
       "      <td>38.5167</td>\n",
       "      <td>-28.7000</td>\n",
       "      <td>57.20</td>\n",
       "      <td>67</td>\n",
       "      <td>20</td>\n",
       "      <td>23.02</td>\n",
       "    </tr>\n",
       "    <tr>\n",
       "      <th>1</th>\n",
       "      <td>Albany</td>\n",
       "      <td>US</td>\n",
       "      <td>1612267206</td>\n",
       "      <td>42.6001</td>\n",
       "      <td>-73.9662</td>\n",
       "      <td>26.01</td>\n",
       "      <td>86</td>\n",
       "      <td>100</td>\n",
       "      <td>1.01</td>\n",
       "    </tr>\n",
       "    <tr>\n",
       "      <th>2</th>\n",
       "      <td>Lüleburgaz</td>\n",
       "      <td>TR</td>\n",
       "      <td>1612267405</td>\n",
       "      <td>41.4039</td>\n",
       "      <td>27.3592</td>\n",
       "      <td>55.40</td>\n",
       "      <td>82</td>\n",
       "      <td>75</td>\n",
       "      <td>6.91</td>\n",
       "    </tr>\n",
       "    <tr>\n",
       "      <th>3</th>\n",
       "      <td>Kiryat Gat</td>\n",
       "      <td>IL</td>\n",
       "      <td>1612267406</td>\n",
       "      <td>31.6100</td>\n",
       "      <td>34.7642</td>\n",
       "      <td>78.01</td>\n",
       "      <td>41</td>\n",
       "      <td>0</td>\n",
       "      <td>3.00</td>\n",
       "    </tr>\n",
       "    <tr>\n",
       "      <th>4</th>\n",
       "      <td>Pevek</td>\n",
       "      <td>RU</td>\n",
       "      <td>1612267406</td>\n",
       "      <td>69.7008</td>\n",
       "      <td>170.3133</td>\n",
       "      <td>6.49</td>\n",
       "      <td>92</td>\n",
       "      <td>100</td>\n",
       "      <td>7.25</td>\n",
       "    </tr>\n",
       "  </tbody>\n",
       "</table>\n",
       "</div>"
      ],
      "text/plain": [
       "        city_name country        date  latitude  longitude   temp  humidity  \\\n",
       "0  Ribeira Grande      PT  1612267405   38.5167   -28.7000  57.20        67   \n",
       "1          Albany      US  1612267206   42.6001   -73.9662  26.01        86   \n",
       "2      Lüleburgaz      TR  1612267405   41.4039    27.3592  55.40        82   \n",
       "3      Kiryat Gat      IL  1612267406   31.6100    34.7642  78.01        41   \n",
       "4           Pevek      RU  1612267406   69.7008   170.3133   6.49        92   \n",
       "\n",
       "   cloudiness  wind_speed  \n",
       "0          20       23.02  \n",
       "1         100        1.01  \n",
       "2          75        6.91  \n",
       "3           0        3.00  \n",
       "4         100        7.25  "
      ]
     },
     "execution_count": 30,
     "metadata": {},
     "output_type": "execute_result"
    }
   ],
   "source": [
    "city_data_df.head()"
   ]
  },
  {
   "cell_type": "code",
   "execution_count": 31,
   "metadata": {
    "scrolled": true
   },
   "outputs": [],
   "source": [
    "#city_data_df.count()"
   ]
  },
  {
   "cell_type": "code",
   "execution_count": 32,
   "metadata": {},
   "outputs": [],
   "source": [
    "# Save city data into a csv file\n",
    "city_data_df.to_csv(\"../3_output_data/cities.csv\", index = False)\n"
   ]
  },
  {
   "cell_type": "code",
   "execution_count": 33,
   "metadata": {},
   "outputs": [
    {
     "data": {
      "text/plain": [
       "554"
      ]
     },
     "execution_count": 33,
     "metadata": {},
     "output_type": "execute_result"
    }
   ],
   "source": [
    "len(city_data_df)"
   ]
  },
  {
   "cell_type": "markdown",
   "metadata": {},
   "source": [
    "## Inspect the data and remove the cities where the humidity > 100%.\n",
    "----\n",
    "Skip this step if there are no cities that have humidity > 100%. "
   ]
  },
  {
   "cell_type": "code",
   "execution_count": 81,
   "metadata": {
    "scrolled": true
   },
   "outputs": [
    {
     "data": {
      "text/html": [
       "<div>\n",
       "<style scoped>\n",
       "    .dataframe tbody tr th:only-of-type {\n",
       "        vertical-align: middle;\n",
       "    }\n",
       "\n",
       "    .dataframe tbody tr th {\n",
       "        vertical-align: top;\n",
       "    }\n",
       "\n",
       "    .dataframe thead th {\n",
       "        text-align: right;\n",
       "    }\n",
       "</style>\n",
       "<table border=\"1\" class=\"dataframe\">\n",
       "  <thead>\n",
       "    <tr style=\"text-align: right;\">\n",
       "      <th></th>\n",
       "      <th>city_name</th>\n",
       "      <th>country</th>\n",
       "      <th>date</th>\n",
       "      <th>latitude</th>\n",
       "      <th>longitude</th>\n",
       "      <th>temp</th>\n",
       "      <th>humidity</th>\n",
       "      <th>cloudiness</th>\n",
       "      <th>wind_speed</th>\n",
       "    </tr>\n",
       "  </thead>\n",
       "  <tbody>\n",
       "    <tr>\n",
       "      <th>77</th>\n",
       "      <td>Fortuna</td>\n",
       "      <td>US</td>\n",
       "      <td>1612267447</td>\n",
       "      <td>40.5982</td>\n",
       "      <td>-124.1573</td>\n",
       "      <td>48.00</td>\n",
       "      <td>100</td>\n",
       "      <td>90</td>\n",
       "      <td>4.90</td>\n",
       "    </tr>\n",
       "    <tr>\n",
       "      <th>119</th>\n",
       "      <td>Kupang</td>\n",
       "      <td>ID</td>\n",
       "      <td>1612267483</td>\n",
       "      <td>-10.1667</td>\n",
       "      <td>123.5833</td>\n",
       "      <td>77.00</td>\n",
       "      <td>100</td>\n",
       "      <td>40</td>\n",
       "      <td>5.75</td>\n",
       "    </tr>\n",
       "    <tr>\n",
       "      <th>135</th>\n",
       "      <td>Vestmannaeyjar</td>\n",
       "      <td>IS</td>\n",
       "      <td>1612267346</td>\n",
       "      <td>63.4427</td>\n",
       "      <td>-20.2734</td>\n",
       "      <td>33.80</td>\n",
       "      <td>100</td>\n",
       "      <td>90</td>\n",
       "      <td>31.07</td>\n",
       "    </tr>\n",
       "    <tr>\n",
       "      <th>170</th>\n",
       "      <td>Chapais</td>\n",
       "      <td>CA</td>\n",
       "      <td>1612267522</td>\n",
       "      <td>49.7834</td>\n",
       "      <td>-74.8492</td>\n",
       "      <td>19.40</td>\n",
       "      <td>100</td>\n",
       "      <td>90</td>\n",
       "      <td>5.75</td>\n",
       "    </tr>\n",
       "    <tr>\n",
       "      <th>188</th>\n",
       "      <td>Gold Coast</td>\n",
       "      <td>AU</td>\n",
       "      <td>1612267521</td>\n",
       "      <td>-28.0000</td>\n",
       "      <td>153.4333</td>\n",
       "      <td>71.01</td>\n",
       "      <td>100</td>\n",
       "      <td>75</td>\n",
       "      <td>4.61</td>\n",
       "    </tr>\n",
       "    <tr>\n",
       "      <th>203</th>\n",
       "      <td>Airai</td>\n",
       "      <td>TL</td>\n",
       "      <td>1612267557</td>\n",
       "      <td>-8.9266</td>\n",
       "      <td>125.4092</td>\n",
       "      <td>62.31</td>\n",
       "      <td>100</td>\n",
       "      <td>98</td>\n",
       "      <td>1.70</td>\n",
       "    </tr>\n",
       "    <tr>\n",
       "      <th>207</th>\n",
       "      <td>Hackettstown</td>\n",
       "      <td>US</td>\n",
       "      <td>1612267514</td>\n",
       "      <td>40.8540</td>\n",
       "      <td>-74.8291</td>\n",
       "      <td>30.99</td>\n",
       "      <td>100</td>\n",
       "      <td>100</td>\n",
       "      <td>3.44</td>\n",
       "    </tr>\n",
       "    <tr>\n",
       "      <th>289</th>\n",
       "      <td>Bisira</td>\n",
       "      <td>PA</td>\n",
       "      <td>1612267601</td>\n",
       "      <td>8.5196</td>\n",
       "      <td>-81.7115</td>\n",
       "      <td>59.09</td>\n",
       "      <td>100</td>\n",
       "      <td>97</td>\n",
       "      <td>7.70</td>\n",
       "    </tr>\n",
       "    <tr>\n",
       "      <th>297</th>\n",
       "      <td>Sørland</td>\n",
       "      <td>NO</td>\n",
       "      <td>1612267603</td>\n",
       "      <td>67.6670</td>\n",
       "      <td>12.6934</td>\n",
       "      <td>28.40</td>\n",
       "      <td>100</td>\n",
       "      <td>75</td>\n",
       "      <td>3.44</td>\n",
       "    </tr>\n",
       "    <tr>\n",
       "      <th>331</th>\n",
       "      <td>Moindou</td>\n",
       "      <td>NC</td>\n",
       "      <td>1612267638</td>\n",
       "      <td>-21.6924</td>\n",
       "      <td>165.6770</td>\n",
       "      <td>71.60</td>\n",
       "      <td>100</td>\n",
       "      <td>75</td>\n",
       "      <td>16.11</td>\n",
       "    </tr>\n",
       "    <tr>\n",
       "      <th>346</th>\n",
       "      <td>Verkhozim</td>\n",
       "      <td>RU</td>\n",
       "      <td>1612267640</td>\n",
       "      <td>52.7122</td>\n",
       "      <td>45.4180</td>\n",
       "      <td>28.15</td>\n",
       "      <td>99</td>\n",
       "      <td>100</td>\n",
       "      <td>8.05</td>\n",
       "    </tr>\n",
       "    <tr>\n",
       "      <th>365</th>\n",
       "      <td>Graham</td>\n",
       "      <td>US</td>\n",
       "      <td>1612267522</td>\n",
       "      <td>47.0529</td>\n",
       "      <td>-122.2943</td>\n",
       "      <td>43.00</td>\n",
       "      <td>100</td>\n",
       "      <td>90</td>\n",
       "      <td>6.42</td>\n",
       "    </tr>\n",
       "    <tr>\n",
       "      <th>376</th>\n",
       "      <td>Concordia</td>\n",
       "      <td>AR</td>\n",
       "      <td>1612267675</td>\n",
       "      <td>-31.3930</td>\n",
       "      <td>-58.0209</td>\n",
       "      <td>70.00</td>\n",
       "      <td>100</td>\n",
       "      <td>75</td>\n",
       "      <td>5.75</td>\n",
       "    </tr>\n",
       "    <tr>\n",
       "      <th>406</th>\n",
       "      <td>Itaituba</td>\n",
       "      <td>BR</td>\n",
       "      <td>1612267568</td>\n",
       "      <td>-4.2761</td>\n",
       "      <td>-55.9836</td>\n",
       "      <td>77.00</td>\n",
       "      <td>100</td>\n",
       "      <td>40</td>\n",
       "      <td>4.05</td>\n",
       "    </tr>\n",
       "    <tr>\n",
       "      <th>523</th>\n",
       "      <td>Port Hardy</td>\n",
       "      <td>CA</td>\n",
       "      <td>1612267788</td>\n",
       "      <td>50.6996</td>\n",
       "      <td>-127.4199</td>\n",
       "      <td>42.80</td>\n",
       "      <td>100</td>\n",
       "      <td>75</td>\n",
       "      <td>5.75</td>\n",
       "    </tr>\n",
       "  </tbody>\n",
       "</table>\n",
       "</div>"
      ],
      "text/plain": [
       "          city_name country        date  latitude  longitude   temp  humidity  \\\n",
       "77          Fortuna      US  1612267447   40.5982  -124.1573  48.00       100   \n",
       "119          Kupang      ID  1612267483  -10.1667   123.5833  77.00       100   \n",
       "135  Vestmannaeyjar      IS  1612267346   63.4427   -20.2734  33.80       100   \n",
       "170         Chapais      CA  1612267522   49.7834   -74.8492  19.40       100   \n",
       "188      Gold Coast      AU  1612267521  -28.0000   153.4333  71.01       100   \n",
       "203           Airai      TL  1612267557   -8.9266   125.4092  62.31       100   \n",
       "207    Hackettstown      US  1612267514   40.8540   -74.8291  30.99       100   \n",
       "289          Bisira      PA  1612267601    8.5196   -81.7115  59.09       100   \n",
       "297         Sørland      NO  1612267603   67.6670    12.6934  28.40       100   \n",
       "331         Moindou      NC  1612267638  -21.6924   165.6770  71.60       100   \n",
       "346       Verkhozim      RU  1612267640   52.7122    45.4180  28.15        99   \n",
       "365          Graham      US  1612267522   47.0529  -122.2943  43.00       100   \n",
       "376       Concordia      AR  1612267675  -31.3930   -58.0209  70.00       100   \n",
       "406        Itaituba      BR  1612267568   -4.2761   -55.9836  77.00       100   \n",
       "523      Port Hardy      CA  1612267788   50.6996  -127.4199  42.80       100   \n",
       "\n",
       "     cloudiness  wind_speed  \n",
       "77           90        4.90  \n",
       "119          40        5.75  \n",
       "135          90       31.07  \n",
       "170          90        5.75  \n",
       "188          75        4.61  \n",
       "203          98        1.70  \n",
       "207         100        3.44  \n",
       "289          97        7.70  \n",
       "297          75        3.44  \n",
       "331          75       16.11  \n",
       "346         100        8.05  \n",
       "365          90        6.42  \n",
       "376          75        5.75  \n",
       "406          40        4.05  \n",
       "523          75        5.75  "
      ]
     },
     "execution_count": 81,
     "metadata": {},
     "output_type": "execute_result"
    }
   ],
   "source": [
    "#  Get the indices of cities that have humidity over 100%.\n",
    "\n",
    "city_data_humidity_df = city_data_df.loc[city_data_df[\"humidity\"] >= 99]\n",
    "\n",
    "#d2 = city_data_df.drop(city_data_df.loc[city_data_df[\"Humidity\"]>=93].index, inplace=True)\n",
    "\n",
    "city_data_humidity_df"
   ]
  },
  {
   "cell_type": "code",
   "execution_count": 35,
   "metadata": {},
   "outputs": [
    {
     "data": {
      "text/plain": [
       "15"
      ]
     },
     "execution_count": 35,
     "metadata": {},
     "output_type": "execute_result"
    }
   ],
   "source": [
    "len(city_data_humidity_df)"
   ]
  },
  {
   "cell_type": "code",
   "execution_count": 50,
   "metadata": {},
   "outputs": [
    {
     "name": "stdout",
     "output_type": "stream",
     "text": [
      "<class 'pandas.core.frame.DataFrame'>\n",
      "Int64Index: 15 entries, 77 to 523\n",
      "Data columns (total 9 columns):\n",
      " #   Column      Non-Null Count  Dtype  \n",
      "---  ------      --------------  -----  \n",
      " 0   city_name   15 non-null     object \n",
      " 1   country     15 non-null     object \n",
      " 2   date        15 non-null     int64  \n",
      " 3   latitude    15 non-null     float64\n",
      " 4   longitude   15 non-null     float64\n",
      " 5   temp        15 non-null     float64\n",
      " 6   humidity    15 non-null     int64  \n",
      " 7   cloudiness  15 non-null     int64  \n",
      " 8   wind_speed  15 non-null     float64\n",
      "dtypes: float64(4), int64(3), object(2)\n",
      "memory usage: 1.2+ KB\n"
     ]
    }
   ],
   "source": [
    "city_data_humidity_df.info(\n",
    ")"
   ]
  },
  {
   "cell_type": "code",
   "execution_count": 36,
   "metadata": {},
   "outputs": [],
   "source": [
    "# Make a new DataFrame equal to the city data to drop all humidity outliers by index.\n",
    "# Passing \"inplace=False\" will make a copy of the city_data DataFrame, which we call \"clean_city_data\".\n",
    "#df.drop(df.loc[df['line_race']==0].index, inplace=True)\n"
   ]
  },
  {
   "cell_type": "code",
   "execution_count": 37,
   "metadata": {},
   "outputs": [
    {
     "data": {
      "text/plain": [
       "15"
      ]
     },
     "execution_count": 37,
     "metadata": {},
     "output_type": "execute_result"
    }
   ],
   "source": [
    "len(city_data_humidity_df)\n"
   ]
  },
  {
   "cell_type": "markdown",
   "metadata": {},
   "source": [
    "## Plotting the Data\n",
    "* Use proper labeling of the plots using plot titles (including date of analysis) and axes labels.\n",
    "* Save the plotted figures as .pngs."
   ]
  },
  {
   "cell_type": "markdown",
   "metadata": {},
   "source": [
    "## Latitude vs. Temperature Plot"
   ]
  },
  {
   "cell_type": "code",
   "execution_count": 39,
   "metadata": {
    "scrolled": true
   },
   "outputs": [
    {
     "data": {
      "image/png": "[encoded data removed]",
      "text/plain": [
       "<Figure size 432x288 with 1 Axes>"
      ]
     },
     "metadata": {
      "needs_background": "light"
     },
     "output_type": "display_data"
    }
   ],
   "source": [
    "# Build a scatter plot for each data type\n",
    "plt.scatter(city_data_df[\"latitude\"], city_data_df[\"temp\"], marker=\"o\")\n",
    "# Incorporate the other graph properties\n",
    "plt.title(f'City Latitude vs. Max Temperature {time.strftime(\"%m/%d/%Y\")}')\n",
    "plt.ylabel(\"Temperature (F)\")\n",
    "plt.xlabel(\"Latitude\")\n",
    "plt.grid(True)\n",
    "# Save the figure\n",
    "plt.savefig(\"../3_output_data/City Latitude vs. Max Temperature.png\")\n",
    "# Show plot\n",
    "plt.show()\n"
   ]
  },
  {
   "cell_type": "markdown",
   "metadata": {},
   "source": [
    "## Latitude vs. Humidity Plot"
   ]
  },
  {
   "cell_type": "code",
   "execution_count": 40,
   "metadata": {},
   "outputs": [
    {
     "data": {
      "image/png": "[encoded data removed]",
      "text/plain": [
       "<Figure size 432x288 with 1 Axes>"
      ]
     },
     "metadata": {
      "needs_background": "light"
     },
     "output_type": "display_data"
    }
   ],
   "source": [
    "# Build a scatter plot for each data type\n",
    "plt.scatter(city_data_df[\"latitude\"], city_data_df[\"humidity\"], marker=\"o\")\n",
    "# Incorporate the other graph properties\n",
    "plt.title(f'City Latitude vs. Humidity {time.strftime(\"%m/%d/%Y\")}')\n",
    "plt.ylabel(\"Humidity (%)\")\n",
    "plt.xlabel(\"Latitude\")\n",
    "plt.grid(True)\n",
    "# Save the figure\n",
    "plt.savefig(\"../3_output_data/City Latitude vs. Humidity.png\")\n",
    "# Show plot\n",
    "plt.show()"
   ]
  },
  {
   "cell_type": "markdown",
   "metadata": {},
   "source": [
    "## Latitude vs. Cloudiness Plot"
   ]
  },
  {
   "cell_type": "code",
   "execution_count": 41,
   "metadata": {},
   "outputs": [
    {
     "data": {
      "image/png": "[encoded data removed]",
      "text/plain": [
       "<Figure size 432x288 with 1 Axes>"
      ]
     },
     "metadata": {
      "needs_background": "light"
     },
     "output_type": "display_data"
    }
   ],
   "source": [
    "# Build a scatter plot for each data type\n",
    "plt.scatter(city_data_df[\"latitude\"], city_data_df[\"cloudiness\"], marker=\"o\")\n",
    "# Incorporate the other graph properties\n",
    "plt.title(f'City Latitude vs. Cloudiness {time.strftime(\"%m/%d/%Y\")}')\n",
    "plt.ylabel(\"Cloudiness (%)\")\n",
    "plt.xlabel(\"Latitude\")\n",
    "plt.grid(True)\n",
    "# Save the figure\n",
    "plt.savefig(\"../3_output_data/City Latitude vs. Cloudiness.png\")\n",
    "# Show plot"
   ]
  },
  {
   "cell_type": "markdown",
   "metadata": {},
   "source": [
    "## Latitude vs. Wind Speed Plot"
   ]
  },
  {
   "cell_type": "code",
   "execution_count": 42,
   "metadata": {
    "scrolled": true
   },
   "outputs": [
    {
     "data": {
      "image/png": "[encoded data removed]",
      "text/plain": [
       "<Figure size 432x288 with 1 Axes>"
      ]
     },
     "metadata": {
      "needs_background": "light"
     },
     "output_type": "display_data"
    }
   ],
   "source": [
    "# Build a scatter plot for each data type\n",
    "plt.scatter(city_data_df[\"latitude\"], city_data_df[\"wind_speed\"], marker=\"o\")\n",
    "# Incorporate the other graph properties\n",
    "plt.title(f'City Latitude vs. Wind Speed {time.strftime(\"%m/%d/%Y\")}')\n",
    "plt.ylabel(\"Wind Speed (MPH)\")\n",
    "plt.xlabel(\"Latitude\")\n",
    "plt.grid(True)\n",
    "\n",
    "\n",
    "\n",
    "# Save the figure\n",
    "plt.savefig(\"../3_output_data/City Latitude vs. Wind Speed.png\")\n",
    "# Show plot"
   ]
  },
  {
   "cell_type": "markdown",
   "metadata": {},
   "source": [
    "## Linear Regression"
   ]
  },
  {
   "cell_type": "code",
   "execution_count": 43,
   "metadata": {},
   "outputs": [],
   "source": [
    "# Create Northern and Southern Hemisphere DataFrames\n",
    "northern_hemisphere = city_data_df.loc[city_data_df[\"latitude\"] >= 0]\n",
    "southern_hemisphere = city_data_df.loc[city_data_df[\"latitude\"] < 0]\n"
   ]
  },
  {
   "cell_type": "code",
   "execution_count": 54,
   "metadata": {},
   "outputs": [],
   "source": [
    "# Define function for creating linear agression and scatter plot\n",
    "def linear_agression(x,y):\n",
    "    rst = {round(st.pearsonr(x, y)[0],2)}\n",
    "    print(f\"The r-squared is : {round(st.pearsonr(x, y)[0],2)}\")\n",
    "    \n",
    "#     if float({round(st.pearsonr(x, y)[0],2)}) < -.5:\n",
    "#         print(\"There is a Strong Negative Correlation\")\n",
    "#     elif float({round(st.pearsonr(x, y)[0],2)}) < -.3 :\n",
    "#         print(\"There is a Negative Correlation\") \n",
    "#     elif float({round(st.pearsonr(x, y)[0],2)}) < .3 :\n",
    "#         print(\"There is a No Correlation\")\n",
    "#     elif float({round(st.pearsonr(x, y)[0],2)}) < .3 :\n",
    "#         print(\"There is a Positive Correlation\")    \n",
    "#     else:\n",
    "#         print(\"There is a Strong Positive Correlation\")\n",
    "    \n",
    "    (slope, intercept, rvalue, pvalue, stderr) = linregress(x, y)\n",
    "    regress_values = x * slope + intercept\n",
    "    line_eq = \"y = \" + str(round(slope,2)) + \"x + \" + str(round(intercept,2))\n",
    "    print(line_eq)\n",
    "    plt.scatter(x, y)\n",
    "    plt.plot(x,regress_values,\"r-\")\n",
    "    return line_eq\n",
    "    \n",
    "# Define a fuction for annotating\n",
    "def annotate(line_eq, a, b):\n",
    "    plt.annotate(line_eq,(a,b),fontsize=15,color=\"red\")\n",
    "\n"
   ]
  },
  {
   "cell_type": "markdown",
   "metadata": {},
   "source": [
    "####  Northern Hemisphere - Max Temp vs. Latitude Linear Regression"
   ]
  },
  {
   "cell_type": "code",
   "execution_count": 70,
   "metadata": {},
   "outputs": [
    {
     "name": "stdout",
     "output_type": "stream",
     "text": [
      "The r-squared is : -0.85\n",
      "y = -1.44x + 97.67\n",
      "Strong Negative Correlation between Max Temp and Latitude\n"
     ]
    },
    {
     "data": {
      "image/png": "[encoded data removed]",
      "text/plain": [
       "<Figure size 432x288 with 1 Axes>"
      ]
     },
     "metadata": {
      "needs_background": "light"
     },
     "output_type": "display_data"
    }
   ],
   "source": [
    "# Call an function #1\n",
    "equation = linear_agression(northern_hemisphere[\"latitude\"], northern_hemisphere[\"temp\"])\n",
    "# Call an function #2\n",
    "annotate(equation, 0, 20)\n",
    "# Set a title\n",
    "plt.title(f'Northern Hemisphere - Max Temp vs. Latitude Linear Regression {time.strftime(\"%m/%d/%Y\")}')\n",
    "print(f\"Strong Negative Correlation between Max Temp and Latitude\")\n",
    "# Set xlabel\n",
    "plt.xlabel(\"Latitude\")\n",
    "# Set ylabel\n",
    "plt.ylabel(\"Max Temp (F)\")\n",
    "\n",
    "# Save the figure\n",
    "plt.savefig(\"../3_output_data/Northern Hemisphere - Max Temp vs. Latitude Linear Regression.png\")"
   ]
  },
  {
   "cell_type": "markdown",
   "metadata": {},
   "source": [
    "####  Southern Hemisphere - Max Temp vs. Latitude Linear Regression"
   ]
  },
  {
   "cell_type": "code",
   "execution_count": 71,
   "metadata": {},
   "outputs": [
    {
     "name": "stdout",
     "output_type": "stream",
     "text": [
      "The r-squared is : 0.57\n",
      "y = 0.41x + 84.34\n",
      "Strong Positive Correlation between Max Temp and Latitude\n"
     ]
    },
    {
     "data": {
      "image/png": "[encoded data removed]",
      "text/plain": [
       "<Figure size 432x288 with 1 Axes>"
      ]
     },
     "metadata": {
      "needs_background": "light"
     },
     "output_type": "display_data"
    }
   ],
   "source": [
    "# Call an function #1\n",
    "equation = linear_agression(southern_hemisphere[\"latitude\"], southern_hemisphere[\"temp\"])\n",
    "# Call an function #2\n",
    "annotate(equation, 0, 75)\n",
    "# Set a title\n",
    "plt.title(f'Southern Hemisphere - Max Temp vs. Latitude Linear Regression {time.strftime(\"%m/%d/%Y\")}')\n",
    "print(f\"Strong Positive Correlation between Max Temp and Latitude\")\n",
    "# Set xlabel\n",
    "plt.xlabel(\"Latitude\")\n",
    "# Set ylabel\n",
    "plt.ylabel(\"Max Temp (F)\")\n",
    "\n",
    "# Save the figure\n",
    "plt.savefig(\"../3_output_data/Southern Hemisphere - Max Temp vs. Latitude Linear Regression.png\")"
   ]
  },
  {
   "cell_type": "markdown",
   "metadata": {},
   "source": [
    "####  Northern Hemisphere - Humidity (%) vs. Latitude Linear Regression"
   ]
  },
  {
   "cell_type": "code",
   "execution_count": 72,
   "metadata": {},
   "outputs": [
    {
     "name": "stdout",
     "output_type": "stream",
     "text": [
      "The r-squared is : 0.44\n",
      "y = 0.48x + 53.28\n",
      "Positive Correlation between Humidity and Latitude\n"
     ]
    },
    {
     "data": {
      "image/png": "[encoded data removed]",
      "text/plain": [
       "<Figure size 432x288 with 1 Axes>"
      ]
     },
     "metadata": {
      "needs_background": "light"
     },
     "output_type": "display_data"
    }
   ],
   "source": [
    "# Call an function #1\n",
    "equation = linear_agression(northern_hemisphere[\"latitude\"], northern_hemisphere[\"humidity\"])\n",
    "# Call an function #2\n",
    "annotate(equation, 0, 0)\n",
    "# Set a title\n",
    "plt.title(f'Northern Hemisphere - Humidity (%) vs. Latitude Linear Regression {time.strftime(\"%m/%d/%Y\")}')\n",
    "print(f\"Positive Correlation between Humidity and Latitude\")\n",
    "\n",
    "# Set xlabel\n",
    "plt.xlabel(\"Latitude\")\n",
    "# Set ylabel\n",
    "plt.ylabel(\"Humidity (%)\")\n",
    "\n",
    "# Save the figure\n",
    "plt.savefig(\"../3_output_data/Northern Hemisphere - Humidity vs. Latitude Linear Regression.png\")"
   ]
  },
  {
   "cell_type": "markdown",
   "metadata": {},
   "source": [
    "####  Southern Hemisphere - Humidity (%) vs. Latitude Linear Regression"
   ]
  },
  {
   "cell_type": "code",
   "execution_count": 73,
   "metadata": {},
   "outputs": [
    {
     "name": "stdout",
     "output_type": "stream",
     "text": [
      "The r-squared is : 0.22\n",
      "y = 0.31x + 78.34\n",
      "No Correlation between Humidity and Latitude\n"
     ]
    },
    {
     "data": {
      "image/png": "[encoded data removed]",
      "text/plain": [
       "<Figure size 432x288 with 1 Axes>"
      ]
     },
     "metadata": {
      "needs_background": "light"
     },
     "output_type": "display_data"
    }
   ],
   "source": [
    "# Call an function #1\n",
    "equation = linear_agression(southern_hemisphere[\"latitude\"], southern_hemisphere[\"humidity\"])\n",
    "# Call an function #2\n",
    "annotate(equation, 0, 75)\n",
    "# Set a title\n",
    "plt.title(f'Southern Hemisphere - Humidity (%) vs. Latitude Linear Regression {time.strftime(\"%m/%d/%Y\")}')\n",
    "print(f\"No Correlation between Humidity and Latitude\")\n",
    "\n",
    "# Set xlabel\n",
    "plt.xlabel(\"Latitude\")\n",
    "# Set ylabel\n",
    "plt.ylabel(\"Humidity (%)\")\n",
    "\n",
    "# Save the figure\n",
    "plt.savefig(\"../3_output_data/Southern Hemisphere - Max Temp vs. Latitude Linear Regression.png\")"
   ]
  },
  {
   "cell_type": "markdown",
   "metadata": {},
   "source": [
    "####  Northern Hemisphere - Cloudiness (%) vs. Latitude Linear Regression"
   ]
  },
  {
   "cell_type": "code",
   "execution_count": 74,
   "metadata": {},
   "outputs": [
    {
     "name": "stdout",
     "output_type": "stream",
     "text": [
      "The r-squared is : 0.34\n",
      "y = 0.66x + 27.43\n",
      "Positive Correlation between Humidity and Latitude \n"
     ]
    },
    {
     "data": {
      "image/png": "[encoded data removed]",
      "text/plain": [
       "<Figure size 432x288 with 1 Axes>"
      ]
     },
     "metadata": {
      "needs_background": "light"
     },
     "output_type": "display_data"
    }
   ],
   "source": [
    "# Call an function #1\n",
    "equation = linear_agression(northern_hemisphere[\"latitude\"], northern_hemisphere[\"cloudiness\"])\n",
    "# Call an function #2\n",
    "annotate(equation, 0, 75)\n",
    "# Set a title\n",
    "plt.title(f'Northern Hemisphere - Cloudiness (%) vs. Latitude Linear Regression {time.strftime(\"%m/%d/%Y\")}')\n",
    "print(f\"Positive Correlation between Humidity and Latitude \")\n",
    "\n",
    "# Set xlabel\n",
    "plt.xlabel(\"Latitude\")\n",
    "# Set ylabel\n",
    "plt.ylabel(\"Cloudiness (%)\")\n",
    "# Save the figure\n",
    "plt.savefig(\"../3_output_data/Northern Hemisphere - Cloudiness vs. Latitude Linear Regression.png\")"
   ]
  },
  {
   "cell_type": "markdown",
   "metadata": {},
   "source": [
    "####  Southern Hemisphere - Cloudiness (%) vs. Latitude Linear Regression"
   ]
  },
  {
   "cell_type": "code",
   "execution_count": 75,
   "metadata": {},
   "outputs": [
    {
     "name": "stdout",
     "output_type": "stream",
     "text": [
      "The r-squared is : 0.33\n",
      "y = 0.94x + 78.02\n",
      "Positive Correlation between Cloudiness and Latitude\n"
     ]
    },
    {
     "data": {
      "image/png": "[encoded data removed]",
      "text/plain": [
       "<Figure size 432x288 with 1 Axes>"
      ]
     },
     "metadata": {
      "needs_background": "light"
     },
     "output_type": "display_data"
    }
   ],
   "source": [
    "# Call an function #1\n",
    "equation = linear_agression(southern_hemisphere[\"latitude\"], southern_hemisphere[\"cloudiness\"])\n",
    "# Call an function #2\n",
    "annotate(equation, 0, 75)\n",
    "# Set a title\n",
    "plt.title(f'Southern Hemisphere - Cloudiness (%) vs. Latitude Linear Regression {time.strftime(\"%m/%d/%Y\")}')\n",
    "print(f\"Positive Correlation between Cloudiness and Latitude\")\n",
    "\n",
    "# Set xlabel\n",
    "plt.xlabel(\"Latitude\")\n",
    "# Set ylabel\n",
    "plt.ylabel(\"Cloudiness(%)\")\n",
    "# Save the figure\n",
    "plt.savefig(\"../3_output_data/Southern Hemisphere - Cloudiness vs. Latitude Linear Regression.png\")"
   ]
  },
  {
   "cell_type": "markdown",
   "metadata": {},
   "source": [
    "####  Northern Hemisphere - Wind Speed (mph) vs. Latitude Linear Regression"
   ]
  },
  {
   "cell_type": "code",
   "execution_count": 77,
   "metadata": {},
   "outputs": [
    {
     "name": "stdout",
     "output_type": "stream",
     "text": [
      "The r-squared is : 0.02\n",
      "y = 0.01x + 8.65\n",
      "No Correlation between Wind Speed and Latitude\n"
     ]
    },
    {
     "data": {
      "image/png": "[encoded data removed]",
      "text/plain": [
       "<Figure size 432x288 with 1 Axes>"
      ]
     },
     "metadata": {
      "needs_background": "light"
     },
     "output_type": "display_data"
    }
   ],
   "source": [
    "# Call an function #1\n",
    "equation = linear_agression(northern_hemisphere[\"latitude\"], northern_hemisphere[\"wind_speed\"])\n",
    "# Call an function #2\n",
    "annotate(equation, 0, 0)\n",
    "# Set a title\n",
    "\n",
    "\n",
    "plt.title(f'Northern Hemisphere - Wind Speed (%) vs. Latitude Linear Regression {time.strftime(\"%m/%d/%Y\")}')\n",
    "print(f\"No Correlation between Wind Speed and Latitude\")\n",
    "# Set xlabel\n",
    "plt.xlabel(\"Latitude\")\n",
    "# Set ylabel\n",
    "plt.ylabel(\"Wind Speed(%)\")\n",
    "# Save the figure\n",
    "plt.savefig(\"../3_output_data/northern Hemisphere - Wind Speed vs. Latitude Linear Regression.png\")"
   ]
  },
  {
   "cell_type": "markdown",
   "metadata": {},
   "source": [
    "####  Southern Hemisphere - Wind Speed (mph) vs. Latitude Linear Regression"
   ]
  },
  {
   "cell_type": "code",
   "execution_count": 79,
   "metadata": {
    "scrolled": true
   },
   "outputs": [
    {
     "name": "stdout",
     "output_type": "stream",
     "text": [
      "The r-squared is : -0.03\n",
      "y = -0.01x + 8.47\n",
      "No Correlation between Wind Speed and Latitude\n"
     ]
    },
    {
     "data": {
      "image/png": "[encoded data removed]",
      "text/plain": [
       "<Figure size 432x288 with 1 Axes>"
      ]
     },
     "metadata": {
      "needs_background": "light"
     },
     "output_type": "display_data"
    }
   ],
   "source": [
    "# Call an function #1\n",
    "equation = linear_agression(southern_hemisphere[\"latitude\"], southern_hemisphere[\"wind_speed\"])\n",
    "# Call an function #2\n",
    "annotate(equation, 0, 0)\n",
    "# Set a title\n",
    "plt.title(f'Southern Hemisphere - Wind Speed (%) vs. Latitude Linear Regression {time.strftime(\"%m/%d/%Y\")}')\n",
    "print(f\"No Correlation between Wind Speed and Latitude\")\n",
    "\n",
    "# Set xlabel\n",
    "plt.xlabel(\"Latitude\")\n",
    "# Set ylabel\n",
    "plt.ylabel(\"Wind Speed(%)\")\n",
    "# Save the figure\n",
    "plt.savefig(\"../3_output_data/Southern Hemisphere - Wind Speed vs. Latitude Linear Regression.png\")"
   ]
  },
  {
   "cell_type": "markdown",
   "metadata": {},
   "source": [
    "# Conclusion from a one day weather study \n",
    "For over 500 cities around the globe\n",
    "\n",
    "For the date and time that this study was done there is just a\n",
    "weak or no correlation except for the difference in temperature \n",
    "in the Northern Hemisphere. The difference in temperature between \n",
    "the cities at the equater and the cities that are farther to the \n",
    "north do have a strong correlation.\n",
    "\n",
    "Since the correlation is weak in 7 of 8 catagories this study \n",
    "should be continued for a larger sample size to see any long term tremds"
   ]
  }
 ],
 "metadata": {
  "anaconda-cloud": {},
  "kernel_info": {
   "name": "python3"
  },
  "kernelspec": {
   "display_name": "Python 3",
   "language": "python",
   "name": "python3"
  },
  "language_info": {
   "codemirror_mode": {
    "name": "ipython",
    "version": 3
   },
   "file_extension": ".py",
   "mimetype": "text/x-python",
   "name": "python",
   "nbconvert_exporter": "python",
   "pygments_lexer": "ipython3",
   "version": "3.6.10"
  },
  "latex_envs": {
   "LaTeX_envs_menu_present": true,
   "autoclose": false,
   "autocomplete": true,
   "bibliofile": "biblio.bib",
   "cite_by": "apalike",
   "current_citInitial": 1,
   "eqLabelWithNumbers": true,
   "eqNumInitial": 1,
   "hotkeys": {
    "equation": "Ctrl-E",
    "itemize": "Ctrl-I"
   },
   "labels_anchors": false,
   "latex_user_defs": false,
   "report_style_numbering": false,
   "user_envs_cfg": false
  },
  "nteract": {
   "version": "0.12.3"
  }
 },
 "nbformat": 4,
 "nbformat_minor": 2
}
