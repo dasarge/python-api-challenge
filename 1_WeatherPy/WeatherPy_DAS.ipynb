{
 "cells": [
  {
   "cell_type": "markdown",
   "metadata": {},
   "source": [
    "# WeatherPy\n",
    "----\n",
    "\n",
    "#### Note\n",
    "* Instructions have been included for each segment. You do not have to follow them exactly, but they are included to help you think through the steps."
   ]
  },
  {
   "cell_type": "code",
   "execution_count": 104,
   "metadata": {
    "scrolled": true
   },
   "outputs": [],
   "source": [
    "# Dependencies and Setup\n",
    "import matplotlib.pyplot as plt\n",
    "import pandas as pd\n",
    "import numpy as np\n",
    "import requests\n",
    "import time\n",
    "import scipy.stats as st\n",
    "from scipy.stats import linregress\n",
    "#from sklearn import datasets\n",
    "\n",
    "\n",
    "\n",
    "# Import API key\n",
    "from api_keys import weather_api_key\n",
    "\n",
    "# Incorporated citipy to determine city based on latitude and longitude\n",
    "from citipy import citipy\n",
    "\n",
    "# Output File (CSV)\n",
    "output_data_file = (\"../3_output_data/output_data/cities.csv\")\n",
    "\n",
    "# Range of latitudes and longitudes\n",
    "lat_range = (-90, 90)\n",
    "lng_range = (-180, 180)"
   ]
  },
  {
   "cell_type": "markdown",
   "metadata": {},
   "source": [
    "## Generate Cities List"
   ]
  },
  {
   "cell_type": "code",
   "execution_count": 105,
   "metadata": {},
   "outputs": [
    {
     "data": {
      "text/plain": [
       "631"
      ]
     },
     "execution_count": 105,
     "metadata": {},
     "output_type": "execute_result"
    }
   ],
   "source": [
    "# List for holding lat_lngs and cities\n",
    "lat_lngs = []\n",
    "cities = []\n",
    "\n",
    "# Create a set of random lat and lng combinations\n",
    "lats = np.random.uniform(lat_range[0], lat_range[1], size=1500)\n",
    "lngs = np.random.uniform(lng_range[0], lng_range[1], size=1500)\n",
    "lat_lngs = zip(lats, lngs)\n",
    "\n",
    "# Identify nearest city for each lat, lng combination\n",
    "for lat_lng in lat_lngs:\n",
    "    city = citipy.nearest_city(lat_lng[0], lat_lng[1]).city_name\n",
    "   \n",
    "    # If the city is unique, then add it to a our cities list\n",
    "    if city not in cities:\n",
    "        cities.append(city)\n",
    "\n",
    "# Print the city count to confirm sufficient count\n",
    "len(cities)"
   ]
  },
  {
   "cell_type": "markdown",
   "metadata": {},
   "source": [
    "### Perform API Calls\n",
    "* Perform a weather check on each city using a series of successive API calls.\n",
    "* Include a print log of each city as it'sbeing processed (with the city number and city name).\n"
   ]
  },
  {
   "cell_type": "code",
   "execution_count": 106,
   "metadata": {
    "scrolled": true
   },
   "outputs": [
    {
     "name": "stdout",
     "output_type": "stream",
     "text": [
      "http://api.openweathermap.org/data/2.5/weather?appid=03807ab851ea52cddd7b52d74fcab014&units=imperial&q=\n"
     ]
    }
   ],
   "source": [
    "url = \"http://api.openweathermap.org/data/2.5/weather?\"\n",
    "\n",
    "unit = \"imperial\"\n",
    "\n",
    "query_url = url + \"appid=\" + weather_api_key + \"&units=\" + unit + \"&q=\"\n",
    "\n",
    "print(query_url)\n",
    "\n"
   ]
  },
  {
   "cell_type": "code",
   "execution_count": 107,
   "metadata": {
    "scrolled": true
   },
   "outputs": [
    {
     "name": "stdout",
     "output_type": "stream",
     "text": [
      "\n",
      "-----------------------------\n",
      "Data Retrieval Begin\n",
      "-----------------------------\n",
      "\n",
      "not found\n",
      "Processing record 1 of set 1 | kupino.\n",
      "Processing record 2 of set 1 | rutana.\n",
      "Processing record 3 of set 1 | saint anthony.\n",
      "Processing record 4 of set 1 | nyurba.\n",
      "Processing record 5 of set 1 | saskylakh.\n",
      "Processing record 6 of set 1 | mouila.\n",
      "Processing record 7 of set 1 | lebu.\n",
      "Processing record 8 of set 1 | carnarvon.\n",
      "Processing record 9 of set 1 | geraldton.\n",
      "Processing record 10 of set 1 | mao.\n",
      "Processing record 11 of set 1 | dikson.\n",
      "Processing record 12 of set 1 | redmond.\n",
      "Processing record 13 of set 1 | bredasdorp.\n",
      "Processing record 14 of set 1 | sarab.\n",
      "Processing record 15 of set 1 | vaini.\n",
      "Processing record 16 of set 1 | alamos.\n",
      "Processing record 17 of set 1 | jamestown.\n",
      "Processing record 18 of set 1 | busselton.\n",
      "Processing record 19 of set 1 | east london.\n",
      "Processing record 20 of set 1 | katsuura.\n",
      "Processing record 21 of set 1 | severo-kurilsk.\n",
      "Processing record 22 of set 1 | shanghai.\n",
      "Processing record 23 of set 1 | mataura.\n",
      "Processing record 24 of set 1 | bonfim.\n",
      "not found\n",
      "Processing record 25 of set 1 | chuy.\n",
      "Processing record 26 of set 1 | faanui.\n",
      "not found\n",
      "Processing record 27 of set 1 | shimoda.\n",
      "Processing record 28 of set 1 | qaanaaq.\n",
      "not found\n",
      "Processing record 29 of set 1 | kruisfontein.\n",
      "Processing record 30 of set 1 | avarua.\n",
      "Processing record 31 of set 1 | castro.\n",
      "Processing record 32 of set 1 | sawakin.\n",
      "Processing record 33 of set 1 | cayenne.\n",
      "Processing record 34 of set 1 | rikitea.\n",
      "Processing record 35 of set 1 | touros.\n",
      "not found\n",
      "Processing record 36 of set 1 | bhayavadar.\n",
      "Processing record 37 of set 1 | nizhnekamsk.\n",
      "Processing record 38 of set 1 | udachnyy.\n",
      "Processing record 39 of set 1 | thompson.\n",
      "Processing record 40 of set 1 | patiya.\n",
      "Processing record 41 of set 1 | gondanglegi.\n",
      "Processing record 42 of set 1 | ushuaia.\n",
      "Processing record 43 of set 1 | kodiak.\n",
      "Processing record 44 of set 1 | high prairie.\n",
      "Processing record 45 of set 1 | praia da vitoria.\n",
      "Processing record 46 of set 1 | kraslava.\n",
      "Processing record 47 of set 1 | cape town.\n",
      "Processing record 48 of set 1 | natal.\n",
      "not found\n",
      "Processing record 49 of set 1 | porto murtinho.\n",
      "Processing record 50 of set 1 | punta arenas.\n",
      "Processing record 1 of set 2 | hithadhoo.\n",
      "Processing record 2 of set 2 | koson.\n",
      "Processing record 3 of set 2 | flinders.\n",
      "Processing record 4 of set 2 | porto santo.\n",
      "Processing record 5 of set 2 | cururupu.\n",
      "Processing record 6 of set 2 | atuona.\n",
      "Processing record 7 of set 2 | kapaa.\n",
      "Processing record 8 of set 2 | hamilton.\n",
      "Processing record 9 of set 2 | new norfolk.\n",
      "Processing record 10 of set 2 | airai.\n",
      "Processing record 11 of set 2 | te anau.\n",
      "Processing record 12 of set 2 | narsaq.\n",
      "Processing record 13 of set 2 | mudu.\n",
      "Processing record 14 of set 2 | yulara.\n",
      "Processing record 15 of set 2 | teguise.\n",
      "Processing record 16 of set 2 | livingstonia.\n",
      "Processing record 17 of set 2 | tuktoyaktuk.\n",
      "Processing record 18 of set 2 | hobart.\n",
      "Processing record 19 of set 2 | podor.\n",
      "Processing record 20 of set 2 | aksu.\n",
      "Processing record 21 of set 2 | lagos.\n",
      "Processing record 22 of set 2 | puerto escondido.\n",
      "Processing record 23 of set 2 | nizwa.\n",
      "Processing record 24 of set 2 | baruun-urt.\n",
      "Processing record 25 of set 2 | edd.\n",
      "Processing record 26 of set 2 | mahebourg.\n",
      "Processing record 27 of set 2 | chokurdakh.\n",
      "Processing record 28 of set 2 | saint-augustin.\n",
      "Processing record 29 of set 2 | mar del plata.\n",
      "Processing record 30 of set 2 | meulaboh.\n",
      "Processing record 31 of set 2 | bluff.\n",
      "Processing record 32 of set 2 | ponta do sol.\n",
      "Processing record 33 of set 2 | nicoya.\n",
      "Processing record 34 of set 2 | saint-pierre.\n",
      "Processing record 35 of set 2 | puerto el triunfo.\n",
      "Processing record 36 of set 2 | anadyr.\n",
      "Processing record 37 of set 2 | diffa.\n",
      "not found\n",
      "Processing record 38 of set 2 | barrow.\n",
      "Processing record 39 of set 2 | alekseyevka.\n",
      "Processing record 40 of set 2 | trairi.\n",
      "Processing record 41 of set 2 | lasa.\n",
      "Processing record 42 of set 2 | albany.\n",
      "Processing record 43 of set 2 | bambous virieux.\n",
      "not found\n",
      "Processing record 44 of set 2 | whitehorse.\n",
      "Processing record 45 of set 2 | yellowknife.\n",
      "Processing record 46 of set 2 | khatanga.\n",
      "Processing record 47 of set 2 | asyut.\n",
      "Processing record 48 of set 2 | concepcion del oro.\n",
      "Processing record 49 of set 2 | klaksvik.\n",
      "Processing record 50 of set 2 | cockburn town.\n",
      "Processing record 1 of set 3 | nelson bay.\n",
      "Processing record 2 of set 3 | mwinilunga.\n",
      "Processing record 3 of set 3 | komsomolskiy.\n",
      "Processing record 4 of set 3 | den helder.\n",
      "Processing record 5 of set 3 | nikolskoye.\n",
      "Processing record 6 of set 3 | grand gaube.\n",
      "Processing record 7 of set 3 | san juan.\n",
      "Processing record 8 of set 3 | hilo.\n",
      "Processing record 9 of set 3 | nabire.\n",
      "Processing record 10 of set 3 | apt.\n",
      "Processing record 11 of set 3 | tura.\n",
      "Processing record 12 of set 3 | alexandria.\n",
      "Processing record 13 of set 3 | shache.\n",
      "Processing record 14 of set 3 | waingapu.\n",
      "Processing record 15 of set 3 | lebedinyy.\n",
      "Processing record 16 of set 3 | ullal.\n",
      "Processing record 17 of set 3 | arnoldstein.\n",
      "Processing record 18 of set 3 | rosa zarate.\n",
      "Processing record 19 of set 3 | garden city.\n",
      "Processing record 20 of set 3 | nyrob.\n",
      "Processing record 21 of set 3 | tiksi.\n",
      "Processing record 22 of set 3 | nizhniy kuranakh.\n",
      "Processing record 23 of set 3 | lavrentiya.\n",
      "Processing record 24 of set 3 | pevek.\n",
      "Processing record 25 of set 3 | bathsheba.\n",
      "Processing record 26 of set 3 | deputatskiy.\n",
      "Processing record 27 of set 3 | krasnovishersk.\n",
      "Processing record 28 of set 3 | butaritari.\n",
      "Processing record 29 of set 3 | henties bay.\n",
      "Processing record 30 of set 3 | nemuro.\n",
      "Processing record 31 of set 3 | tomatlan.\n",
      "Processing record 32 of set 3 | cabinda.\n",
      "not found\n",
      "Processing record 33 of set 3 | bintulu.\n",
      "Processing record 34 of set 3 | raga.\n",
      "Processing record 35 of set 3 | avera.\n",
      "not found\n",
      "Processing record 36 of set 3 | port elizabeth.\n",
      "Processing record 37 of set 3 | isangel.\n",
      "Processing record 38 of set 3 | clyde river.\n",
      "Processing record 39 of set 3 | lazaro cardenas.\n",
      "Processing record 40 of set 3 | kavieng.\n",
      "Processing record 41 of set 3 | umm lajj.\n",
      "Processing record 42 of set 3 | vardo.\n",
      "Processing record 43 of set 3 | port hedland.\n",
      "Processing record 44 of set 3 | torbay.\n",
      "Processing record 45 of set 3 | conceicao da barra.\n",
      "Processing record 46 of set 3 | samarai.\n",
      "Processing record 47 of set 3 | northam.\n",
      "Processing record 48 of set 3 | kahului.\n",
      "Processing record 49 of set 3 | souillac.\n",
      "Processing record 50 of set 3 | poum.\n",
      "Processing record 1 of set 4 | qaqortoq.\n",
      "Processing record 2 of set 4 | dalbandin.\n",
      "not found\n",
      "Processing record 3 of set 4 | saldanha.\n",
      "Processing record 4 of set 4 | lompoc.\n",
      "Processing record 5 of set 4 | myitkyina.\n",
      "Processing record 6 of set 4 | marystown.\n",
      "Processing record 7 of set 4 | zabid.\n",
      "Processing record 8 of set 4 | pueblo.\n",
      "Processing record 9 of set 4 | baykit.\n",
      "Processing record 10 of set 4 | linhares.\n",
      "Processing record 11 of set 4 | the hammocks.\n",
      "not found\n",
      "Processing record 12 of set 4 | longyearbyen.\n",
      "Processing record 13 of set 4 | sartell.\n",
      "Processing record 14 of set 4 | qui nhon.\n",
      "Processing record 15 of set 4 | pangnirtung.\n",
      "Processing record 16 of set 4 | cairns.\n",
      "not found\n",
      "Processing record 17 of set 4 | upernavik.\n",
      "Processing record 18 of set 4 | norman wells.\n",
      "Processing record 19 of set 4 | iracoubo.\n",
      "Processing record 20 of set 4 | leningradskiy.\n",
      "Processing record 21 of set 4 | batemans bay.\n",
      "Processing record 22 of set 4 | rondonopolis.\n",
      "Processing record 23 of set 4 | artyom.\n",
      "Processing record 24 of set 4 | lukovetskiy.\n",
      "Processing record 25 of set 4 | constitucion.\n",
      "not found\n",
      "not found\n",
      "Processing record 26 of set 4 | port blair.\n",
      "not found\n",
      "Processing record 27 of set 4 | puerto ayora.\n",
      "Processing record 28 of set 4 | dakar.\n",
      "Processing record 29 of set 4 | rumoi.\n",
      "Processing record 30 of set 4 | alice springs.\n",
      "Processing record 31 of set 4 | nantucket.\n",
      "Processing record 32 of set 4 | niteroi.\n",
      "Processing record 33 of set 4 | kalmunai.\n",
      "Processing record 34 of set 4 | hofn.\n",
      "not found\n",
      "Processing record 35 of set 4 | bethel.\n",
      "Processing record 36 of set 4 | broken hill.\n",
      "Processing record 37 of set 4 | emba.\n",
      "Processing record 38 of set 4 | zheleznodorozhnyy.\n",
      "Processing record 39 of set 4 | saint george.\n"
     ]
    },
    {
     "name": "stdout",
     "output_type": "stream",
     "text": [
      "Processing record 40 of set 4 | doha.\n",
      "Processing record 41 of set 4 | quatre cocos.\n",
      "Processing record 42 of set 4 | provideniya.\n",
      "Processing record 43 of set 4 | kaitangata.\n",
      "Processing record 44 of set 4 | galich.\n",
      "Processing record 45 of set 4 | krasnyy gulyay.\n",
      "Processing record 46 of set 4 | half moon bay.\n",
      "Processing record 47 of set 4 | wajir.\n",
      "Processing record 48 of set 4 | georgetown.\n",
      "Processing record 49 of set 4 | kagadi.\n",
      "Processing record 50 of set 4 | ihosy.\n",
      "Processing record 1 of set 5 | arman.\n",
      "Processing record 2 of set 5 | diego de almagro.\n",
      "Processing record 3 of set 5 | kuching.\n",
      "Processing record 4 of set 5 | sinnamary.\n",
      "Processing record 5 of set 5 | kavaratti.\n",
      "Processing record 6 of set 5 | hermanus.\n",
      "Processing record 7 of set 5 | port keats.\n",
      "Processing record 8 of set 5 | granadilla de abona.\n",
      "Processing record 9 of set 5 | ribeira grande.\n",
      "Processing record 10 of set 5 | itaporanga.\n",
      "Processing record 11 of set 5 | san quintin.\n",
      "not found\n",
      "Processing record 12 of set 5 | ipatovo.\n",
      "Processing record 13 of set 5 | camacha.\n",
      "Processing record 14 of set 5 | ewo.\n",
      "Processing record 15 of set 5 | luwingu.\n",
      "Processing record 16 of set 5 | chopinzinho.\n",
      "Processing record 17 of set 5 | cabo san lucas.\n",
      "Processing record 18 of set 5 | port alfred.\n",
      "Processing record 19 of set 5 | soledar.\n",
      "Processing record 20 of set 5 | victoria.\n",
      "Processing record 21 of set 5 | turka.\n",
      "Processing record 22 of set 5 | ulaangom.\n",
      "Processing record 23 of set 5 | mugur-aksy.\n",
      "not found\n",
      "Processing record 24 of set 5 | pyaozerskiy.\n",
      "Processing record 25 of set 5 | tatvan.\n",
      "Processing record 26 of set 5 | blyth.\n",
      "not found\n",
      "Processing record 27 of set 5 | panzhihua.\n",
      "Processing record 28 of set 5 | nyalikungu.\n",
      "Processing record 29 of set 5 | attur.\n",
      "Processing record 30 of set 5 | walvis bay.\n",
      "Processing record 31 of set 5 | mpongwe.\n",
      "Processing record 32 of set 5 | yashkul.\n",
      "Processing record 33 of set 5 | fallon.\n",
      "Processing record 34 of set 5 | sisimiut.\n",
      "Processing record 35 of set 5 | tautira.\n",
      "Processing record 36 of set 5 | santa cruz.\n",
      "Processing record 37 of set 5 | miquelon.\n",
      "Processing record 38 of set 5 | tasiilaq.\n",
      "Processing record 39 of set 5 | paamiut.\n",
      "Processing record 40 of set 5 | arraial do cabo.\n",
      "Processing record 41 of set 5 | general roca.\n",
      "Processing record 42 of set 5 | owando.\n",
      "Processing record 43 of set 5 | wanning.\n",
      "Processing record 44 of set 5 | serenje.\n",
      "Processing record 45 of set 5 | quthing.\n",
      "Processing record 46 of set 5 | lubsko.\n",
      "Processing record 47 of set 5 | nanakuli.\n",
      "Processing record 48 of set 5 | rundu.\n",
      "Processing record 49 of set 5 | viedma.\n",
      "not found\n",
      "Processing record 50 of set 5 | talcahuano.\n",
      "Processing record 1 of set 6 | sao jose da coroa grande.\n",
      "Processing record 2 of set 6 | jiwani.\n",
      "Processing record 3 of set 6 | salalah.\n",
      "Processing record 4 of set 6 | khandyga.\n",
      "not found\n",
      "not found\n",
      "Processing record 5 of set 6 | kholodnyy.\n",
      "Processing record 6 of set 6 | samaniego.\n",
      "Processing record 7 of set 6 | sorland.\n",
      "Processing record 8 of set 6 | sitka.\n",
      "Processing record 9 of set 6 | vila franca do campo.\n",
      "not found\n",
      "Processing record 10 of set 6 | portland.\n",
      "Processing record 11 of set 6 | yarada.\n",
      "Processing record 12 of set 6 | yerbogachen.\n",
      "Processing record 13 of set 6 | muravlenko.\n",
      "Processing record 14 of set 6 | kandrian.\n",
      "Processing record 15 of set 6 | beyneu.\n",
      "Processing record 16 of set 6 | bara.\n",
      "Processing record 17 of set 6 | rawson.\n",
      "Processing record 18 of set 6 | ust-tsilma.\n",
      "Processing record 19 of set 6 | narimanov.\n",
      "not found\n",
      "Processing record 20 of set 6 | atar.\n",
      "Processing record 21 of set 6 | mokhotlong.\n",
      "Processing record 22 of set 6 | kokorevka.\n",
      "Processing record 23 of set 6 | pundaguitan.\n",
      "Processing record 24 of set 6 | cidreira.\n",
      "Processing record 25 of set 6 | san cristobal.\n",
      "Processing record 26 of set 6 | port hardy.\n",
      "Processing record 27 of set 6 | praia.\n",
      "Processing record 28 of set 6 | filadelfia.\n",
      "Processing record 29 of set 6 | ancud.\n",
      "Processing record 30 of set 6 | taoudenni.\n",
      "Processing record 31 of set 6 | namibe.\n",
      "Processing record 32 of set 6 | arkhipo-osipovka.\n",
      "Processing record 33 of set 6 | aklavik.\n",
      "not found\n",
      "Processing record 34 of set 6 | senanga.\n",
      "Processing record 35 of set 6 | the pas.\n",
      "Processing record 36 of set 6 | dodge city.\n",
      "Processing record 37 of set 6 | lanzhou.\n",
      "not found\n",
      "Processing record 38 of set 6 | orange cove.\n",
      "Processing record 39 of set 6 | ligayan.\n",
      "Processing record 40 of set 6 | surt.\n",
      "Processing record 41 of set 6 | college.\n",
      "Processing record 42 of set 6 | hall.\n",
      "Processing record 43 of set 6 | caravelas.\n",
      "Processing record 44 of set 6 | north branch.\n",
      "Processing record 45 of set 6 | arkadak.\n",
      "not found\n",
      "Processing record 46 of set 6 | whyalla.\n",
      "Processing record 47 of set 6 | dunedin.\n",
      "Processing record 48 of set 6 | coria.\n",
      "Processing record 49 of set 6 | scarborough.\n",
      "Processing record 50 of set 6 | lamu.\n",
      "Processing record 1 of set 7 | arica.\n",
      "Processing record 2 of set 7 | grindavik.\n",
      "Processing record 3 of set 7 | palana.\n",
      "Processing record 4 of set 7 | sharjah.\n",
      "Processing record 5 of set 7 | kaeo.\n",
      "Processing record 6 of set 7 | xam nua.\n",
      "Processing record 7 of set 7 | port lincoln.\n",
      "Processing record 8 of set 7 | kolda.\n",
      "Processing record 9 of set 7 | palmer.\n",
      "Processing record 10 of set 7 | kedrovyy.\n",
      "Processing record 11 of set 7 | la ronge.\n",
      "Processing record 12 of set 7 | srednekolymsk.\n",
      "Processing record 13 of set 7 | furukawa.\n",
      "Processing record 14 of set 7 | siavonga.\n",
      "Processing record 15 of set 7 | camana.\n",
      "Processing record 16 of set 7 | chapais.\n",
      "Processing record 17 of set 7 | lagoa.\n",
      "Processing record 18 of set 7 | fort nelson.\n",
      "Processing record 19 of set 7 | mushie.\n",
      "Processing record 20 of set 7 | husavik.\n",
      "Processing record 21 of set 7 | coihaique.\n",
      "Processing record 22 of set 7 | broome.\n",
      "Processing record 23 of set 7 | saint-philippe.\n",
      "Processing record 24 of set 7 | boa vista.\n",
      "Processing record 25 of set 7 | esperance.\n",
      "Processing record 26 of set 7 | havelock.\n",
      "Processing record 27 of set 7 | egvekinot.\n",
      "Processing record 28 of set 7 | hervey bay.\n",
      "Processing record 29 of set 7 | garowe.\n",
      "Processing record 30 of set 7 | aswan.\n",
      "Processing record 31 of set 7 | cherskiy.\n",
      "Processing record 32 of set 7 | labuhan.\n",
      "Processing record 33 of set 7 | manali.\n",
      "Processing record 34 of set 7 | xai-xai.\n",
      "Processing record 35 of set 7 | road town.\n",
      "Processing record 36 of set 7 | gull lake.\n",
      "Processing record 37 of set 7 | acajutla.\n",
      "Processing record 38 of set 7 | naze.\n",
      "not found\n",
      "Processing record 39 of set 7 | rio grande.\n",
      "Processing record 40 of set 7 | pacific grove.\n",
      "Processing record 41 of set 7 | ucluelet.\n",
      "Processing record 42 of set 7 | codrington.\n",
      "Processing record 43 of set 7 | lakes entrance.\n",
      "not found\n",
      "Processing record 44 of set 7 | barreirinha.\n",
      "Processing record 45 of set 7 | novovoronezh.\n",
      "Processing record 46 of set 7 | kutulik.\n",
      "Processing record 47 of set 7 | bordighera.\n",
      "Processing record 48 of set 7 | takoradi.\n",
      "Processing record 49 of set 7 | socorro.\n",
      "Processing record 50 of set 7 | silver city.\n",
      "not found\n",
      "Processing record 1 of set 8 | ngunguru.\n",
      "Processing record 2 of set 8 | calama.\n",
      "not found\n",
      "Processing record 3 of set 8 | paredon.\n",
      "Processing record 4 of set 8 | palasa.\n",
      "not found\n",
      "Processing record 5 of set 8 | tuscaloosa.\n",
      "Processing record 6 of set 8 | pontianak.\n",
      "Processing record 7 of set 8 | adre.\n",
      "Processing record 8 of set 8 | ankang.\n",
      "not found\n",
      "not found\n",
      "Processing record 9 of set 8 | krasnoarmeysk.\n",
      "Processing record 10 of set 8 | cintalapa.\n",
      "Processing record 11 of set 8 | raton.\n",
      "Processing record 12 of set 8 | marawi.\n",
      "Processing record 13 of set 8 | ketchikan.\n",
      "Processing record 14 of set 8 | gushikawa.\n",
      "Processing record 15 of set 8 | phuket.\n",
      "Processing record 16 of set 8 | berlevag.\n",
      "Processing record 17 of set 8 | ottawa.\n",
      "Processing record 18 of set 8 | san pedro.\n",
      "Processing record 19 of set 8 | badulla.\n",
      "Processing record 20 of set 8 | margate.\n",
      "Processing record 21 of set 8 | banyo.\n",
      "Processing record 22 of set 8 | ondjiva.\n",
      "Processing record 23 of set 8 | tezu.\n",
      "Processing record 24 of set 8 | maceio.\n",
      "not found\n",
      "Processing record 25 of set 8 | leamington.\n",
      "Processing record 26 of set 8 | fairbanks.\n",
      "Processing record 27 of set 8 | vila.\n",
      "Processing record 28 of set 8 | sao mateus do maranhao.\n",
      "Processing record 29 of set 8 | cuenca.\n"
     ]
    },
    {
     "name": "stdout",
     "output_type": "stream",
     "text": [
      "Processing record 30 of set 8 | aleppo.\n",
      "Processing record 31 of set 8 | vestmannaeyjar.\n",
      "Processing record 32 of set 8 | rocha.\n",
      "Processing record 33 of set 8 | tazovskiy.\n",
      "not found\n",
      "Processing record 34 of set 8 | bengkulu.\n",
      "Processing record 35 of set 8 | palmas de monte alto.\n",
      "Processing record 36 of set 8 | cerro largo.\n",
      "Processing record 37 of set 8 | salinopolis.\n",
      "Processing record 38 of set 8 | kalabo.\n",
      "not found\n",
      "Processing record 39 of set 8 | prince rupert.\n",
      "Processing record 40 of set 8 | agboville.\n",
      "Processing record 41 of set 8 | kazachinskoye.\n",
      "Processing record 42 of set 8 | george town.\n",
      "Processing record 43 of set 8 | malakal.\n",
      "Processing record 44 of set 8 | kurchum.\n",
      "Processing record 45 of set 8 | san alberto.\n",
      "Processing record 46 of set 8 | amga.\n",
      "Processing record 47 of set 8 | yenotayevka.\n",
      "Processing record 48 of set 8 | fortuna.\n",
      "Processing record 49 of set 8 | guerrero negro.\n",
      "Processing record 50 of set 8 | bembibre.\n",
      "Processing record 1 of set 9 | itarema.\n",
      "Processing record 2 of set 9 | pandan.\n",
      "Processing record 3 of set 9 | pochutla.\n",
      "Processing record 4 of set 9 | bilma.\n",
      "Processing record 5 of set 9 | strezhevoy.\n",
      "Processing record 6 of set 9 | sri aman.\n",
      "Processing record 7 of set 9 | luderitz.\n",
      "Processing record 8 of set 9 | suleya.\n",
      "not found\n",
      "Processing record 9 of set 9 | negombo.\n",
      "Processing record 10 of set 9 | laguna.\n",
      "not found\n",
      "not found\n",
      "Processing record 11 of set 9 | luganville.\n",
      "Processing record 12 of set 9 | jaque.\n",
      "not found\n",
      "Processing record 13 of set 9 | parnarama.\n",
      "Processing record 14 of set 9 | nobres.\n",
      "Processing record 15 of set 9 | porto novo.\n",
      "Processing record 16 of set 9 | curtea.\n",
      "Processing record 17 of set 9 | gimbi.\n",
      "Processing record 18 of set 9 | ilulissat.\n",
      "Processing record 19 of set 9 | beringovskiy.\n",
      "Processing record 20 of set 9 | jinchang.\n",
      "Processing record 21 of set 9 | liwale.\n",
      "Processing record 22 of set 9 | aasiaat.\n",
      "Processing record 23 of set 9 | faya.\n",
      "Processing record 24 of set 9 | pozo colorado.\n",
      "Processing record 25 of set 9 | suchedniow.\n",
      "Processing record 26 of set 9 | amahai.\n",
      "Processing record 27 of set 9 | coquimbo.\n",
      "Processing record 28 of set 9 | galle.\n",
      "Processing record 29 of set 9 | hays.\n",
      "not found\n",
      "Processing record 30 of set 9 | gweta.\n",
      "Processing record 31 of set 9 | raudeberg.\n",
      "Processing record 32 of set 9 | ambovombe.\n",
      "Processing record 33 of set 9 | morondava.\n",
      "Processing record 34 of set 9 | cleethorpes.\n",
      "Processing record 35 of set 9 | abu dhabi.\n",
      "Processing record 36 of set 9 | tecpan guatemala.\n",
      "Processing record 37 of set 9 | tynda.\n",
      "Processing record 38 of set 9 | nieuw nickerie.\n",
      "Processing record 39 of set 9 | barao de melgaco.\n",
      "Processing record 40 of set 9 | bolondron.\n",
      "Processing record 41 of set 9 | buin.\n",
      "Processing record 42 of set 9 | zaysan.\n",
      "Processing record 43 of set 9 | lobito.\n",
      "Processing record 44 of set 9 | bonga.\n",
      "Processing record 45 of set 9 | papenburg.\n",
      "not found\n",
      "Processing record 46 of set 9 | inzer.\n",
      "Processing record 47 of set 9 | brae.\n",
      "Processing record 48 of set 9 | sorong.\n",
      "Processing record 49 of set 9 | planadas.\n",
      "Processing record 50 of set 9 | basco.\n",
      "Processing record 1 of set 10 | creel.\n",
      "not found\n",
      "Processing record 2 of set 10 | dudinka.\n",
      "Processing record 3 of set 10 | bose.\n",
      "Processing record 4 of set 10 | yumen.\n",
      "Processing record 5 of set 10 | port-gentil.\n",
      "not found\n",
      "Processing record 6 of set 10 | murray bridge.\n",
      "Processing record 7 of set 10 | nefteyugansk.\n",
      "Processing record 8 of set 10 | beausejour.\n",
      "Processing record 9 of set 10 | omsukchan.\n",
      "Processing record 10 of set 10 | masuguru.\n",
      "Processing record 11 of set 10 | dingle.\n",
      "Processing record 12 of set 10 | iqaluit.\n",
      "Processing record 13 of set 10 | fomboni.\n",
      "Processing record 14 of set 10 | ibra.\n",
      "not found\n",
      "Processing record 15 of set 10 | sept-iles.\n",
      "Processing record 16 of set 10 | soke.\n",
      "not found\n",
      "Processing record 17 of set 10 | makakilo city.\n",
      "Processing record 18 of set 10 | kloulklubed.\n",
      "Processing record 19 of set 10 | san pedro de macoris.\n",
      "Processing record 20 of set 10 | usta muhammad.\n",
      "Processing record 21 of set 10 | lubango.\n",
      "Processing record 22 of set 10 | mujiayingzi.\n",
      "Processing record 23 of set 10 | chuncheng.\n",
      "Processing record 24 of set 10 | los llanos de aridane.\n",
      "Processing record 25 of set 10 | antofagasta.\n",
      "Processing record 26 of set 10 | ust-maya.\n",
      "not found\n",
      "Processing record 27 of set 10 | araouane.\n",
      "not found\n",
      "Processing record 28 of set 10 | eydhafushi.\n",
      "Processing record 29 of set 10 | jalu.\n",
      "Processing record 30 of set 10 | vostok.\n",
      "Processing record 31 of set 10 | merauke.\n",
      "Processing record 32 of set 10 | nishihara.\n",
      "Processing record 33 of set 10 | rivne.\n",
      "Processing record 34 of set 10 | hun.\n",
      "Processing record 35 of set 10 | ziguinchor.\n",
      "Processing record 36 of set 10 | hami.\n",
      "Processing record 37 of set 10 | olenino.\n",
      "Processing record 38 of set 10 | tabas.\n",
      "not found\n",
      "Processing record 39 of set 10 | north bend.\n",
      "Processing record 40 of set 10 | sioux lookout.\n",
      "Processing record 41 of set 10 | maputo.\n",
      "Processing record 42 of set 10 | esil.\n",
      "Processing record 43 of set 10 | richards bay.\n",
      "Processing record 44 of set 10 | pasighat.\n",
      "Processing record 45 of set 10 | jiazi.\n",
      "Processing record 46 of set 10 | mango.\n",
      "Processing record 47 of set 10 | anuradhapura.\n",
      "not found\n",
      "Processing record 48 of set 10 | olafsvik.\n",
      "Processing record 49 of set 10 | juba.\n",
      "Processing record 50 of set 10 | kargasok.\n",
      "Processing record 1 of set 11 | pangai.\n",
      "Processing record 2 of set 11 | sulphur.\n",
      "Processing record 3 of set 11 | dwarka.\n",
      "not found\n",
      "Processing record 4 of set 11 | bandundu.\n",
      "Processing record 5 of set 11 | neepawa.\n",
      "Processing record 6 of set 11 | noumea.\n",
      "Processing record 7 of set 11 | west bay.\n",
      "Processing record 8 of set 11 | namie.\n",
      "Processing record 9 of set 11 | yenagoa.\n",
      "Processing record 10 of set 11 | mahajanga.\n",
      "Processing record 11 of set 11 | tres arroyos.\n",
      "Processing record 12 of set 11 | vanimo.\n",
      "Processing record 13 of set 11 | talkha.\n",
      "not found\n",
      "Processing record 14 of set 11 | hasaki.\n",
      "Processing record 15 of set 11 | byron bay.\n",
      "Processing record 16 of set 11 | vao.\n",
      "Processing record 17 of set 11 | moshupa.\n",
      "Processing record 18 of set 11 | ostrovnoy.\n",
      "Processing record 19 of set 11 | lorengau.\n",
      "Processing record 20 of set 11 | ballina.\n",
      "Processing record 21 of set 11 | pisco.\n",
      "Processing record 22 of set 11 | kudahuvadhoo.\n",
      "Processing record 23 of set 11 | tornio.\n",
      "Processing record 24 of set 11 | jutai.\n",
      "not found\n",
      "Processing record 25 of set 11 | peniche.\n",
      "Processing record 26 of set 11 | arkhangelsk.\n",
      "Processing record 27 of set 11 | buala.\n",
      "Processing record 28 of set 11 | usinsk.\n",
      "not found\n",
      "not found\n",
      "Processing record 29 of set 11 | tara.\n",
      "Processing record 30 of set 11 | mayor pablo lagerenza.\n",
      "Processing record 31 of set 11 | maryville.\n",
      "Processing record 32 of set 11 | charyshskoye.\n",
      "Processing record 33 of set 11 | liepaja.\n",
      "Processing record 34 of set 11 | mount isa.\n",
      "Processing record 35 of set 11 | rincon.\n",
      "not found\n",
      "Processing record 36 of set 11 | shirhatti.\n",
      "Processing record 37 of set 11 | manggar.\n",
      "Processing record 38 of set 11 | san rafael.\n",
      "Processing record 39 of set 11 | beloha.\n",
      "not found\n",
      "Processing record 40 of set 11 | tateyama.\n",
      "Processing record 41 of set 11 | madang.\n",
      "Processing record 42 of set 11 | port macquarie.\n",
      "Processing record 43 of set 11 | roald.\n",
      "Processing record 44 of set 11 | purna.\n",
      "Processing record 45 of set 11 | vlasotince.\n",
      "not found\n",
      "Processing record 46 of set 11 | lata.\n",
      "Processing record 47 of set 11 | bowen.\n",
      "Processing record 48 of set 11 | cherlak.\n",
      "Processing record 49 of set 11 | genhe.\n",
      "Processing record 50 of set 11 | plettenberg bay.\n",
      "Processing record 1 of set 12 | gaya.\n",
      "Processing record 2 of set 12 | iisalmi.\n",
      "Processing record 3 of set 12 | athabasca.\n",
      "Processing record 4 of set 12 | timra.\n",
      "Processing record 5 of set 12 | vila velha.\n",
      "Processing record 6 of set 12 | alcudia.\n",
      "Processing record 7 of set 12 | wajima.\n",
      "Processing record 8 of set 12 | price.\n",
      "Processing record 9 of set 12 | tsogni.\n",
      "Processing record 10 of set 12 | amapa.\n",
      "Processing record 11 of set 12 | katakwi.\n",
      "Processing record 12 of set 12 | karasuk.\n",
      "Processing record 13 of set 12 | talnakh.\n",
      "Processing record 14 of set 12 | ayotzintepec.\n",
      "Processing record 15 of set 12 | ozuluama.\n",
      "Processing record 16 of set 12 | ust-charyshskaya pristan.\n"
     ]
    },
    {
     "name": "stdout",
     "output_type": "stream",
     "text": [
      "Processing record 17 of set 12 | ojuelos de jalisco.\n",
      "Processing record 18 of set 12 | pedley.\n",
      "Processing record 19 of set 12 | monrovia.\n",
      "Processing record 20 of set 12 | kupang.\n",
      "Processing record 21 of set 12 | nebbi.\n",
      "\n",
      "-----------------------------\n",
      "     Data Retrieval End\n",
      "-----------------------------\n"
     ]
    }
   ],
   "source": [
    "#number of Cities\n",
    "x = 0\n",
    "set = 1\n",
    "\n",
    "#Variables\n",
    "temp = []\n",
    "humd = []\n",
    "cloud = []\n",
    "wind_spd = []\n",
    "lat = []\n",
    "lon = []\n",
    "city_ = []\n",
    "city_no = []\n",
    "country = []\n",
    "max_t = []\n",
    "date = []\n",
    "\n",
    "\n",
    "print('''\n",
    "-----------------------------\n",
    "Data Retrieval Begin\n",
    "-----------------------------\n",
    "''')\n",
    "\n",
    "\n",
    "for city in cities:\n",
    "    try:\n",
    "        \n",
    "        city_data = (requests.get(query_url + city)).json()\n",
    "        city_.append(city_data[\"name\"])\n",
    "        country.append(city_data[\"sys\"][\"country\"])\n",
    "        date.append(city_data[\"dt\"])        \n",
    "        lat.append(city_data[\"coord\"][\"lat\"])\n",
    "        lon.append(city_data[\"coord\"][\"lon\"])        \n",
    "        temp.append(city_data[\"main\"][\"temp\"])\n",
    "        max_t.append(city_data[\"main\"][\"temp_max\"])\n",
    "        humd.append(city_data[\"main\"][\"humidity\"])\n",
    "        cloud.append(city_data[\"clouds\"][\"all\"])\n",
    "        wind_spd.append(city_data[\"wind\"][\"speed\"])\n",
    "\n",
    "        \n",
    "        if x == 50:\n",
    "            x = 1\n",
    "            set += 1\n",
    "            time.sleep(30)\n",
    "            \n",
    "        else:\n",
    "            x += 1\n",
    "        \n",
    "        print(f\"Processing record {x} of set {set} | {city}.\")\n",
    " \n",
    "    except KeyError:\n",
    "        print(\"not found\")\n",
    "        \n",
    "print('''\n",
    "-----------------------------\n",
    "     Data Retrieval End\n",
    "-----------------------------''')\n"
   ]
  },
  {
   "cell_type": "code",
   "execution_count": 108,
   "metadata": {},
   "outputs": [
    {
     "data": {
      "text/plain": [
       "571"
      ]
     },
     "execution_count": 108,
     "metadata": {},
     "output_type": "execute_result"
    }
   ],
   "source": [
    "len(city_)"
   ]
  },
  {
   "cell_type": "markdown",
   "metadata": {},
   "source": [
    "### Convert Raw Data to DataFrame\n",
    "* Export the city data into a .csv.\n",
    "* Display the DataFrame"
   ]
  },
  {
   "cell_type": "code",
   "execution_count": 109,
   "metadata": {
    "scrolled": false
   },
   "outputs": [
    {
     "data": {
      "text/plain": [
       "City          571\n",
       "Country       571\n",
       "Date          571\n",
       "Lat           571\n",
       "Lng           571\n",
       "Max Temp      571\n",
       "Humidity      571\n",
       "Cloudiness    571\n",
       "Wind Speed    571\n",
       "dtype: int64"
      ]
     },
     "execution_count": 109,
     "metadata": {},
     "output_type": "execute_result"
    }
   ],
   "source": [
    "# summary_grouped_df = pd.DataFrame({'Mean Tumor Volume (mm3)': tumor_mean, 'Median Tumor Volume (mm3)': tumor_median, 'Variance Tumor Volume (mm3)': tumor_var,\n",
    "#                                    'Standard Deviation Tumor Volume (mm3)': tumor_std, 'SEM Tumor Volume (mm3)': tumor_sem})\n",
    "\n",
    "\n",
    "# summary_grouped_df = pd.DataFrame({\"City\": city_, \"Lat\": lat, \"Lng\": lon, \"Max Temp\": max_t, \"Humidity\": humd, \"Cloudiness\": cloud, \"Wind Speed\": wind_spd, \"date\": date})\n",
    "\n",
    "city_dict = {\n",
    "    \"City\": city_, \n",
    "    \"Country\": country, \n",
    "    \"Date\": date,\n",
    "    \"Lat\": lat, \n",
    "    \"Lng\": lon, \n",
    "    \"Max Temp\": max_t, \n",
    "    \"Humidity\": humd, \n",
    "    \"Cloudiness\": cloud, \n",
    "    \"Wind Speed\": wind_spd  \n",
    "}\n",
    "\n",
    "city_data_df = pd.DataFrame(city_dict)\n",
    "\n",
    "city_data_df.count()"
   ]
  },
  {
   "cell_type": "code",
   "execution_count": 110,
   "metadata": {},
   "outputs": [],
   "source": [
    "#date"
   ]
  },
  {
   "cell_type": "code",
   "execution_count": 111,
   "metadata": {},
   "outputs": [
    {
     "data": {
      "text/html": [
       "<div>\n",
       "<style scoped>\n",
       "    .dataframe tbody tr th:only-of-type {\n",
       "        vertical-align: middle;\n",
       "    }\n",
       "\n",
       "    .dataframe tbody tr th {\n",
       "        vertical-align: top;\n",
       "    }\n",
       "\n",
       "    .dataframe thead th {\n",
       "        text-align: right;\n",
       "    }\n",
       "</style>\n",
       "<table border=\"1\" class=\"dataframe\">\n",
       "  <thead>\n",
       "    <tr style=\"text-align: right;\">\n",
       "      <th></th>\n",
       "      <th>City</th>\n",
       "      <th>Country</th>\n",
       "      <th>Date</th>\n",
       "      <th>Lat</th>\n",
       "      <th>Lng</th>\n",
       "      <th>Max Temp</th>\n",
       "      <th>Humidity</th>\n",
       "      <th>Cloudiness</th>\n",
       "      <th>Wind Speed</th>\n",
       "    </tr>\n",
       "  </thead>\n",
       "  <tbody>\n",
       "    <tr>\n",
       "      <th>0</th>\n",
       "      <td>Kupino</td>\n",
       "      <td>RU</td>\n",
       "      <td>1612156093</td>\n",
       "      <td>54.3663</td>\n",
       "      <td>77.2981</td>\n",
       "      <td>3.27</td>\n",
       "      <td>88</td>\n",
       "      <td>100</td>\n",
       "      <td>6.58</td>\n",
       "    </tr>\n",
       "    <tr>\n",
       "      <th>1</th>\n",
       "      <td>Rutana Province</td>\n",
       "      <td>BI</td>\n",
       "      <td>1612156093</td>\n",
       "      <td>-3.8667</td>\n",
       "      <td>30.1000</td>\n",
       "      <td>59.27</td>\n",
       "      <td>98</td>\n",
       "      <td>100</td>\n",
       "      <td>1.77</td>\n",
       "    </tr>\n",
       "    <tr>\n",
       "      <th>2</th>\n",
       "      <td>Saint Anthony</td>\n",
       "      <td>US</td>\n",
       "      <td>1612156093</td>\n",
       "      <td>45.0205</td>\n",
       "      <td>-93.2180</td>\n",
       "      <td>30.20</td>\n",
       "      <td>74</td>\n",
       "      <td>90</td>\n",
       "      <td>8.05</td>\n",
       "    </tr>\n",
       "    <tr>\n",
       "      <th>3</th>\n",
       "      <td>Nyurba</td>\n",
       "      <td>RU</td>\n",
       "      <td>1612156093</td>\n",
       "      <td>63.2842</td>\n",
       "      <td>118.3319</td>\n",
       "      <td>-36.40</td>\n",
       "      <td>81</td>\n",
       "      <td>94</td>\n",
       "      <td>5.30</td>\n",
       "    </tr>\n",
       "    <tr>\n",
       "      <th>4</th>\n",
       "      <td>Saskylakh</td>\n",
       "      <td>RU</td>\n",
       "      <td>1612156093</td>\n",
       "      <td>71.9167</td>\n",
       "      <td>114.0833</td>\n",
       "      <td>-30.91</td>\n",
       "      <td>83</td>\n",
       "      <td>64</td>\n",
       "      <td>7.58</td>\n",
       "    </tr>\n",
       "  </tbody>\n",
       "</table>\n",
       "</div>"
      ],
      "text/plain": [
       "              City Country        Date      Lat       Lng  Max Temp  Humidity  \\\n",
       "0           Kupino      RU  1612156093  54.3663   77.2981      3.27        88   \n",
       "1  Rutana Province      BI  1612156093  -3.8667   30.1000     59.27        98   \n",
       "2    Saint Anthony      US  1612156093  45.0205  -93.2180     30.20        74   \n",
       "3           Nyurba      RU  1612156093  63.2842  118.3319    -36.40        81   \n",
       "4        Saskylakh      RU  1612156093  71.9167  114.0833    -30.91        83   \n",
       "\n",
       "   Cloudiness  Wind Speed  \n",
       "0         100        6.58  \n",
       "1         100        1.77  \n",
       "2          90        8.05  \n",
       "3          94        5.30  \n",
       "4          64        7.58  "
      ]
     },
     "execution_count": 111,
     "metadata": {},
     "output_type": "execute_result"
    }
   ],
   "source": [
    "city_data_df.head()"
   ]
  },
  {
   "cell_type": "code",
   "execution_count": 112,
   "metadata": {
    "scrolled": true
   },
   "outputs": [],
   "source": [
    "#city_data_df.count()"
   ]
  },
  {
   "cell_type": "code",
   "execution_count": 113,
   "metadata": {},
   "outputs": [],
   "source": [
    "# Save city data into a csv file\n",
    "city_data_df.to_csv(\"../3_output_data/cities.csv\", index = False)\n"
   ]
  },
  {
   "cell_type": "code",
   "execution_count": 114,
   "metadata": {},
   "outputs": [
    {
     "data": {
      "text/plain": [
       "571"
      ]
     },
     "execution_count": 114,
     "metadata": {},
     "output_type": "execute_result"
    }
   ],
   "source": [
    "len(city_data_df)"
   ]
  },
  {
   "cell_type": "markdown",
   "metadata": {},
   "source": [
    "## Inspect the data and remove the cities where the humidity > 100%.\n",
    "----\n",
    "Skip this step if there are no cities that have humidity > 100%. "
   ]
  },
  {
   "cell_type": "code",
   "execution_count": 115,
   "metadata": {
    "scrolled": true
   },
   "outputs": [
    {
     "data": {
      "text/html": [
       "<div>\n",
       "<style scoped>\n",
       "    .dataframe tbody tr th:only-of-type {\n",
       "        vertical-align: middle;\n",
       "    }\n",
       "\n",
       "    .dataframe tbody tr th {\n",
       "        vertical-align: top;\n",
       "    }\n",
       "\n",
       "    .dataframe thead th {\n",
       "        text-align: right;\n",
       "    }\n",
       "</style>\n",
       "<table border=\"1\" class=\"dataframe\">\n",
       "  <thead>\n",
       "    <tr style=\"text-align: right;\">\n",
       "      <th></th>\n",
       "      <th>City</th>\n",
       "      <th>Country</th>\n",
       "      <th>Date</th>\n",
       "      <th>Lat</th>\n",
       "      <th>Lng</th>\n",
       "      <th>Max Temp</th>\n",
       "      <th>Humidity</th>\n",
       "      <th>Cloudiness</th>\n",
       "      <th>Wind Speed</th>\n",
       "    </tr>\n",
       "  </thead>\n",
       "  <tbody>\n",
       "    <tr>\n",
       "      <th>44</th>\n",
       "      <td>Praia da Vitória</td>\n",
       "      <td>PT</td>\n",
       "      <td>1612156099</td>\n",
       "      <td>38.7333</td>\n",
       "      <td>-27.0667</td>\n",
       "      <td>64.40</td>\n",
       "      <td>100</td>\n",
       "      <td>75</td>\n",
       "      <td>31.63</td>\n",
       "    </tr>\n",
       "    <tr>\n",
       "      <th>90</th>\n",
       "      <td>Laas</td>\n",
       "      <td>IT</td>\n",
       "      <td>1612156138</td>\n",
       "      <td>46.6166</td>\n",
       "      <td>10.7002</td>\n",
       "      <td>37.00</td>\n",
       "      <td>100</td>\n",
       "      <td>75</td>\n",
       "      <td>3.44</td>\n",
       "    </tr>\n",
       "    <tr>\n",
       "      <th>109</th>\n",
       "      <td>Apt</td>\n",
       "      <td>FR</td>\n",
       "      <td>1612156170</td>\n",
       "      <td>43.8833</td>\n",
       "      <td>5.4000</td>\n",
       "      <td>48.20</td>\n",
       "      <td>100</td>\n",
       "      <td>0</td>\n",
       "      <td>4.61</td>\n",
       "    </tr>\n",
       "    <tr>\n",
       "      <th>142</th>\n",
       "      <td>Port Hedland</td>\n",
       "      <td>AU</td>\n",
       "      <td>1612156175</td>\n",
       "      <td>-20.3167</td>\n",
       "      <td>118.5667</td>\n",
       "      <td>80.60</td>\n",
       "      <td>100</td>\n",
       "      <td>90</td>\n",
       "      <td>20.71</td>\n",
       "    </tr>\n",
       "    <tr>\n",
       "      <th>215</th>\n",
       "      <td>Chopinzinho</td>\n",
       "      <td>BR</td>\n",
       "      <td>1612156247</td>\n",
       "      <td>-25.8558</td>\n",
       "      <td>-52.5233</td>\n",
       "      <td>65.01</td>\n",
       "      <td>99</td>\n",
       "      <td>100</td>\n",
       "      <td>3.24</td>\n",
       "    </tr>\n",
       "    <tr>\n",
       "      <th>224</th>\n",
       "      <td>Tatvan</td>\n",
       "      <td>TR</td>\n",
       "      <td>1612156249</td>\n",
       "      <td>38.5067</td>\n",
       "      <td>42.2817</td>\n",
       "      <td>28.40</td>\n",
       "      <td>100</td>\n",
       "      <td>75</td>\n",
       "      <td>2.08</td>\n",
       "    </tr>\n",
       "    <tr>\n",
       "      <th>268</th>\n",
       "      <td>Narimanov</td>\n",
       "      <td>RU</td>\n",
       "      <td>1612156306</td>\n",
       "      <td>46.6927</td>\n",
       "      <td>47.8498</td>\n",
       "      <td>32.00</td>\n",
       "      <td>100</td>\n",
       "      <td>90</td>\n",
       "      <td>6.71</td>\n",
       "    </tr>\n",
       "    <tr>\n",
       "      <th>275</th>\n",
       "      <td>Port Hardy</td>\n",
       "      <td>CA</td>\n",
       "      <td>1612156177</td>\n",
       "      <td>50.6996</td>\n",
       "      <td>-127.4199</td>\n",
       "      <td>42.80</td>\n",
       "      <td>100</td>\n",
       "      <td>90</td>\n",
       "      <td>6.91</td>\n",
       "    </tr>\n",
       "    <tr>\n",
       "      <th>325</th>\n",
       "      <td>Havelock</td>\n",
       "      <td>US</td>\n",
       "      <td>1612156345</td>\n",
       "      <td>34.8791</td>\n",
       "      <td>-76.9013</td>\n",
       "      <td>53.01</td>\n",
       "      <td>100</td>\n",
       "      <td>90</td>\n",
       "      <td>6.91</td>\n",
       "    </tr>\n",
       "    <tr>\n",
       "      <th>362</th>\n",
       "      <td>Ketchikan</td>\n",
       "      <td>US</td>\n",
       "      <td>1612156382</td>\n",
       "      <td>55.3422</td>\n",
       "      <td>-131.6461</td>\n",
       "      <td>33.80</td>\n",
       "      <td>100</td>\n",
       "      <td>90</td>\n",
       "      <td>3.38</td>\n",
       "    </tr>\n",
       "    <tr>\n",
       "      <th>439</th>\n",
       "      <td>Bolondrón</td>\n",
       "      <td>CU</td>\n",
       "      <td>1612156426</td>\n",
       "      <td>22.7633</td>\n",
       "      <td>-81.4469</td>\n",
       "      <td>62.60</td>\n",
       "      <td>100</td>\n",
       "      <td>20</td>\n",
       "      <td>5.75</td>\n",
       "    </tr>\n",
       "    <tr>\n",
       "      <th>516</th>\n",
       "      <td>Moshupa</td>\n",
       "      <td>BW</td>\n",
       "      <td>1612156500</td>\n",
       "      <td>-24.7782</td>\n",
       "      <td>25.4155</td>\n",
       "      <td>68.00</td>\n",
       "      <td>100</td>\n",
       "      <td>75</td>\n",
       "      <td>3.44</td>\n",
       "    </tr>\n",
       "    <tr>\n",
       "      <th>569</th>\n",
       "      <td>Kupang</td>\n",
       "      <td>ID</td>\n",
       "      <td>1612156544</td>\n",
       "      <td>-10.1667</td>\n",
       "      <td>123.5833</td>\n",
       "      <td>78.80</td>\n",
       "      <td>100</td>\n",
       "      <td>75</td>\n",
       "      <td>16.11</td>\n",
       "    </tr>\n",
       "  </tbody>\n",
       "</table>\n",
       "</div>"
      ],
      "text/plain": [
       "                 City Country        Date      Lat       Lng  Max Temp  \\\n",
       "44   Praia da Vitória      PT  1612156099  38.7333  -27.0667     64.40   \n",
       "90               Laas      IT  1612156138  46.6166   10.7002     37.00   \n",
       "109               Apt      FR  1612156170  43.8833    5.4000     48.20   \n",
       "142      Port Hedland      AU  1612156175 -20.3167  118.5667     80.60   \n",
       "215       Chopinzinho      BR  1612156247 -25.8558  -52.5233     65.01   \n",
       "224            Tatvan      TR  1612156249  38.5067   42.2817     28.40   \n",
       "268         Narimanov      RU  1612156306  46.6927   47.8498     32.00   \n",
       "275        Port Hardy      CA  1612156177  50.6996 -127.4199     42.80   \n",
       "325          Havelock      US  1612156345  34.8791  -76.9013     53.01   \n",
       "362         Ketchikan      US  1612156382  55.3422 -131.6461     33.80   \n",
       "439         Bolondrón      CU  1612156426  22.7633  -81.4469     62.60   \n",
       "516           Moshupa      BW  1612156500 -24.7782   25.4155     68.00   \n",
       "569            Kupang      ID  1612156544 -10.1667  123.5833     78.80   \n",
       "\n",
       "     Humidity  Cloudiness  Wind Speed  \n",
       "44        100          75       31.63  \n",
       "90        100          75        3.44  \n",
       "109       100           0        4.61  \n",
       "142       100          90       20.71  \n",
       "215        99         100        3.24  \n",
       "224       100          75        2.08  \n",
       "268       100          90        6.71  \n",
       "275       100          90        6.91  \n",
       "325       100          90        6.91  \n",
       "362       100          90        3.38  \n",
       "439       100          20        5.75  \n",
       "516       100          75        3.44  \n",
       "569       100          75       16.11  "
      ]
     },
     "execution_count": 115,
     "metadata": {},
     "output_type": "execute_result"
    }
   ],
   "source": [
    "#  Get the indices of cities that have humidity over 100%.\n",
    "\n",
    "city_data_humidity_df = city_data_df.loc[city_data_df[\"Humidity\"] >= 99]\n",
    "\n",
    "#d2 = city_data_df.drop(city_data_df.loc[city_data_df[\"Humidity\"]>=93].index, inplace=True)\n",
    "\n",
    "city_data_humidity_df\n",
    "\n"
   ]
  },
  {
   "cell_type": "code",
   "execution_count": 116,
   "metadata": {},
   "outputs": [
    {
     "data": {
      "text/plain": [
       "13"
      ]
     },
     "execution_count": 116,
     "metadata": {},
     "output_type": "execute_result"
    }
   ],
   "source": [
    "len(city_data_humidity_df)"
   ]
  },
  {
   "cell_type": "code",
   "execution_count": 117,
   "metadata": {},
   "outputs": [],
   "source": [
    "# Make a new DataFrame equal to the city data to drop all humidity outliers by index.\n",
    "# Passing \"inplace=False\" will make a copy of the city_data DataFrame, which we call \"clean_city_data\".\n",
    "#df.drop(df.loc[df['line_race']==0].index, inplace=True)\n"
   ]
  },
  {
   "cell_type": "code",
   "execution_count": 118,
   "metadata": {},
   "outputs": [
    {
     "data": {
      "text/plain": [
       "13"
      ]
     },
     "execution_count": 118,
     "metadata": {},
     "output_type": "execute_result"
    }
   ],
   "source": [
    "len(city_data_humidity_df)\n"
   ]
  },
  {
   "cell_type": "markdown",
   "metadata": {},
   "source": [
    "## Plotting the Data\n",
    "* Use proper labeling of the plots using plot titles (including date of analysis) and axes labels.\n",
    "* Save the plotted figures as .pngs."
   ]
  },
  {
   "cell_type": "markdown",
   "metadata": {},
   "source": [
    "## Latitude vs. Temperature Plot"
   ]
  },
  {
   "cell_type": "code",
   "execution_count": 119,
   "metadata": {
    "scrolled": true
   },
   "outputs": [
    {
     "data": {
      "image/png": "[encoded data removed]",
      "text/plain": [
       "<Figure size 432x288 with 1 Axes>"
      ]
     },
     "metadata": {
      "needs_background": "light"
     },
     "output_type": "display_data"
    }
   ],
   "source": [
    "# Build a scatter plot for each data type\n",
    "plt.scatter(city_data_df[\"Lat\"], city_data_df[\"Max Temp\"], marker=\"o\")\n",
    "# Incorporate the other graph properties\n",
    "plt.title(f'City Latitude vs. Max Temperature {time.strftime(\"%m/%d/%Y\")}')\n",
    "plt.ylabel(\"Temperature (F)\")\n",
    "plt.xlabel(\"Latitude\")\n",
    "plt.grid(True)\n",
    "# Save the figure\n",
    "plt.savefig(\"../3_output_data/City Latitude vs. Max Temperature.png\")\n",
    "# Show plot\n",
    "plt.show()\n"
   ]
  },
  {
   "cell_type": "markdown",
   "metadata": {},
   "source": [
    "## Latitude vs. Humidity Plot"
   ]
  },
  {
   "cell_type": "code",
   "execution_count": 120,
   "metadata": {},
   "outputs": [
    {
     "data": {
      "image/png": "[encoded data removed]",
      "text/plain": [
       "<Figure size 432x288 with 1 Axes>"
      ]
     },
     "metadata": {
      "needs_background": "light"
     },
     "output_type": "display_data"
    }
   ],
   "source": [
    "# Build a scatter plot for each data type\n",
    "plt.scatter(city_data_df[\"Lat\"], city_data_df[\"Humidity\"], marker=\"o\")\n",
    "# Incorporate the other graph properties\n",
    "plt.title(f'City Latitude vs. Humidity {time.strftime(\"%m/%d/%Y\")}')\n",
    "plt.ylabel(\"Humidity (%)\")\n",
    "plt.xlabel(\"Latitude\")\n",
    "plt.grid(True)\n",
    "# Save the figure\n",
    "plt.savefig(\"../3_output_data/City Latitude vs. Humidity.png\")\n",
    "# Show plot\n",
    "plt.show()"
   ]
  },
  {
   "cell_type": "markdown",
   "metadata": {},
   "source": [
    "## Latitude vs. Cloudiness Plot"
   ]
  },
  {
   "cell_type": "code",
   "execution_count": 121,
   "metadata": {},
   "outputs": [
    {
     "data": {
      "image/png": "[encoded data removed]",
      "text/plain": [
       "<Figure size 432x288 with 1 Axes>"
      ]
     },
     "metadata": {
      "needs_background": "light"
     },
     "output_type": "display_data"
    }
   ],
   "source": [
    "# Build a scatter plot for each data type\n",
    "plt.scatter(city_data_df[\"Lat\"], city_data_df[\"Cloudiness\"], marker=\"o\")\n",
    "# Incorporate the other graph properties\n",
    "plt.title(f'City Latitude vs. Cloudiness {time.strftime(\"%m/%d/%Y\")}')\n",
    "plt.ylabel(\"Cloudiness (%)\")\n",
    "plt.xlabel(\"Latitude\")\n",
    "plt.grid(True)\n",
    "# Save the figure\n",
    "plt.savefig(\"../3_output_data/City Latitude vs. Cloudiness.png\")\n",
    "# Show plot"
   ]
  },
  {
   "cell_type": "markdown",
   "metadata": {},
   "source": [
    "## Latitude vs. Wind Speed Plot"
   ]
  },
  {
   "cell_type": "code",
   "execution_count": 122,
   "metadata": {
    "scrolled": true
   },
   "outputs": [
    {
     "data": {
      "image/png": "[encoded data removed]",
      "text/plain": [
       "<Figure size 432x288 with 1 Axes>"
      ]
     },
     "metadata": {
      "needs_background": "light"
     },
     "output_type": "display_data"
    }
   ],
   "source": [
    "# Build a scatter plot for each data type\n",
    "plt.scatter(city_data_df[\"Lat\"], city_data_df[\"Wind Speed\"], marker=\"o\")\n",
    "# Incorporate the other graph properties\n",
    "plt.title(f'City Latitude vs. Wind Speed {time.strftime(\"%m/%d/%Y\")}')\n",
    "plt.ylabel(\"Wind Speed (MPH)\")\n",
    "plt.xlabel(\"Latitude\")\n",
    "plt.grid(True)\n",
    "\n",
    "\n",
    "\n",
    "# Save the figure\n",
    "plt.savefig(\"../3_output_data/City Latitude vs. Wind Speed.png\")\n",
    "# Show plot"
   ]
  },
  {
   "cell_type": "markdown",
   "metadata": {},
   "source": [
    "## Linear Regression"
   ]
  },
  {
   "cell_type": "code",
   "execution_count": 171,
   "metadata": {},
   "outputs": [],
   "source": [
    "# Create Northern and Southern Hemisphere DataFrames\n",
    "northern_hemisphere = city_data_df.loc[city_data_df[\"Lat\"] >= 0]\n",
    "southern_hemisphere = city_data_df.loc[city_data_df[\"Lat\"] < 0]\n"
   ]
  },
  {
   "cell_type": "code",
   "execution_count": 172,
   "metadata": {},
   "outputs": [],
   "source": [
    "# Define function for creating linear agression and scatter plot\n",
    "def linear_agression(x,y):\n",
    "    rst = round(st.pearsonr(x, y)[0],2)\n",
    "    print(f\"The r-squared is : {round(st.pearsonr(x, y)[0],2)}\")\n",
    "       \n",
    "    (slope, intercept, rvalue, pvalue, stderr) = linregress(x, y)\n",
    "    regress_values = x * slope + intercept\n",
    "    line_eq = \"y = \" + str(round(slope,2)) + \"x + \" + str(round(intercept,2))\n",
    "    print(line_eq)\n",
    "    plt.scatter(x, y)\n",
    "    plt.plot(x,regress_values,\"r-\")\n",
    "    return line_eq\n",
    "    \n",
    "# Define a fuction for annotating\n",
    "def annotate(line_eq, a, b):\n",
    "    plt.annotate(line_eq,(a,b),fontsize=15,color=\"red\")\n",
    "\n"
   ]
  },
  {
   "cell_type": "markdown",
   "metadata": {},
   "source": [
    "####  Northern Hemisphere - Max Temp vs. Latitude Linear Regression"
   ]
  },
  {
   "cell_type": "code",
   "execution_count": 182,
   "metadata": {
    "scrolled": true
   },
   "outputs": [
    {
     "name": "stdout",
     "output_type": "stream",
     "text": [
      "The r-squared is : -0.88\n",
      "y = -1.4x + 93.23\n",
      "Strong Negative Correlation\n"
     ]
    },
    {
     "data": {
      "image/png": "[encoded data removed]",
      "text/plain": [
       "<Figure size 432x288 with 1 Axes>"
      ]
     },
     "metadata": {
      "needs_background": "light"
     },
     "output_type": "display_data"
    }
   ],
   "source": [
    "# Call an function #1\n",
    "equation = linear_agression(northern_hemisphere[\"Lat\"], northern_hemisphere[\"Max Temp\"])\n",
    "# Call an function #2\n",
    "annotate(equation, 0, 20)\n",
    "# Set a title\n",
    "plt.title(f'Northern Hemisphere - Max Temp vs. Latitude Linear Regression {time.strftime(\"%m/%d/%Y\")}')\n",
    "print(f\"Strong Negative Correlation\")\n",
    "# Set xlabel\n",
    "plt.xlabel(\"Latitude\")\n",
    "# Set ylabel\n",
    "plt.ylabel(\"Max Temp (F)\")\n",
    "\n",
    "# Save the figure\n",
    "plt.savefig(\"../3_output_data/Northern Hemisphere - Max Temp vs. Latitude Linear Regression.png\")"
   ]
  },
  {
   "cell_type": "markdown",
   "metadata": {},
   "source": [
    "####  Southern Hemisphere - Max Temp vs. Latitude Linear Regression"
   ]
  },
  {
   "cell_type": "code",
   "execution_count": 179,
   "metadata": {},
   "outputs": [
    {
     "name": "stdout",
     "output_type": "stream",
     "text": [
      "The r-squared is : 0.39\n",
      "y = 0.3x + 80.23\n",
      "Positive Correlation\n"
     ]
    },
    {
     "data": {
      "image/png": "[encoded data removed]",
      "text/plain": [
       "<Figure size 432x288 with 1 Axes>"
      ]
     },
     "metadata": {
      "needs_background": "light"
     },
     "output_type": "display_data"
    }
   ],
   "source": [
    "# Call an function #1\n",
    "equation = linear_agression(southern_hemisphere[\"Lat\"], southern_hemisphere[\"Max Temp\"])\n",
    "# Call an function #2\n",
    "annotate(equation, 0, 75)\n",
    "# Set a title\n",
    "plt.title(f'Southern Hemisphere - Max Temp vs. Latitude Linear Regression {time.strftime(\"%m/%d/%Y\")}')\n",
    "print(f\"Positive Correlation\")\n",
    "# Set xlabel\n",
    "plt.xlabel(\"Latitude\")\n",
    "# Set ylabel\n",
    "plt.ylabel(\"Max Temp (F)\")\n",
    "\n",
    "# Save the figure\n",
    "plt.savefig(\"../3_output_data/Southern Hemisphere - Max Temp vs. Latitude Linear Regression.png\")"
   ]
  },
  {
   "cell_type": "markdown",
   "metadata": {},
   "source": [
    "####  Northern Hemisphere - Humidity (%) vs. Latitude Linear Regression"
   ]
  },
  {
   "cell_type": "code",
   "execution_count": 180,
   "metadata": {},
   "outputs": [
    {
     "name": "stdout",
     "output_type": "stream",
     "text": [
      "The r-squared is : 0.39\n",
      "y = 0.39x + 58.6\n",
      "Positive Correlation\n"
     ]
    },
    {
     "data": {
      "image/png": "[encoded data removed]",
      "text/plain": [
       "<Figure size 432x288 with 1 Axes>"
      ]
     },
     "metadata": {
      "needs_background": "light"
     },
     "output_type": "display_data"
    }
   ],
   "source": [
    "# Call an function #1\n",
    "equation = linear_agression(northern_hemisphere[\"Lat\"], northern_hemisphere[\"Humidity\"])\n",
    "# Call an function #2\n",
    "annotate(equation, 0, 0)\n",
    "# Set a title\n",
    "plt.title(f'Northern Hemisphere - Humidity (%) vs. Latitude Linear Regression {time.strftime(\"%m/%d/%Y\")}')\n",
    "print(f\"Positive Correlation\")\n",
    "\n",
    "# Set xlabel\n",
    "plt.xlabel(\"Latitude\")\n",
    "# Set ylabel\n",
    "plt.ylabel(\"Humidity (%)\")\n",
    "\n",
    "# Save the figure\n",
    "plt.savefig(\"../3_output_data/Northern Hemisphere - Humidity vs. Latitude Linear Regression.png\")"
   ]
  },
  {
   "cell_type": "code",
   "execution_count": 181,
   "metadata": {},
   "outputs": [
    {
     "data": {
      "text/plain": [
       "-0.8953828379801062"
      ]
     },
     "execution_count": 181,
     "metadata": {},
     "output_type": "execute_result"
    }
   ],
   "source": [
    "rvalue"
   ]
  },
  {
   "cell_type": "markdown",
   "metadata": {},
   "source": [
    "####  Southern Hemisphere - Humidity (%) vs. Latitude Linear Regression"
   ]
  },
  {
   "cell_type": "code",
   "execution_count": 183,
   "metadata": {},
   "outputs": [
    {
     "name": "stdout",
     "output_type": "stream",
     "text": [
      "The r-squared is : 0.32\n",
      "y = 0.44x + 85.24\n",
      "Positive Correlation\n"
     ]
    },
    {
     "data": {
      "image/png": "[encoded data removed]",
      "text/plain": [
       "<Figure size 432x288 with 1 Axes>"
      ]
     },
     "metadata": {
      "needs_background": "light"
     },
     "output_type": "display_data"
    }
   ],
   "source": [
    "# Call an function #1\n",
    "equation = linear_agression(southern_hemisphere[\"Lat\"], southern_hemisphere[\"Humidity\"])\n",
    "# Call an function #2\n",
    "annotate(equation, 0, 75)\n",
    "# Set a title\n",
    "plt.title(f'Southern Hemisphere - Humidity (%) vs. Latitude Linear Regression {time.strftime(\"%m/%d/%Y\")}')\n",
    "print(f\"Positive Correlation\")\n",
    "\n",
    "# Set xlabel\n",
    "plt.xlabel(\"Latitude\")\n",
    "# Set ylabel\n",
    "plt.ylabel(\"Humidity (%)\")\n",
    "\n",
    "# Save the figure\n",
    "plt.savefig(\"../3_output_data/Southern Hemisphere - Max Temp vs. Latitude Linear Regression.png\")"
   ]
  },
  {
   "cell_type": "markdown",
   "metadata": {},
   "source": [
    "####  Northern Hemisphere - Cloudiness (%) vs. Latitude Linear Regression"
   ]
  },
  {
   "cell_type": "code",
   "execution_count": 184,
   "metadata": {},
   "outputs": [
    {
     "name": "stdout",
     "output_type": "stream",
     "text": [
      "The r-squared is : 0.35\n",
      "y = 0.68x + 28.62\n",
      "Positive Correlation\n"
     ]
    },
    {
     "data": {
      "image/png": "[encoded data removed]",
      "text/plain": [
       "<Figure size 432x288 with 1 Axes>"
      ]
     },
     "metadata": {
      "needs_background": "light"
     },
     "output_type": "display_data"
    }
   ],
   "source": [
    "# Call an function #1\n",
    "equation = linear_agression(northern_hemisphere[\"Lat\"], northern_hemisphere[\"Cloudiness\"])\n",
    "# Call an function #2\n",
    "annotate(equation, 0, 75)\n",
    "# Set a title\n",
    "plt.title(f'Northern Hemisphere - Cloudiness (%) vs. Latitude Linear Regression {time.strftime(\"%m/%d/%Y\")}')\n",
    "print(f\"Positive Correlation\")\n",
    "\n",
    "# Set xlabel\n",
    "plt.xlabel(\"Latitude\")\n",
    "# Set ylabel\n",
    "plt.ylabel(\"Cloudiness (%)\")\n",
    "# Save the figure\n",
    "plt.savefig(\"../3_output_data/Northern Hemisphere - Cloudiness vs. Latitude Linear Regression.png\")"
   ]
  },
  {
   "cell_type": "markdown",
   "metadata": {},
   "source": [
    "####  Southern Hemisphere - Cloudiness (%) vs. Latitude Linear Regression"
   ]
  },
  {
   "cell_type": "code",
   "execution_count": 185,
   "metadata": {},
   "outputs": [
    {
     "name": "stdout",
     "output_type": "stream",
     "text": [
      "The r-squared is : 0.34\n",
      "y = 0.96x + 83.37\n",
      "Positive Correlation\n"
     ]
    },
    {
     "data": {
      "image/png": "[encoded data removed]",
      "text/plain": [
       "<Figure size 432x288 with 1 Axes>"
      ]
     },
     "metadata": {
      "needs_background": "light"
     },
     "output_type": "display_data"
    }
   ],
   "source": [
    "# Call an function #1\n",
    "equation = linear_agression(southern_hemisphere[\"Lat\"], southern_hemisphere[\"Cloudiness\"])\n",
    "# Call an function #2\n",
    "annotate(equation, 0, 75)\n",
    "# Set a title\n",
    "plt.title(f'Southern Hemisphere - Cloudiness (%) vs. Latitude Linear Regression {time.strftime(\"%m/%d/%Y\")}')\n",
    "print(f\"Positive Correlation\")\n",
    "\n",
    "# Set xlabel\n",
    "plt.xlabel(\"Latitude\")\n",
    "# Set ylabel\n",
    "plt.ylabel(\"Cloudiness(%)\")\n",
    "# Save the figure\n",
    "plt.savefig(\"../3_output_data/Southern Hemisphere - Cloudiness vs. Latitude Linear Regression.png\")"
   ]
  },
  {
   "cell_type": "markdown",
   "metadata": {},
   "source": [
    "####  Northern Hemisphere - Wind Speed (mph) vs. Latitude Linear Regression"
   ]
  },
  {
   "cell_type": "code",
   "execution_count": 186,
   "metadata": {},
   "outputs": [
    {
     "name": "stdout",
     "output_type": "stream",
     "text": [
      "The r-squared is : 0.04\n",
      "y = 0.01x + 7.7\n",
      "Weak Correlation\n"
     ]
    },
    {
     "data": {
      "image/png": "[encoded data removed]",
      "text/plain": [
       "<Figure size 432x288 with 1 Axes>"
      ]
     },
     "metadata": {
      "needs_background": "light"
     },
     "output_type": "display_data"
    }
   ],
   "source": [
    "# Call an function #1\n",
    "equation = linear_agression(northern_hemisphere[\"Lat\"], northern_hemisphere[\"Wind Speed\"])\n",
    "# Call an function #2\n",
    "annotate(equation, 0, 0)\n",
    "# Set a title\n",
    "print(f\"Weak Correlation\")\n",
    "\n",
    "plt.title(f'Northern Hemisphere - Wind Speed (%) vs. Latitude Linear Regression {time.strftime(\"%m/%d/%Y\")}')\n",
    "# Set xlabel\n",
    "plt.xlabel(\"Latitude\")\n",
    "# Set ylabel\n",
    "plt.ylabel(\"Wind Speed(%)\")\n",
    "# Save the figure\n",
    "plt.savefig(\"../3_output_data/northern Hemisphere - Wind Speed vs. Latitude Linear Regression.png\")"
   ]
  },
  {
   "cell_type": "markdown",
   "metadata": {},
   "source": [
    "####  Southern Hemisphere - Wind Speed (mph) vs. Latitude Linear Regression"
   ]
  },
  {
   "cell_type": "code",
   "execution_count": 187,
   "metadata": {
    "scrolled": true
   },
   "outputs": [
    {
     "name": "stdout",
     "output_type": "stream",
     "text": [
      "The r-squared is : -0.27\n",
      "y = -0.13x + 6.09\n",
      "Weak Correlation\n"
     ]
    },
    {
     "data": {
      "image/png": "[encoded data removed]",
      "text/plain": [
       "<Figure size 432x288 with 1 Axes>"
      ]
     },
     "metadata": {
      "needs_background": "light"
     },
     "output_type": "display_data"
    }
   ],
   "source": [
    "# Call an function #1\n",
    "equation = linear_agression(southern_hemisphere[\"Lat\"], southern_hemisphere[\"Wind Speed\"])\n",
    "# Call an function #2\n",
    "annotate(equation, 0, 0)\n",
    "# Set a title\n",
    "plt.title(f'Southern Hemisphere - Wind Speed (%) vs. Latitude Linear Regression {time.strftime(\"%m/%d/%Y\")}')\n",
    "print(f\"Weak Correlation\")\n",
    "\n",
    "# Set xlabel\n",
    "plt.xlabel(\"Latitude\")\n",
    "# Set ylabel\n",
    "plt.ylabel(\"Wind Speed(%)\")\n",
    "# Save the figure\n",
    "plt.savefig(\"../3_output_data/Southern Hemisphere - Wind Speed vs. Latitude Linear Regression.png\")"
   ]
  },
  {
   "cell_type": "markdown",
   "metadata": {},
   "source": [
    "# Conclusion from a one day weather study \n",
    "for over 500 cities arounf the globe\n",
    "\n",
    "For the date and time that this study was done there is just a\n",
    "weak or no correlation exceptt for the difference in temperature \n",
    "in the Northern Hemisphere. The difference in temperature between \n",
    "the cities at the equater and the dities that are farther to the \n",
    "north do have a strong correlation.\n",
    "\n",
    "Since the correlation is weak in 7 of 8 catagories this study \n",
    "should be continued for a larger sample size to see any long term tremds"
   ]
  }
 ],
 "metadata": {
  "anaconda-cloud": {},
  "kernel_info": {
   "name": "python3"
  },
  "kernelspec": {
   "display_name": "Python 3",
   "language": "python",
   "name": "python3"
  },
  "language_info": {
   "codemirror_mode": {
    "name": "ipython",
    "version": 3
   },
   "file_extension": ".py",
   "mimetype": "text/x-python",
   "name": "python",
   "nbconvert_exporter": "python",
   "pygments_lexer": "ipython3",
   "version": "3.6.10"
  },
  "latex_envs": {
   "LaTeX_envs_menu_present": true,
   "autoclose": false,
   "autocomplete": true,
   "bibliofile": "biblio.bib",
   "cite_by": "apalike",
   "current_citInitial": 1,
   "eqLabelWithNumbers": true,
   "eqNumInitial": 1,
   "hotkeys": {
    "equation": "Ctrl-E",
    "itemize": "Ctrl-I"
   },
   "labels_anchors": false,
   "latex_user_defs": false,
   "report_style_numbering": false,
   "user_envs_cfg": false
  },
  "nteract": {
   "version": "0.12.3"
  }
 },
 "nbformat": 4,
 "nbformat_minor": 2
}
