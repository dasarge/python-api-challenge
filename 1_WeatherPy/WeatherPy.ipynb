{
 "cells": [
  {
   "cell_type": "markdown",
   "metadata": {},
   "source": [
    "# WeatherPy\n",
    "----\n",
    "\n",
    "#### Note\n",
    "* Instructions have been included for each segment. You do not have to follow them exactly, but they are included to help you think through the steps."
   ]
  },
  {
   "cell_type": "code",
   "execution_count": 1,
   "metadata": {
    "scrolled": true
   },
   "outputs": [],
   "source": [
    "# Dependencies and Setup\n",
    "import matplotlib.pyplot as plt\n",
    "import pandas as pd\n",
    "import numpy as np\n",
    "import requests\n",
    "import time\n",
    "from scipy.stats import linregress\n",
    "\n",
    "# Import API key\n",
    "from api_keys import weather_api_key\n",
    "\n",
    "# Incorporated citipy to determine city based on latitude and longitude\n",
    "from citipy import citipy\n",
    "\n",
    "# Output File (CSV)\n",
    "output_data_file = \"output_data/cities.csv\"\n",
    "\n",
    "# Range of latitudes and longitudes\n",
    "lat_range = (-5, 5)\n",
    "lng_range = (-15, 15)"
   ]
  },
  {
   "cell_type": "markdown",
   "metadata": {},
   "source": [
    "## Generate Cities List"
   ]
  },
  {
   "cell_type": "code",
   "execution_count": 2,
   "metadata": {},
   "outputs": [
    {
     "data": {
      "text/plain": [
       "109"
      ]
     },
     "execution_count": 2,
     "metadata": {},
     "output_type": "execute_result"
    }
   ],
   "source": [
    "# List for holding lat_lngs and cities\n",
    "lat_lngs = []\n",
    "cities = []\n",
    "\n",
    "# Create a set of random lat and lng combinations\n",
    "lats = np.random.uniform(lat_range[0], lat_range[1], size=1500)\n",
    "lngs = np.random.uniform(lng_range[0], lng_range[1], size=1500)\n",
    "lat_lngs = zip(lats, lngs)\n",
    "\n",
    "# Identify nearest city for each lat, lng combination\n",
    "for lat_lng in lat_lngs:\n",
    "    city = citipy.nearest_city(lat_lng[0], lat_lng[1]).city_name\n",
    "    \n",
    "    # If the city is unique, then add it to a our cities list\n",
    "    if city not in cities:\n",
    "        cities.append(city)\n",
    "\n",
    "# Print the city count to confirm sufficient count\n",
    "len(cities)"
   ]
  },
  {
   "cell_type": "markdown",
   "metadata": {},
   "source": [
    "### Perform API Calls\n",
    "* Perform a weather check on each city using a series of successive API calls.\n",
    "* Include a print log of each city as it'sbeing processed (with the city number and city name).\n"
   ]
  },
  {
   "cell_type": "code",
   "execution_count": 3,
   "metadata": {
    "scrolled": true
   },
   "outputs": [
    {
     "name": "stdout",
     "output_type": "stream",
     "text": [
      "http://api.openweathermap.org/data/2.5/weather?appid=03807ab851ea52cddd7b52d74fcab014&units=imperial&q=\n"
     ]
    }
   ],
   "source": [
    "url = \"http://api.openweathermap.org/data/2.5/weather?\"\n",
    "\n",
    "unit = \"imperial\"\n",
    "\n",
    "query_url = url + \"appid=\" + weather_api_key + \"&units=\" + unit + \"&q=\"\n",
    "\n",
    "print(query_url)\n",
    "\n"
   ]
  },
  {
   "cell_type": "code",
   "execution_count": 11,
   "metadata": {
    "scrolled": true
   },
   "outputs": [
    {
     "name": "stdout",
     "output_type": "stream",
     "text": [
      "not found\n",
      "not found\n",
      "not found\n",
      "not found\n",
      "not found\n"
     ]
    }
   ],
   "source": [
    "temp = []\n",
    "humd = []\n",
    "cloud = []\n",
    "wind_spd = []\n",
    "lat = []\n",
    "lon = []\n",
    "city_ = []\n",
    "country = []\n",
    "\n",
    "\n",
    "for city in cities:\n",
    "    try:\n",
    "        city_data = (requests.get(query_url + city)).json()\n",
    "        temp.append(city_data[\"main\"][\"temp\"])\n",
    "        humd.append(city_data[\"main\"][\"humidity\"])\n",
    "        cloud.append(city_data[\"clouds\"][\"all\"])\n",
    "        wind_spd.append(city_data[\"wind\"][\"speed\"])\n",
    "        lat.append(city_data[\"coord\"][\"lat\"])\n",
    "        lon.append(city_data[\"coord\"][\"lon\"])\n",
    "        city_.append(city_data[\"name\"])\n",
    "        country.append(city_data[\"sys\"][\"country\"])\n",
    "        \n",
    "    except KeyError:\n",
    "        print(\"not found\")"
   ]
  },
  {
   "cell_type": "markdown",
   "metadata": {},
   "source": [
    "### Convert Raw Data to DataFrame\n",
    "* Export the city data into a .csv.\n",
    "* Display the DataFrame"
   ]
  },
  {
   "cell_type": "code",
   "execution_count": 9,
   "metadata": {},
   "outputs": [
    {
     "data": {
      "text/plain": [
       "['Takoradze',\n",
       " 'Tabou',\n",
       " 'Omboué',\n",
       " 'Libreville',\n",
       " 'Port-Gentil',\n",
       " 'Cape Coast',\n",
       " 'Sangmélima',\n",
       " 'Sémbé',\n",
       " 'Harper',\n",
       " 'Monrovia',\n",
       " 'Mitzic',\n",
       " 'Yokadouma',\n",
       " 'Kribi',\n",
       " 'Moanda',\n",
       " 'Winneba',\n",
       " 'Abonnema',\n",
       " 'Esim',\n",
       " 'Mumford',\n",
       " 'George Town',\n",
       " 'Mvangué',\n",
       " 'Makokou',\n",
       " 'Koulamoutou',\n",
       " 'Lagos',\n",
       " 'San-Pédro',\n",
       " 'Mongomo',\n",
       " 'Buchanan',\n",
       " 'Mouila',\n",
       " 'Aconibe',\n",
       " 'Loandjili',\n",
       " 'Mounana',\n",
       " 'Booué',\n",
       " 'Mayumba',\n",
       " 'Yenagoa',\n",
       " 'Sassandra',\n",
       " 'Robertsport',\n",
       " 'Gamba',\n",
       " 'Dolisie',\n",
       " 'Abidjan',\n",
       " 'Anloga',\n",
       " 'Lolodorf',\n",
       " 'Ndjolé',\n",
       " 'Warri',\n",
       " 'Tsogni',\n",
       " 'Bitam',\n",
       " 'Muyuka',\n",
       " 'Djambala',\n",
       " 'Mimongo',\n",
       " 'Abong Mbang',\n",
       " 'Doumé',\n",
       " 'Yabassi',\n",
       " 'Tema',\n",
       " 'Mossendjo',\n",
       " 'Akom',\n",
       " 'Akonolinga',\n",
       " 'Douala',\n",
       " 'Luba',\n",
       " 'Batouri',\n",
       " 'Grand-Lahou',\n",
       " 'Brazzaville',\n",
       " 'Fougamou',\n",
       " 'Lambaréné',\n",
       " 'Ewo',\n",
       " 'Limbe',\n",
       " 'Jacqueville',\n",
       " 'Eséka',\n",
       " 'Lékoni',\n",
       " 'Bonoua',\n",
       " 'Mbini',\n",
       " 'Ndendé',\n",
       " 'Kinkala',\n",
       " 'Ombessa',\n",
       " 'Oyem',\n",
       " 'Mattru',\n",
       " 'Ntoum',\n",
       " 'Bata',\n",
       " 'Madingou',\n",
       " 'Bangangté',\n",
       " 'Nkayi',\n",
       " 'Kumba',\n",
       " 'Tshela',\n",
       " 'Cocobeach',\n",
       " 'Mbigou',\n",
       " 'Tchibanga',\n",
       " 'Evinayong',\n",
       " 'Ambam',\n",
       " 'Cotonou',\n",
       " 'Sekondi',\n",
       " 'Lastoursville',\n",
       " 'Bafia',\n",
       " 'Buea',\n",
       " 'Ntoum',\n",
       " 'Bertoua',\n",
       " 'Edéa',\n",
       " 'Mbalmayo',\n",
       " 'Idenao',\n",
       " 'Sibiti',\n",
       " 'Kango',\n",
       " 'Bonthe',\n",
       " 'Malabo',\n",
       " 'Calabar',\n",
       " 'Aba',\n",
       " 'Nanga Eboko',\n",
       " 'Micomeseng',\n",
       " 'Ébolowa']"
      ]
     },
     "execution_count": 9,
     "metadata": {},
     "output_type": "execute_result"
    }
   ],
   "source": [
    "city_"
   ]
  },
  {
   "cell_type": "code",
   "execution_count": null,
   "metadata": {},
   "outputs": [],
   "source": []
  },
  {
   "cell_type": "code",
   "execution_count": null,
   "metadata": {},
   "outputs": [],
   "source": []
  },
  {
   "cell_type": "markdown",
   "metadata": {},
   "source": [
    "## Inspect the data and remove the cities where the humidity > 100%.\n",
    "----\n",
    "Skip this step if there are no cities that have humidity > 100%. "
   ]
  },
  {
   "cell_type": "code",
   "execution_count": null,
   "metadata": {},
   "outputs": [],
   "source": []
  },
  {
   "cell_type": "code",
   "execution_count": null,
   "metadata": {},
   "outputs": [],
   "source": [
    "#  Get the indices of cities that have humidity over 100%.\n"
   ]
  },
  {
   "cell_type": "code",
   "execution_count": null,
   "metadata": {},
   "outputs": [],
   "source": [
    "# Make a new DataFrame equal to the city data to drop all humidity outliers by index.\n",
    "# Passing \"inplace=False\" will make a copy of the city_data DataFrame, which we call \"clean_city_data\".\n"
   ]
  },
  {
   "cell_type": "code",
   "execution_count": null,
   "metadata": {},
   "outputs": [],
   "source": [
    "\n"
   ]
  },
  {
   "cell_type": "markdown",
   "metadata": {},
   "source": [
    "## Plotting the Data\n",
    "* Use proper labeling of the plots using plot titles (including date of analysis) and axes labels.\n",
    "* Save the plotted figures as .pngs."
   ]
  },
  {
   "cell_type": "markdown",
   "metadata": {},
   "source": [
    "## Latitude vs. Temperature Plot"
   ]
  },
  {
   "cell_type": "code",
   "execution_count": null,
   "metadata": {
    "scrolled": true
   },
   "outputs": [],
   "source": []
  },
  {
   "cell_type": "markdown",
   "metadata": {},
   "source": [
    "## Latitude vs. Humidity Plot"
   ]
  },
  {
   "cell_type": "code",
   "execution_count": null,
   "metadata": {},
   "outputs": [],
   "source": []
  },
  {
   "cell_type": "markdown",
   "metadata": {},
   "source": [
    "## Latitude vs. Cloudiness Plot"
   ]
  },
  {
   "cell_type": "code",
   "execution_count": null,
   "metadata": {},
   "outputs": [],
   "source": []
  },
  {
   "cell_type": "markdown",
   "metadata": {},
   "source": [
    "## Latitude vs. Wind Speed Plot"
   ]
  },
  {
   "cell_type": "code",
   "execution_count": null,
   "metadata": {},
   "outputs": [],
   "source": []
  },
  {
   "cell_type": "markdown",
   "metadata": {},
   "source": [
    "## Linear Regression"
   ]
  },
  {
   "cell_type": "code",
   "execution_count": null,
   "metadata": {},
   "outputs": [],
   "source": []
  },
  {
   "cell_type": "markdown",
   "metadata": {},
   "source": [
    "####  Northern Hemisphere - Max Temp vs. Latitude Linear Regression"
   ]
  },
  {
   "cell_type": "code",
   "execution_count": null,
   "metadata": {},
   "outputs": [],
   "source": []
  },
  {
   "cell_type": "markdown",
   "metadata": {},
   "source": [
    "####  Southern Hemisphere - Max Temp vs. Latitude Linear Regression"
   ]
  },
  {
   "cell_type": "code",
   "execution_count": null,
   "metadata": {},
   "outputs": [],
   "source": []
  },
  {
   "cell_type": "markdown",
   "metadata": {},
   "source": [
    "####  Northern Hemisphere - Humidity (%) vs. Latitude Linear Regression"
   ]
  },
  {
   "cell_type": "code",
   "execution_count": null,
   "metadata": {},
   "outputs": [],
   "source": []
  },
  {
   "cell_type": "markdown",
   "metadata": {},
   "source": [
    "####  Southern Hemisphere - Humidity (%) vs. Latitude Linear Regression"
   ]
  },
  {
   "cell_type": "code",
   "execution_count": null,
   "metadata": {},
   "outputs": [],
   "source": []
  },
  {
   "cell_type": "markdown",
   "metadata": {},
   "source": [
    "####  Northern Hemisphere - Cloudiness (%) vs. Latitude Linear Regression"
   ]
  },
  {
   "cell_type": "code",
   "execution_count": null,
   "metadata": {},
   "outputs": [],
   "source": []
  },
  {
   "cell_type": "markdown",
   "metadata": {},
   "source": [
    "####  Southern Hemisphere - Cloudiness (%) vs. Latitude Linear Regression"
   ]
  },
  {
   "cell_type": "code",
   "execution_count": null,
   "metadata": {},
   "outputs": [],
   "source": []
  },
  {
   "cell_type": "markdown",
   "metadata": {},
   "source": [
    "####  Northern Hemisphere - Wind Speed (mph) vs. Latitude Linear Regression"
   ]
  },
  {
   "cell_type": "code",
   "execution_count": null,
   "metadata": {},
   "outputs": [],
   "source": []
  },
  {
   "cell_type": "markdown",
   "metadata": {},
   "source": [
    "####  Southern Hemisphere - Wind Speed (mph) vs. Latitude Linear Regression"
   ]
  },
  {
   "cell_type": "code",
   "execution_count": null,
   "metadata": {},
   "outputs": [],
   "source": []
  },
  {
   "cell_type": "code",
   "execution_count": null,
   "metadata": {},
   "outputs": [],
   "source": []
  }
 ],
 "metadata": {
  "anaconda-cloud": {},
  "kernel_info": {
   "name": "python3"
  },
  "kernelspec": {
   "display_name": "Python 3",
   "language": "python",
   "name": "python3"
  },
  "language_info": {
   "codemirror_mode": {
    "name": "ipython",
    "version": 3
   },
   "file_extension": ".py",
   "mimetype": "text/x-python",
   "name": "python",
   "nbconvert_exporter": "python",
   "pygments_lexer": "ipython3",
   "version": "3.6.10"
  },
  "latex_envs": {
   "LaTeX_envs_menu_present": true,
   "autoclose": false,
   "autocomplete": true,
   "bibliofile": "biblio.bib",
   "cite_by": "apalike",
   "current_citInitial": 1,
   "eqLabelWithNumbers": true,
   "eqNumInitial": 1,
   "hotkeys": {
    "equation": "Ctrl-E",
    "itemize": "Ctrl-I"
   },
   "labels_anchors": false,
   "latex_user_defs": false,
   "report_style_numbering": false,
   "user_envs_cfg": false
  },
  "nteract": {
   "version": "0.12.3"
  }
 },
 "nbformat": 4,
 "nbformat_minor": 2
}
