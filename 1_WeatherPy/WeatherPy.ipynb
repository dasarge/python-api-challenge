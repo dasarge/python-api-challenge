{
 "cells": [
  {
   "cell_type": "markdown",
   "metadata": {},
   "source": [
    "# WeatherPy\n",
    "----\n",
    "\n",
    "#### Note\n",
    "* Instructions have been included for each segment. You do not have to follow them exactly, but they are included to help you think through the steps."
   ]
  },
  {
   "cell_type": "code",
   "execution_count": 1,
   "metadata": {
    "scrolled": true
   },
   "outputs": [],
   "source": [
    "# Dependencies and Setup\n",
    "import matplotlib.pyplot as plt\n",
    "import pandas as pd\n",
    "import numpy as np\n",
    "import requests\n",
    "import time\n",
    "from scipy.stats import linregress\n",
    "\n",
    "# Import API key\n",
    "from api_keys import weather_api_key\n",
    "\n",
    "# Incorporated citipy to determine city based on latitude and longitude\n",
    "from citipy import citipy\n",
    "\n",
    "# Output File (CSV)\n",
    "output_data_file = (\"..\", \"output_data/cities.csv\")\n",
    "\n",
    "# Range of latitudes and longitudes\n",
    "lat_range = (-5, 5)\n",
    "lng_range = (-5, 5)"
   ]
  },
  {
   "cell_type": "markdown",
   "metadata": {},
   "source": [
    "## Generate Cities List"
   ]
  },
  {
   "cell_type": "code",
   "execution_count": 2,
   "metadata": {},
   "outputs": [
    {
     "data": {
      "text/plain": [
       "26"
      ]
     },
     "execution_count": 2,
     "metadata": {},
     "output_type": "execute_result"
    }
   ],
   "source": [
    "# List for holding lat_lngs and cities\n",
    "lat_lngs = []\n",
    "cities = []\n",
    "\n",
    "# Create a set of random lat and lng combinations\n",
    "lats = np.random.uniform(lat_range[0], lat_range[1], size=1500)\n",
    "lngs = np.random.uniform(lng_range[0], lng_range[1], size=1500)\n",
    "lat_lngs = zip(lats, lngs)\n",
    "\n",
    "# Identify nearest city for each lat, lng combination\n",
    "for lat_lng in lat_lngs:\n",
    "    city = citipy.nearest_city(lat_lng[0], lat_lng[1]).city_name\n",
    "    \n",
    "    # If the city is unique, then add it to a our cities list\n",
    "    if city not in cities:\n",
    "        cities.append(city)\n",
    "\n",
    "# Print the city count to confirm sufficient count\n",
    "len(cities)"
   ]
  },
  {
   "cell_type": "markdown",
   "metadata": {},
   "source": [
    "### Perform API Calls\n",
    "* Perform a weather check on each city using a series of successive API calls.\n",
    "* Include a print log of each city as it'sbeing processed (with the city number and city name).\n"
   ]
  },
  {
   "cell_type": "code",
   "execution_count": 3,
   "metadata": {
    "scrolled": true
   },
   "outputs": [
    {
     "name": "stdout",
     "output_type": "stream",
     "text": [
      "http://api.openweathermap.org/data/2.5/weather?appid=03807ab851ea52cddd7b52d74fcab014&units=imperial&q=\n"
     ]
    }
   ],
   "source": [
    "url = \"http://api.openweathermap.org/data/2.5/weather?\"\n",
    "\n",
    "unit = \"imperial\"\n",
    "\n",
    "query_url = url + \"appid=\" + weather_api_key + \"&units=\" + unit + \"&q=\"\n",
    "\n",
    "print(query_url)\n",
    "\n"
   ]
  },
  {
   "cell_type": "code",
   "execution_count": 4,
   "metadata": {
    "scrolled": true
   },
   "outputs": [],
   "source": [
    "temp = []\n",
    "humd = []\n",
    "cloud = []\n",
    "wind_spd = []\n",
    "lat = []\n",
    "lon = []\n",
    "city_ = []\n",
    "city_no = []\n",
    "country = []\n",
    "max_t = []\n",
    "date = []\n",
    "\n",
    "\n",
    "for city in cities:\n",
    "    try:\n",
    "        city_data = (requests.get(query_url + city)).json()\n",
    "        temp.append(city_data[\"main\"][\"temp\"])\n",
    "        humd.append(city_data[\"main\"][\"humidity\"])\n",
    "        cloud.append(city_data[\"clouds\"][\"all\"])\n",
    "        wind_spd.append(city_data[\"wind\"][\"speed\"])\n",
    "        lat.append(city_data[\"coord\"][\"lat\"])\n",
    "        lon.append(city_data[\"coord\"][\"lon\"])\n",
    "        city_.append(city_data[\"name\"])\n",
    "        city_no.append(city_data[\"id\"])\n",
    "        country.append(city_data[\"sys\"][\"country\"])\n",
    "        max_t.append(city_data[\"main\"][\"temp_max\"])\n",
    "        date.append(city_data[\"dt\"])\n",
    "        \n",
    "    except KeyError:\n",
    "        print(\"not found\")"
   ]
  },
  {
   "cell_type": "code",
   "execution_count": 6,
   "metadata": {},
   "outputs": [
    {
     "data": {
      "text/plain": [
       "25"
      ]
     },
     "execution_count": 6,
     "metadata": {},
     "output_type": "execute_result"
    }
   ],
   "source": [
    "len(date)"
   ]
  },
  {
   "cell_type": "code",
   "execution_count": 7,
   "metadata": {
    "scrolled": true
   },
   "outputs": [
    {
     "data": {
      "text/html": [
       "<div>\n",
       "<style scoped>\n",
       "    .dataframe tbody tr th:only-of-type {\n",
       "        vertical-align: middle;\n",
       "    }\n",
       "\n",
       "    .dataframe tbody tr th {\n",
       "        vertical-align: top;\n",
       "    }\n",
       "\n",
       "    .dataframe thead th {\n",
       "        text-align: right;\n",
       "    }\n",
       "</style>\n",
       "<table border=\"1\" class=\"dataframe\">\n",
       "  <thead>\n",
       "    <tr style=\"text-align: right;\">\n",
       "      <th></th>\n",
       "      <th>City</th>\n",
       "      <th>City Number</th>\n",
       "      <th>Lat</th>\n",
       "      <th>Lng</th>\n",
       "      <th>Max Temp</th>\n",
       "      <th>Humidity</th>\n",
       "      <th>Cloudiness</th>\n",
       "      <th>Wind Speed</th>\n",
       "      <th>Country</th>\n",
       "      <th>Date</th>\n",
       "    </tr>\n",
       "  </thead>\n",
       "  <tbody>\n",
       "    <tr>\n",
       "      <th>0</th>\n",
       "      <td>Anloga</td>\n",
       "      <td>2304548</td>\n",
       "      <td>5.7947</td>\n",
       "      <td>0.8973</td>\n",
       "      <td>82.40</td>\n",
       "      <td>89</td>\n",
       "      <td>20</td>\n",
       "      <td>5.75</td>\n",
       "      <td>GH</td>\n",
       "      <td>1612052542</td>\n",
       "    </tr>\n",
       "    <tr>\n",
       "      <th>1</th>\n",
       "      <td>Takoradze</td>\n",
       "      <td>2294915</td>\n",
       "      <td>4.8845</td>\n",
       "      <td>-1.7554</td>\n",
       "      <td>79.27</td>\n",
       "      <td>88</td>\n",
       "      <td>100</td>\n",
       "      <td>6.82</td>\n",
       "      <td>GH</td>\n",
       "      <td>1612052506</td>\n",
       "    </tr>\n",
       "    <tr>\n",
       "      <th>2</th>\n",
       "      <td>Esim</td>\n",
       "      <td>2303611</td>\n",
       "      <td>4.8699</td>\n",
       "      <td>-2.2405</td>\n",
       "      <td>79.21</td>\n",
       "      <td>88</td>\n",
       "      <td>96</td>\n",
       "      <td>6.80</td>\n",
       "      <td>GH</td>\n",
       "      <td>1612052541</td>\n",
       "    </tr>\n",
       "    <tr>\n",
       "      <th>3</th>\n",
       "      <td>Omboué</td>\n",
       "      <td>2396853</td>\n",
       "      <td>-1.5746</td>\n",
       "      <td>9.2618</td>\n",
       "      <td>75.49</td>\n",
       "      <td>89</td>\n",
       "      <td>100</td>\n",
       "      <td>3.29</td>\n",
       "      <td>GA</td>\n",
       "      <td>1612052543</td>\n",
       "    </tr>\n",
       "    <tr>\n",
       "      <th>4</th>\n",
       "      <td>Cotonou</td>\n",
       "      <td>2394819</td>\n",
       "      <td>6.3654</td>\n",
       "      <td>2.4183</td>\n",
       "      <td>84.20</td>\n",
       "      <td>84</td>\n",
       "      <td>40</td>\n",
       "      <td>11.50</td>\n",
       "      <td>BJ</td>\n",
       "      <td>1612052543</td>\n",
       "    </tr>\n",
       "    <tr>\n",
       "      <th>5</th>\n",
       "      <td>Port-Gentil</td>\n",
       "      <td>2396518</td>\n",
       "      <td>-0.7193</td>\n",
       "      <td>8.7815</td>\n",
       "      <td>77.00</td>\n",
       "      <td>88</td>\n",
       "      <td>90</td>\n",
       "      <td>13.80</td>\n",
       "      <td>GA</td>\n",
       "      <td>1612052541</td>\n",
       "    </tr>\n",
       "    <tr>\n",
       "      <th>6</th>\n",
       "      <td>Lagos</td>\n",
       "      <td>2332453</td>\n",
       "      <td>6.5833</td>\n",
       "      <td>3.7500</td>\n",
       "      <td>80.60</td>\n",
       "      <td>89</td>\n",
       "      <td>20</td>\n",
       "      <td>2.30</td>\n",
       "      <td>NG</td>\n",
       "      <td>1612052260</td>\n",
       "    </tr>\n",
       "    <tr>\n",
       "      <th>7</th>\n",
       "      <td>Grand-Lahou</td>\n",
       "      <td>2288105</td>\n",
       "      <td>5.1367</td>\n",
       "      <td>-5.0242</td>\n",
       "      <td>79.39</td>\n",
       "      <td>88</td>\n",
       "      <td>100</td>\n",
       "      <td>9.78</td>\n",
       "      <td>CI</td>\n",
       "      <td>1612052543</td>\n",
       "    </tr>\n",
       "    <tr>\n",
       "      <th>8</th>\n",
       "      <td>Yenagoa</td>\n",
       "      <td>2318123</td>\n",
       "      <td>4.9247</td>\n",
       "      <td>6.2642</td>\n",
       "      <td>78.58</td>\n",
       "      <td>86</td>\n",
       "      <td>0</td>\n",
       "      <td>3.71</td>\n",
       "      <td>NG</td>\n",
       "      <td>1612052542</td>\n",
       "    </tr>\n",
       "    <tr>\n",
       "      <th>9</th>\n",
       "      <td>Tabou</td>\n",
       "      <td>2281120</td>\n",
       "      <td>4.4230</td>\n",
       "      <td>-7.3528</td>\n",
       "      <td>78.64</td>\n",
       "      <td>88</td>\n",
       "      <td>66</td>\n",
       "      <td>7.90</td>\n",
       "      <td>CI</td>\n",
       "      <td>1612052543</td>\n",
       "    </tr>\n",
       "    <tr>\n",
       "      <th>10</th>\n",
       "      <td>Aného</td>\n",
       "      <td>2367990</td>\n",
       "      <td>6.2333</td>\n",
       "      <td>1.6000</td>\n",
       "      <td>82.40</td>\n",
       "      <td>89</td>\n",
       "      <td>20</td>\n",
       "      <td>5.75</td>\n",
       "      <td>TG</td>\n",
       "      <td>1612052743</td>\n",
       "    </tr>\n",
       "    <tr>\n",
       "      <th>11</th>\n",
       "      <td>Mumford</td>\n",
       "      <td>2297810</td>\n",
       "      <td>5.2618</td>\n",
       "      <td>-0.7590</td>\n",
       "      <td>79.57</td>\n",
       "      <td>89</td>\n",
       "      <td>55</td>\n",
       "      <td>9.10</td>\n",
       "      <td>GH</td>\n",
       "      <td>1612052542</td>\n",
       "    </tr>\n",
       "    <tr>\n",
       "      <th>12</th>\n",
       "      <td>Warri</td>\n",
       "      <td>2319133</td>\n",
       "      <td>5.5167</td>\n",
       "      <td>5.7500</td>\n",
       "      <td>78.94</td>\n",
       "      <td>84</td>\n",
       "      <td>0</td>\n",
       "      <td>2.13</td>\n",
       "      <td>NG</td>\n",
       "      <td>1612052543</td>\n",
       "    </tr>\n",
       "    <tr>\n",
       "      <th>13</th>\n",
       "      <td>Jacqueville</td>\n",
       "      <td>2287778</td>\n",
       "      <td>5.2052</td>\n",
       "      <td>-4.4146</td>\n",
       "      <td>80.60</td>\n",
       "      <td>94</td>\n",
       "      <td>20</td>\n",
       "      <td>6.91</td>\n",
       "      <td>CI</td>\n",
       "      <td>1612052542</td>\n",
       "    </tr>\n",
       "    <tr>\n",
       "      <th>14</th>\n",
       "      <td>Bonoua</td>\n",
       "      <td>2291087</td>\n",
       "      <td>5.2741</td>\n",
       "      <td>-3.5950</td>\n",
       "      <td>80.60</td>\n",
       "      <td>94</td>\n",
       "      <td>20</td>\n",
       "      <td>6.91</td>\n",
       "      <td>CI</td>\n",
       "      <td>1612052544</td>\n",
       "    </tr>\n",
       "    <tr>\n",
       "      <th>15</th>\n",
       "      <td>Elmina</td>\n",
       "      <td>2301190</td>\n",
       "      <td>5.0898</td>\n",
       "      <td>-1.3480</td>\n",
       "      <td>79.43</td>\n",
       "      <td>89</td>\n",
       "      <td>90</td>\n",
       "      <td>7.23</td>\n",
       "      <td>GH</td>\n",
       "      <td>1612052463</td>\n",
       "    </tr>\n",
       "    <tr>\n",
       "      <th>16</th>\n",
       "      <td>San-Pédro</td>\n",
       "      <td>2282006</td>\n",
       "      <td>4.7485</td>\n",
       "      <td>-6.6363</td>\n",
       "      <td>78.04</td>\n",
       "      <td>90</td>\n",
       "      <td>42</td>\n",
       "      <td>7.54</td>\n",
       "      <td>CI</td>\n",
       "      <td>1612052543</td>\n",
       "    </tr>\n",
       "    <tr>\n",
       "      <th>17</th>\n",
       "      <td>Cape Coast</td>\n",
       "      <td>2302357</td>\n",
       "      <td>5.1053</td>\n",
       "      <td>-1.2466</td>\n",
       "      <td>79.56</td>\n",
       "      <td>88</td>\n",
       "      <td>84</td>\n",
       "      <td>7.96</td>\n",
       "      <td>GH</td>\n",
       "      <td>1612052542</td>\n",
       "    </tr>\n",
       "    <tr>\n",
       "      <th>18</th>\n",
       "      <td>Teshie</td>\n",
       "      <td>2294665</td>\n",
       "      <td>5.5836</td>\n",
       "      <td>-0.1072</td>\n",
       "      <td>82.40</td>\n",
       "      <td>89</td>\n",
       "      <td>20</td>\n",
       "      <td>10.36</td>\n",
       "      <td>GH</td>\n",
       "      <td>1612052542</td>\n",
       "    </tr>\n",
       "    <tr>\n",
       "      <th>19</th>\n",
       "      <td>Tema</td>\n",
       "      <td>2294700</td>\n",
       "      <td>5.6670</td>\n",
       "      <td>-0.0166</td>\n",
       "      <td>82.40</td>\n",
       "      <td>89</td>\n",
       "      <td>20</td>\n",
       "      <td>10.36</td>\n",
       "      <td>GH</td>\n",
       "      <td>1612052544</td>\n",
       "    </tr>\n",
       "    <tr>\n",
       "      <th>20</th>\n",
       "      <td>Winneba</td>\n",
       "      <td>2294034</td>\n",
       "      <td>5.3511</td>\n",
       "      <td>-0.6231</td>\n",
       "      <td>82.40</td>\n",
       "      <td>89</td>\n",
       "      <td>20</td>\n",
       "      <td>10.36</td>\n",
       "      <td>GH</td>\n",
       "      <td>1612052542</td>\n",
       "    </tr>\n",
       "    <tr>\n",
       "      <th>21</th>\n",
       "      <td>Adiaké</td>\n",
       "      <td>2293428</td>\n",
       "      <td>5.2863</td>\n",
       "      <td>-3.3040</td>\n",
       "      <td>80.60</td>\n",
       "      <td>94</td>\n",
       "      <td>20</td>\n",
       "      <td>6.91</td>\n",
       "      <td>CI</td>\n",
       "      <td>1612052291</td>\n",
       "    </tr>\n",
       "    <tr>\n",
       "      <th>22</th>\n",
       "      <td>Saltpond</td>\n",
       "      <td>2295672</td>\n",
       "      <td>5.2091</td>\n",
       "      <td>-1.0606</td>\n",
       "      <td>79.63</td>\n",
       "      <td>88</td>\n",
       "      <td>53</td>\n",
       "      <td>8.30</td>\n",
       "      <td>GH</td>\n",
       "      <td>1612052745</td>\n",
       "    </tr>\n",
       "    <tr>\n",
       "      <th>23</th>\n",
       "      <td>Abidjan</td>\n",
       "      <td>2293538</td>\n",
       "      <td>5.3094</td>\n",
       "      <td>-4.0197</td>\n",
       "      <td>80.60</td>\n",
       "      <td>94</td>\n",
       "      <td>20</td>\n",
       "      <td>6.91</td>\n",
       "      <td>CI</td>\n",
       "      <td>1612052544</td>\n",
       "    </tr>\n",
       "    <tr>\n",
       "      <th>24</th>\n",
       "      <td>Epe</td>\n",
       "      <td>2343252</td>\n",
       "      <td>6.5841</td>\n",
       "      <td>3.9834</td>\n",
       "      <td>78.03</td>\n",
       "      <td>92</td>\n",
       "      <td>2</td>\n",
       "      <td>2.95</td>\n",
       "      <td>NG</td>\n",
       "      <td>1612052745</td>\n",
       "    </tr>\n",
       "    <tr>\n",
       "      <th>25</th>\n",
       "      <td>Sassandra</td>\n",
       "      <td>2281951</td>\n",
       "      <td>4.9500</td>\n",
       "      <td>-6.0833</td>\n",
       "      <td>77.40</td>\n",
       "      <td>91</td>\n",
       "      <td>90</td>\n",
       "      <td>6.26</td>\n",
       "      <td>CI</td>\n",
       "      <td>1612052544</td>\n",
       "    </tr>\n",
       "  </tbody>\n",
       "</table>\n",
       "</div>"
      ],
      "text/plain": [
       "           City  City Number     Lat     Lng  Max Temp  Humidity  Cloudiness  \\\n",
       "0        Anloga      2304548  5.7947  0.8973     82.40        89          20   \n",
       "1     Takoradze      2294915  4.8845 -1.7554     79.27        88         100   \n",
       "2          Esim      2303611  4.8699 -2.2405     79.21        88          96   \n",
       "3        Omboué      2396853 -1.5746  9.2618     75.49        89         100   \n",
       "4       Cotonou      2394819  6.3654  2.4183     84.20        84          40   \n",
       "5   Port-Gentil      2396518 -0.7193  8.7815     77.00        88          90   \n",
       "6         Lagos      2332453  6.5833  3.7500     80.60        89          20   \n",
       "7   Grand-Lahou      2288105  5.1367 -5.0242     79.39        88         100   \n",
       "8       Yenagoa      2318123  4.9247  6.2642     78.58        86           0   \n",
       "9         Tabou      2281120  4.4230 -7.3528     78.64        88          66   \n",
       "10        Aného      2367990  6.2333  1.6000     82.40        89          20   \n",
       "11      Mumford      2297810  5.2618 -0.7590     79.57        89          55   \n",
       "12        Warri      2319133  5.5167  5.7500     78.94        84           0   \n",
       "13  Jacqueville      2287778  5.2052 -4.4146     80.60        94          20   \n",
       "14       Bonoua      2291087  5.2741 -3.5950     80.60        94          20   \n",
       "15       Elmina      2301190  5.0898 -1.3480     79.43        89          90   \n",
       "16    San-Pédro      2282006  4.7485 -6.6363     78.04        90          42   \n",
       "17   Cape Coast      2302357  5.1053 -1.2466     79.56        88          84   \n",
       "18       Teshie      2294665  5.5836 -0.1072     82.40        89          20   \n",
       "19         Tema      2294700  5.6670 -0.0166     82.40        89          20   \n",
       "20      Winneba      2294034  5.3511 -0.6231     82.40        89          20   \n",
       "21       Adiaké      2293428  5.2863 -3.3040     80.60        94          20   \n",
       "22     Saltpond      2295672  5.2091 -1.0606     79.63        88          53   \n",
       "23      Abidjan      2293538  5.3094 -4.0197     80.60        94          20   \n",
       "24          Epe      2343252  6.5841  3.9834     78.03        92           2   \n",
       "25    Sassandra      2281951  4.9500 -6.0833     77.40        91          90   \n",
       "\n",
       "    Wind Speed Country        Date  \n",
       "0         5.75      GH  1612052542  \n",
       "1         6.82      GH  1612052506  \n",
       "2         6.80      GH  1612052541  \n",
       "3         3.29      GA  1612052543  \n",
       "4        11.50      BJ  1612052543  \n",
       "5        13.80      GA  1612052541  \n",
       "6         2.30      NG  1612052260  \n",
       "7         9.78      CI  1612052543  \n",
       "8         3.71      NG  1612052542  \n",
       "9         7.90      CI  1612052543  \n",
       "10        5.75      TG  1612052743  \n",
       "11        9.10      GH  1612052542  \n",
       "12        2.13      NG  1612052543  \n",
       "13        6.91      CI  1612052542  \n",
       "14        6.91      CI  1612052544  \n",
       "15        7.23      GH  1612052463  \n",
       "16        7.54      CI  1612052543  \n",
       "17        7.96      GH  1612052542  \n",
       "18       10.36      GH  1612052542  \n",
       "19       10.36      GH  1612052544  \n",
       "20       10.36      GH  1612052542  \n",
       "21        6.91      CI  1612052291  \n",
       "22        8.30      GH  1612052745  \n",
       "23        6.91      CI  1612052544  \n",
       "24        2.95      NG  1612052745  \n",
       "25        6.26      CI  1612052544  "
      ]
     },
     "execution_count": 7,
     "metadata": {},
     "output_type": "execute_result"
    }
   ],
   "source": [
    "# summary_grouped_df = pd.DataFrame({'Mean Tumor Volume (mm3)': tumor_mean, 'Median Tumor Volume (mm3)': tumor_median, 'Variance Tumor Volume (mm3)': tumor_var,\n",
    "#                                    'Standard Deviation Tumor Volume (mm3)': tumor_std, 'SEM Tumor Volume (mm3)': tumor_sem})\n",
    "\n",
    "\n",
    "# summary_grouped_df = pd.DataFrame({\"City\": city_, \"Lat\": lat, \"Lng\": lon, \"Max Temp\": max_t, \"Humidity\": humd, \"Cloudiness\": cloud, \"Wind Speed\": wind_spd, \"date\": date})\n",
    "\n",
    "\n",
    "\n",
    "summary_grouped_df = pd.DataFrame({\"City\": city_, \"City Number\": city_no, \"Lat\": lat, \"Lng\": lon, \"Max Temp\": max_t, \"Humidity\": humd, \"Cloudiness\": cloud, \"Wind Speed\": wind_spd, \"Country\": country, \"Date\": date})\n",
    "\n",
    "summary_grouped_df"
   ]
  },
  {
   "cell_type": "code",
   "execution_count": 26,
   "metadata": {},
   "outputs": [
    {
     "data": {
      "text/plain": [
       "pandas.core.frame.DataFrame"
      ]
     },
     "execution_count": 26,
     "metadata": {},
     "output_type": "execute_result"
    }
   ],
   "source": [
    "type(summary_grouped_df)"
   ]
  },
  {
   "cell_type": "markdown",
   "metadata": {},
   "source": [
    "### Convert Raw Data to DataFrame\n",
    "* Export the city data into a .csv.\n",
    "* Display the DataFrame"
   ]
  },
  {
   "cell_type": "code",
   "execution_count": 5,
   "metadata": {
    "scrolled": false
   },
   "outputs": [
    {
     "data": {
      "text/plain": [
       "['Port-Gentil',\n",
       " 'Omboué',\n",
       " 'Esim',\n",
       " 'Mumford',\n",
       " 'Takoradze',\n",
       " 'Adiaké',\n",
       " 'Anloga',\n",
       " 'Bonoua',\n",
       " 'Tabou',\n",
       " 'Grand-Lahou',\n",
       " 'Yenagoa',\n",
       " 'Aného',\n",
       " 'Winneba',\n",
       " 'Warri',\n",
       " 'Tema',\n",
       " 'Cape Coast',\n",
       " 'Jacqueville',\n",
       " 'Cotonou',\n",
       " 'Lagos',\n",
       " 'Teshie',\n",
       " 'San-Pédro',\n",
       " 'Accra',\n",
       " 'Sekondi',\n",
       " 'Abidjan',\n",
       " 'Epe',\n",
       " 'Shama',\n",
       " 'Saltpond',\n",
       " 'Sassandra']"
      ]
     },
     "execution_count": 5,
     "metadata": {},
     "output_type": "execute_result"
    }
   ],
   "source": [
    "city_"
   ]
  },
  {
   "cell_type": "code",
   "execution_count": null,
   "metadata": {},
   "outputs": [],
   "source": []
  },
  {
   "cell_type": "markdown",
   "metadata": {},
   "source": [
    "## Inspect the data and remove the cities where the humidity > 100%.\n",
    "----\n",
    "Skip this step if there are no cities that have humidity > 100%. "
   ]
  },
  {
   "cell_type": "code",
   "execution_count": null,
   "metadata": {},
   "outputs": [],
   "source": []
  },
  {
   "cell_type": "code",
   "execution_count": null,
   "metadata": {},
   "outputs": [],
   "source": [
    "#  Get the indices of cities that have humidity over 100%.\n"
   ]
  },
  {
   "cell_type": "code",
   "execution_count": null,
   "metadata": {},
   "outputs": [],
   "source": [
    "# Make a new DataFrame equal to the city data to drop all humidity outliers by index.\n",
    "# Passing \"inplace=False\" will make a copy of the city_data DataFrame, which we call \"clean_city_data\".\n"
   ]
  },
  {
   "cell_type": "code",
   "execution_count": null,
   "metadata": {},
   "outputs": [],
   "source": [
    "\n"
   ]
  },
  {
   "cell_type": "markdown",
   "metadata": {},
   "source": [
    "## Plotting the Data\n",
    "* Use proper labeling of the plots using plot titles (including date of analysis) and axes labels.\n",
    "* Save the plotted figures as .pngs."
   ]
  },
  {
   "cell_type": "markdown",
   "metadata": {},
   "source": [
    "## Latitude vs. Temperature Plot"
   ]
  },
  {
   "cell_type": "code",
   "execution_count": null,
   "metadata": {
    "scrolled": true
   },
   "outputs": [],
   "source": []
  },
  {
   "cell_type": "markdown",
   "metadata": {},
   "source": [
    "## Latitude vs. Humidity Plot"
   ]
  },
  {
   "cell_type": "code",
   "execution_count": null,
   "metadata": {},
   "outputs": [],
   "source": []
  },
  {
   "cell_type": "markdown",
   "metadata": {},
   "source": [
    "## Latitude vs. Cloudiness Plot"
   ]
  },
  {
   "cell_type": "code",
   "execution_count": null,
   "metadata": {},
   "outputs": [],
   "source": []
  },
  {
   "cell_type": "markdown",
   "metadata": {},
   "source": [
    "## Latitude vs. Wind Speed Plot"
   ]
  },
  {
   "cell_type": "code",
   "execution_count": null,
   "metadata": {},
   "outputs": [],
   "source": []
  },
  {
   "cell_type": "markdown",
   "metadata": {},
   "source": [
    "## Linear Regression"
   ]
  },
  {
   "cell_type": "code",
   "execution_count": null,
   "metadata": {},
   "outputs": [],
   "source": []
  },
  {
   "cell_type": "markdown",
   "metadata": {},
   "source": [
    "####  Northern Hemisphere - Max Temp vs. Latitude Linear Regression"
   ]
  },
  {
   "cell_type": "code",
   "execution_count": null,
   "metadata": {},
   "outputs": [],
   "source": []
  },
  {
   "cell_type": "markdown",
   "metadata": {},
   "source": [
    "####  Southern Hemisphere - Max Temp vs. Latitude Linear Regression"
   ]
  },
  {
   "cell_type": "code",
   "execution_count": null,
   "metadata": {},
   "outputs": [],
   "source": []
  },
  {
   "cell_type": "markdown",
   "metadata": {},
   "source": [
    "####  Northern Hemisphere - Humidity (%) vs. Latitude Linear Regression"
   ]
  },
  {
   "cell_type": "code",
   "execution_count": null,
   "metadata": {},
   "outputs": [],
   "source": []
  },
  {
   "cell_type": "markdown",
   "metadata": {},
   "source": [
    "####  Southern Hemisphere - Humidity (%) vs. Latitude Linear Regression"
   ]
  },
  {
   "cell_type": "code",
   "execution_count": null,
   "metadata": {},
   "outputs": [],
   "source": []
  },
  {
   "cell_type": "markdown",
   "metadata": {},
   "source": [
    "####  Northern Hemisphere - Cloudiness (%) vs. Latitude Linear Regression"
   ]
  },
  {
   "cell_type": "code",
   "execution_count": null,
   "metadata": {},
   "outputs": [],
   "source": []
  },
  {
   "cell_type": "markdown",
   "metadata": {},
   "source": [
    "####  Southern Hemisphere - Cloudiness (%) vs. Latitude Linear Regression"
   ]
  },
  {
   "cell_type": "code",
   "execution_count": null,
   "metadata": {},
   "outputs": [],
   "source": []
  },
  {
   "cell_type": "markdown",
   "metadata": {},
   "source": [
    "####  Northern Hemisphere - Wind Speed (mph) vs. Latitude Linear Regression"
   ]
  },
  {
   "cell_type": "code",
   "execution_count": null,
   "metadata": {},
   "outputs": [],
   "source": []
  },
  {
   "cell_type": "markdown",
   "metadata": {},
   "source": [
    "####  Southern Hemisphere - Wind Speed (mph) vs. Latitude Linear Regression"
   ]
  },
  {
   "cell_type": "code",
   "execution_count": null,
   "metadata": {},
   "outputs": [],
   "source": []
  },
  {
   "cell_type": "code",
   "execution_count": null,
   "metadata": {},
   "outputs": [],
   "source": []
  }
 ],
 "metadata": {
  "anaconda-cloud": {},
  "kernel_info": {
   "name": "python3"
  },
  "kernelspec": {
   "display_name": "Python 3",
   "language": "python",
   "name": "python3"
  },
  "language_info": {
   "codemirror_mode": {
    "name": "ipython",
    "version": 3
   },
   "file_extension": ".py",
   "mimetype": "text/x-python",
   "name": "python",
   "nbconvert_exporter": "python",
   "pygments_lexer": "ipython3",
   "version": "3.6.10"
  },
  "latex_envs": {
   "LaTeX_envs_menu_present": true,
   "autoclose": false,
   "autocomplete": true,
   "bibliofile": "biblio.bib",
   "cite_by": "apalike",
   "current_citInitial": 1,
   "eqLabelWithNumbers": true,
   "eqNumInitial": 1,
   "hotkeys": {
    "equation": "Ctrl-E",
    "itemize": "Ctrl-I"
   },
   "labels_anchors": false,
   "latex_user_defs": false,
   "report_style_numbering": false,
   "user_envs_cfg": false
  },
  "nteract": {
   "version": "0.12.3"
  }
 },
 "nbformat": 4,
 "nbformat_minor": 2
}
